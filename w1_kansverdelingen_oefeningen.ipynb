{
 "cells": [
  {
   "cell_type": "markdown",
   "metadata": {
    "collapsed": true,
    "pycharm": {
     "name": "#%% md\n"
    }
   },
   "source": [
    "# Kansverdelingen\n",
    "\n",
    "Een belangrijke competentie die je moet leren is de juiste kansverdeling te bepalen voor een bepaalde opgave.\n",
    "Stel jezelf op een examen ook steeds de vraag of de opgave niet opgelost kan worden m.b.v. een kansverdeling.\n",
    "\n",
    "Een kans verdeling kan een **discreete kans** zijn of een **continue toevalsveranderlijke**\n",
    "* Discrete kansen hebben een vast aantal waarden.\n",
    " (bv. 6 zijden van een dobbelsteen)\n",
    "* Continue toevalsveranderlijke nemen waardes aan na de komma   (bv. de lengte in een populatie tussen 150cm en 180cm)\n",
    "\n",
    "\n",
    "\n",
    "## Discreete kans\n",
    "Bij kansverdelingen zetten we een uitkomst van de verzameling om naar een getal waarbij dat getal dan een bepaalde kans voorsteld.\n",
    "<br/>\n",
    "<br/>bv. Als we **1 stip** werpen dan verdienen we **10 euro** de kans dat\n",
    "deze gebeurtenis plaats vindt is **1/6**\n",
    "<br/>bv. Als we **2-3-4-5-6 stipen** werpen dan verliezen we **1 euro** de kans dat\n",
    "deze gebeurtenis plaats vindt is **5/6**\n",
    "\n",
    "## Vewachtinswaarde van een discreete kans\n",
    "\n",
    "Is de sommatie van alle x waarden en de kans op x\n",
    "\n",
    "<pre>bv dobbelsteen\n",
    "E(X)= f(1).1 + f(2).2 + f(3).3 + f(4).4 + f(5).5 + f(6).6 \n",
    "= 1/6.1 + 1/6.2 + 1/6.3 + 1/6.4 + 1/6.5 + 1/6.6</pre>\n",
    "\n",
    "\n",
    "## Continue toevalsveranderlijke\n",
    "\n",
    "\n",
    "## Binomiaalverdeling\n",
    " Gebruiken als we willen weten wat de kans is op een success of geen success een aantal keer achter elkaar.\n",
    " $\\binom{n}{k}$\n",
    "\n",
    "### Voorwaarden\n",
    " * je doet een experiment een aantal keer achter elkaar.\n",
    " * de uitkomst van het experiment beïnvloedt het resultaat van het volgende experiment niet.\n",
    " * de uitkomst van het experiment kan slechts 2 mogelijke waarden opleveren.\n",
    " * je weet wat de kans is om de 2 waarden te verkrijgen als je het experiment 1 keer uitvoert.\n",
    " * je vraagt je af wat de kans is dat je een aantal keren een bepaalde waarde verkrijgt.\n",
    "\n",
    "### Eigenschappen\n",
    "N = aantal keer dat het experiment plaats vindt\n",
    "<pre>bv. 6 keer een rood licht, 10 stundenten, 5 vragen</pre>\n",
    "K = aantal keer dat je een succes of geen success wil.\n",
    "<pre>bv. hoeveel keer kop, hoeveel vragen juist</pre>\n",
    "P = de kans op de gebeurtenis.\n",
    "    <pre>bv. 1/2 0.50</pre>\n",
    "\n",
    "### Sigma & Mu\n",
    "σ = $\\sqrt{n.p()1-p)}$\n",
    "    <pre>De standaard afwijking</pre>\n",
    "µ = n.p\n",
    "    <pre>Het verwachte gemiddelde</pre>\n",
    "\n",
    "#### Functies\n",
    "```python\n",
    "stats.binom.pmf(k=2,n=4,p=2/6) Kans op een succes.\n",
    "```\n",
    "\n",
    "```python\n",
    "1 - stats.binom.pmf(k=2,n=4,p=2/6) Kans op geen sucess.\n",
    "```\n",
    "\n",
    "```python\n",
    "stats.binom.cmf(k=2,n=4,p=2/6) Kans op x aantal keer of minder.\n",
    "```\n",
    "\n",
    "```python\n",
    "1 - stats.binom.cmf(k=2,n=4,p=2/6) Kans op x aantal keer of meer.\n",
    "```\n",
    "\n",
    "\n",
    "## Possionverdeling\n",
    "De kans dat de gebeurtenis zich K keer voordoet in een bepaalde tijdspanne.\n",
    "\n",
    "### Voorwaarden\n",
    "* een bepaalde gebeurtenis doet zich gemiddeld een aantal keer voor per tijdseenheid, maar\n",
    "er zit variatie op\n",
    "* we vragen ons af wat de kans is dat deze gebeurtenis zich een aantal keer zal voordoen\n",
    "binnen een bepaalde tijd\n",
    "\n",
    "### Eigenschappen\n",
    "K = de kans dat de gebeurtenis zich een aantal keer zal voordoen binnen een bepaalde tijd\n",
    "<pre>bv. de kans dat er meer dan 10 oproepen per uur zouden binnen komen</pre>\n",
    "\n",
    "α(mu) = gemiddeld aantal keer dat een gebeurtenis zicht voordoet\n",
    "<pre>bv. op een help-desk komen er gemiddeld 3 oproepen per uur binnen</pre>\n",
    "\n",
    "\n",
    "### Sigma & Mu\n",
    "σ = $\\sqrt{α}$\n",
    "    <pre>De standaard afwijking</pre>\n",
    "µ = reed gekent\n",
    "    <pre>Het verwachte gemiddelde</pre>\n",
    "\n",
    "#### Functies\n",
    "```python\n",
    "stats.poisson.pmf(10, 3) Kans dat er 10 oproepen binnen komen als we er gemiddeld 3 krijgen\n",
    "```\n",
    "\n",
    "```python\n",
    "1 - stats.poisson.pmf(10, 3) Kans dat er geen 10 oproepen binnen komen als we er gemiddeld 3 krijgen\n",
    "```\n",
    "\n",
    "```python\n",
    "stats.poisson.cdf(10, 3) Kans op minder dan 10 oproepen als we er gemiddeld 3 krijgen\n",
    "```\n",
    "```python\n",
    "1 - stats.poisson.cdf(10, 3) Kans op meer dan 10 oproepen als we er gemiddeld 3 krijgen\n",
    "```\n",
    "#### inverse cumulatieve verdeling\n",
    "```python\n",
    "stats.poisson.ppf(0.95, 3) hoeveel mensen we in dienst  hebben om 95% van\n",
    "de tijd de klanten te kunnen helpen\n",
    "```\n",
    "\n",
    "## Normaal verdeling\n",
    "Is een continue kansverdeling met twee parameters, de verwachtingswaarde µ en de standaardafwijking\n",
    "σ waarvan een kansdichtheid wordt terug gegeven die zich tussen een bepaalde waarde bevindt.\n",
    "\n",
    "### Voorwaarden\n",
    "* je beschouwt een continue variabele\n",
    "* je kent de waarden van de verwachte waarde (gemiddelde) en de standaardafwijking\n",
    "* de waarden zijn symmetrisch verdeeld rond de verwachte waarde\n",
    "* je vraagt je af wat de kans is dat een gemeten waarde tussen twee grenzen ligt\n",
    "\n",
    "### Eigenschappen\n",
    "µ(mu) = de gemiddelde waarden die we verwachten\n",
    "<pre>bv. een lengte van 180cm</pre>\n",
    "\n",
    "σ(sigma) = de standaard afwijking\n",
    "<pre>bv. een lengte van 10cm</pre>\n",
    "\n",
    "We afvragen ons af wat de kans is dat een student\n",
    "tussen de 175cm en 180cm groot is.\n",
    "\n",
    "#### Functies\n",
    "```python\n",
    "stats.norm.pdf(x=150, loc=180, scale=10) Kans dat er iemand een lengte heeft van 150\n",
    "```\n",
    "```python\n",
    "stats.norm.cdf = kans op minder dan\n",
    "```\n",
    "```python\n",
    "1 - stats.norm.cdf = kans op meer dan\n",
    "```\n",
    "\n",
    "```python\n",
    "format(stats.norm.cdf(x=52,loc=50,scale=5)-norm.cdf(x=42,loc=-50,scale=5),'.4g')\n",
    "#tussen de 42 en 52 valt?\n",
    "```\n",
    "\n",
    "```python\n",
    "format(stats.norm.cdf(x=52,loc=50,scale=5)-norm.cdf(x=42,loc=-50,scale=5),'.4g')\n",
    "#tussen de 42 en 52 valt?\n",
    "```\n",
    "\n",
    "```python\n",
    "print(format(stats.norm.ppf(q=0.16, loc=100, scale=15),'.4g'))\n",
    "#q = omzetten in aantallen (inverse van cdf functie)\n",
    "```\n",
    "\n"
   ]
  },
  {
   "cell_type": "code",
   "execution_count": 1,
   "outputs": [],
   "source": [
    "import math\n",
    "\n",
    "from scipy.stats import binom, poisson, norm"
   ],
   "metadata": {
    "collapsed": false,
    "pycharm": {
     "name": "#%%\n"
    }
   }
  },
  {
   "cell_type": "markdown",
   "metadata": {
    "pycharm": {
     "name": "#%% md\n"
    }
   },
   "source": [
    "---\n",
    "## Binomiaal verdeling\n",
    "### Vraag 1\n",
    "Luna gooit 4 keer met een dobbelsteen (antwoord met 4 beduidende cijfers):"
   ]
  },
  {
   "cell_type": "markdown",
   "metadata": {
    "pycharm": {
     "name": "#%% md\n"
    }
   },
   "source": [
    "\n",
    "1.  Hoe groot is de kans op precies één 6?"
   ]
  },
  {
   "cell_type": "code",
   "execution_count": 9,
   "metadata": {
    "pycharm": {
     "name": "#%%\n"
    }
   },
   "outputs": [
    {
     "name": "stdout",
     "output_type": "stream",
     "text": [
      "Kans op 1 een keer een 6\n",
      "0.3858024691358026\n"
     ]
    }
   ],
   "source": [
    "n = 4  # het aantal keer dat je het experiment doet\n",
    "p = 1 / 6  # de kans op 1 keer een 6 is 1/6\n",
    "k = 1  # aantal keer dat je wil een succes wil\n",
    "\n",
    "kans_op_een_zes = binom.pmf(k, n, p)\n",
    "print(\"Kans op 1 een keer een 6\")\n",
    "print(kans_op_een_zes)"
   ]
  },
  {
   "cell_type": "markdown",
   "metadata": {
    "pycharm": {
     "name": "#%% md\n"
    }
   },
   "source": [
    "2.  Hoe groot is de kans op vier zessen?"
   ]
  },
  {
   "cell_type": "code",
   "execution_count": 10,
   "metadata": {
    "pycharm": {
     "name": "#%%\n"
    }
   },
   "outputs": [
    {
     "name": "stdout",
     "output_type": "stream",
     "text": [
      "Kans op 4 een keer 6\n",
      "0.0007716049382716051\n"
     ]
    }
   ],
   "source": [
    "n = 4  # het aantal keer dat je het experiment doet\n",
    "p = 1 / 6  # de kans op 1 keer een 6 is 1/6\n",
    "k = 4  # aantal keer dat je wil een succes wil\n",
    "\n",
    "kans_op_vier_keer_zes = binom.pmf(k, n, p)\n",
    "print(\"Kans op 4 een keer 6\")\n",
    "print(kans_op_vier_keer_zes)"
   ]
  },
  {
   "cell_type": "markdown",
   "metadata": {},
   "source": [
    "3.  Hoe groot is de kans op 2 worpen onder de 3 en 2 worpen 3 of hoger?\n",
    "\n",
    "We hebben hier twee toevalsveranderlijken:\n",
    "\n",
    "* X=\"onder de 3\" = {1,2}\n",
    "* Y=\"3 of hoger\" = {3,4,5,6}\n",
    "\n",
    "Deze gebeurtenissen sluiten elkaar uit. We moeten dus slechts één van de twee berekenen,\n",
    "want als de ene gebeurtenis zich voordoet, doet de andere gebeurtenis zich automatisch ook voor.\n"
   ]
  },
  {
   "cell_type": "code",
   "execution_count": 11,
   "metadata": {
    "pycharm": {
     "name": "#%%\n"
    }
   },
   "outputs": [
    {
     "data": {
      "text/plain": "'0.2963'"
     },
     "execution_count": 11,
     "metadata": {},
     "output_type": "execute_result"
    }
   ],
   "source": [
    "format(binom.pmf(k=2,n=4,p=2/6), '.4g')"
   ]
  },
  {
   "cell_type": "markdown",
   "metadata": {
    "collapsed": true,
    "pycharm": {
     "name": "#%% md\n"
    }
   },
   "source": [
    "---\n",
    "### Vraag 2\n",
    "Zes studenten Toegepaste Informatica moeten een test Engels afleggen.\n",
    "De kans om voor het examen te slagen 0,75.\n",
    "\n",
    "1.  Hoe groot is de kans dat exact 4 van hen slagen?"
   ]
  },
  {
   "cell_type": "code",
   "execution_count": 12,
   "metadata": {
    "pycharm": {
     "name": "#%%\n"
    }
   },
   "outputs": [
    {
     "data": {
      "text/plain": "'0.2966'"
     },
     "execution_count": 12,
     "metadata": {},
     "output_type": "execute_result"
    }
   ],
   "source": [
    "format(binom.pmf(k=4,n=6,p=3/4), '.4g')"
   ]
  },
  {
   "cell_type": "markdown",
   "metadata": {
    "pycharm": {
     "name": "#%% md\n"
    }
   },
   "source": [
    "2.  Hoe groot is de kans dat exact 5 van hen slagen?"
   ]
  },
  {
   "cell_type": "code",
   "execution_count": 13,
   "metadata": {
    "pycharm": {
     "name": "#%%\n"
    }
   },
   "outputs": [
    {
     "data": {
      "text/plain": "'0.356'"
     },
     "execution_count": 13,
     "metadata": {},
     "output_type": "execute_result"
    }
   ],
   "source": [
    "format(binom.pmf(k=5,n=6,p=3/4), '.4g')"
   ]
  },
  {
   "cell_type": "markdown",
   "metadata": {
    "pycharm": {
     "name": "#%% md\n"
    }
   },
   "source": [
    "3.  Hoe groot is de kans dat exact 6 van hen slagen?"
   ]
  },
  {
   "cell_type": "code",
   "execution_count": 14,
   "metadata": {
    "pycharm": {
     "name": "#%%\n"
    }
   },
   "outputs": [
    {
     "data": {
      "text/plain": "'0.178'"
     },
     "execution_count": 14,
     "metadata": {},
     "output_type": "execute_result"
    }
   ],
   "source": [
    "format(binom.pmf(k=6,n=6,p=3/4), '.4g')\n"
   ]
  },
  {
   "cell_type": "markdown",
   "metadata": {
    "pycharm": {
     "name": "#%% md\n"
    }
   },
   "source": [
    "4.  Hoe groot is de kans dat minder dan 4 van hen slagen?"
   ]
  },
  {
   "cell_type": "code",
   "execution_count": 15,
   "metadata": {
    "pycharm": {
     "name": "#%%\n"
    }
   },
   "outputs": [
    {
     "data": {
      "text/plain": "'0.1694'"
     },
     "execution_count": 15,
     "metadata": {},
     "output_type": "execute_result"
    }
   ],
   "source": [
    "format(binom.cdf(k=3,n=6,p=3/4), '.4g')"
   ]
  },
  {
   "cell_type": "markdown",
   "metadata": {
    "collapsed": true,
    "pycharm": {
     "name": "#%% md\n"
    }
   },
   "source": [
    "---\n",
    "### Vraag 3\n",
    "\n",
    "Op weg naar de school, passeer je 6 verkeerslichten.\n",
    "Deze zijn jammer genoeg helemaal niet gesynchroniseerd.\n",
    "Ze werken totaal onafhankelijk van elkaar. De verkeerslichten staan ongeveer 40% van de tijd op rood.\n",
    "\n",
    "1.  Wat is de kans dat je geen enkel rood licht hebt, onderweg?"
   ]
  },
  {
   "cell_type": "code",
   "execution_count": 21,
   "outputs": [
    {
     "data": {
      "text/plain": "'0.0168'"
     },
     "execution_count": 21,
     "metadata": {},
     "output_type": "execute_result"
    }
   ],
   "source": [
    "format(binom.pmf(k=0,n=6,p=0.40),'.4g')"
   ],
   "metadata": {
    "collapsed": false,
    "pycharm": {
     "name": "#%%\n"
    }
   }
  },
  {
   "cell_type": "markdown",
   "metadata": {
    "pycharm": {
     "name": "#%% md\n"
    }
   },
   "source": [
    "2.  Wat is de kans dat alle verkeerslichten op rood staan?"
   ]
  },
  {
   "cell_type": "code",
   "execution_count": 17,
   "outputs": [
    {
     "data": {
      "text/plain": "'0.004096'"
     },
     "execution_count": 17,
     "metadata": {},
     "output_type": "execute_result"
    }
   ],
   "source": [
    "format(binom.pmf(k=6,n=6,p=0.40),'.4g')\n"
   ],
   "metadata": {
    "collapsed": false,
    "pycharm": {
     "name": "#%%\n"
    }
   }
  },
  {
   "cell_type": "markdown",
   "metadata": {
    "pycharm": {
     "name": "#%% md\n"
    }
   },
   "source": [
    "3.  Wat is de kans om meer dan 2 lichten op rood tegen te komen?"
   ]
  },
  {
   "cell_type": "code",
   "execution_count": 20,
   "outputs": [
    {
     "data": {
      "text/plain": "'0.1792'"
     },
     "execution_count": 20,
     "metadata": {},
     "output_type": "execute_result"
    }
   ],
   "source": [
    "format(1-binom.cdf(k=3,n=6,p=0.40),'.4g')\n"
   ],
   "metadata": {
    "collapsed": false,
    "pycharm": {
     "name": "#%%\n"
    }
   }
  },
  {
   "cell_type": "markdown",
   "metadata": {
    "pycharm": {
     "name": "#%% md\n"
    }
   },
   "source": [
    "4.  Als je weet dat je gemiddeld 2 minuten verliest per rood licht.\n",
    "    Hoeveel tijd verwacht je dan gemiddeld te verliezen op een traject?\n",
    "\n",
    "    mu = p.n * 2 minuten\n",
    "    p = 0.4\n",
    "    n = 6"
   ]
  },
  {
   "cell_type": "code",
   "execution_count": 29,
   "outputs": [
    {
     "name": "stdout",
     "output_type": "stream",
     "text": [
      "Gemiddelde verliezen we 4.8 minuten\n"
     ]
    }
   ],
   "source": [
    "mu = 0.4 * 6\n",
    "\n",
    "print('Gemiddelde verliezen we {:.1f} minuten'.format(2*mu))\n",
    "\n"
   ],
   "metadata": {
    "collapsed": false,
    "pycharm": {
     "name": "#%%\n"
    }
   }
  },
  {
   "cell_type": "markdown",
   "source": [
    "---\n",
    "## Posison verdeling\n",
    "### Vraag 4\n",
    "Als je met de fiets naar school fietst, heb je gemiddeld 2 maal per jaar een lekke band.\n",
    "\n",
    "n=365\n",
    "p=2/365\n",
    "k=2\n",
    "\n",
    "1.  Wat is de kans dat je geen lekke band hebt in een gegeven jaar?"
   ],
   "metadata": {
    "collapsed": false
   }
  },
  {
   "cell_type": "code",
   "execution_count": 36,
   "outputs": [
    {
     "data": {
      "text/plain": "'0.1353'"
     },
     "execution_count": 36,
     "metadata": {},
     "output_type": "execute_result"
    }
   ],
   "source": [
    "format(poisson.pmf(k=0,mu=2),'.4g')"
   ],
   "metadata": {
    "collapsed": false,
    "pycharm": {
     "name": "#%%\n"
    }
   }
  },
  {
   "cell_type": "markdown",
   "metadata": {
    "pycharm": {
     "name": "#%% md\n"
    }
   },
   "source": [
    "\n",
    "\n",
    "2.  Wat is de kans dat je meer dan 3 lekke banden hebt in een jaar?"
   ]
  },
  {
   "cell_type": "code",
   "execution_count": 35,
   "outputs": [
    {
     "data": {
      "text/plain": "'0.1429'"
     },
     "execution_count": 35,
     "metadata": {},
     "output_type": "execute_result"
    }
   ],
   "source": [
    "format(1-poisson.cdf(k=3,mu=2),'.4g')"
   ],
   "metadata": {
    "collapsed": false,
    "pycharm": {
     "name": "#%%\n"
    }
   }
  },
  {
   "cell_type": "markdown",
   "metadata": {
    "pycharm": {
     "name": "#%% md\n"
    }
   },
   "source": [
    "3.  Wat is de kans dat je 2 lekke banden hebt in 1 maand tijd?"
   ]
  },
  {
   "cell_type": "code",
   "execution_count": 37,
   "outputs": [
    {
     "data": {
      "text/plain": "'0.01176'"
     },
     "execution_count": 37,
     "metadata": {},
     "output_type": "execute_result"
    }
   ],
   "source": [
    "format(poisson.pmf(k=2,mu=2/12),'.4g')"
   ],
   "metadata": {
    "collapsed": false,
    "pycharm": {
     "name": "#%%\n"
    }
   }
  },
  {
   "cell_type": "markdown",
   "metadata": {
    "collapsed": true,
    "pycharm": {
     "name": "#%% md\n"
    }
   },
   "source": [
    "---\n",
    "### Vraag 5\n",
    "\n",
    "Een gebruiker krijgt gemiddeld 20 emails per dag. Op een dag krijgt hij er 100 en vraagt zich af of dit nog wel normaal is.\n",
    "\n",
    "1.  Wat is de kans dat hij meer dan 100 emails op een dag krijgt?"
   ]
  },
  {
   "cell_type": "code",
   "execution_count": 42,
   "outputs": [
    {
     "data": {
      "text/plain": "'0'"
     },
     "execution_count": 42,
     "metadata": {},
     "output_type": "execute_result"
    }
   ],
   "source": [
    "format(1-poisson.cdf(k=100,mu=20),'.4g')"
   ],
   "metadata": {
    "collapsed": false,
    "pycharm": {
     "name": "#%%\n"
    }
   }
  },
  {
   "cell_type": "markdown",
   "metadata": {
    "pycharm": {
     "name": "#%% md\n"
    }
   },
   "source": [
    "2.  Wat is de kans dat hij er meer dan 30 op een dag krijgt?"
   ]
  },
  {
   "cell_type": "code",
   "execution_count": 43,
   "outputs": [
    {
     "data": {
      "text/plain": "'0.01347'"
     },
     "execution_count": 43,
     "metadata": {},
     "output_type": "execute_result"
    }
   ],
   "source": [
    "format(1-poisson.cdf(k=30,mu=20),'.4g')"
   ],
   "metadata": {
    "collapsed": false,
    "pycharm": {
     "name": "#%%\n"
    }
   }
  },
  {
   "cell_type": "markdown",
   "metadata": {
    "pycharm": {
     "name": "#%% md\n"
    }
   },
   "source": [
    "3.  Wat is de kans dat hij er exact 20 op een dag krijgt?"
   ]
  },
  {
   "cell_type": "code",
   "execution_count": 45,
   "outputs": [
    {
     "data": {
      "text/plain": "'0.08884'"
     },
     "execution_count": 45,
     "metadata": {},
     "output_type": "execute_result"
    }
   ],
   "source": [
    "format(poisson.pmf(k=20,mu=20),'.4g')"
   ],
   "metadata": {
    "collapsed": false,
    "pycharm": {
     "name": "#%%\n"
    }
   }
  },
  {
   "cell_type": "markdown",
   "metadata": {
    "pycharm": {
     "name": "#%% md\n"
    }
   },
   "source": [
    "4.  Wat is de kans dat hij er 10 of minder op een dag krijgt?"
   ]
  },
  {
   "cell_type": "code",
   "execution_count": 46,
   "outputs": [
    {
     "data": {
      "text/plain": "'0.01081'"
     },
     "execution_count": 46,
     "metadata": {},
     "output_type": "execute_result"
    }
   ],
   "source": [
    "format(poisson.cdf(k=10,mu=20),'.4g')"
   ],
   "metadata": {
    "collapsed": false,
    "pycharm": {
     "name": "#%%\n"
    }
   }
  },
  {
   "cell_type": "markdown",
   "metadata": {
    "pycharm": {
     "name": "#%% md\n"
    }
   },
   "source": [
    "5.  Wat is de kans dat hij er 650 of minder op een maand (30 dagen) krijgt?"
   ]
  },
  {
   "cell_type": "code",
   "execution_count": 47,
   "outputs": [
    {
     "data": {
      "text/plain": "'0.9793'"
     },
     "execution_count": 47,
     "metadata": {},
     "output_type": "execute_result"
    }
   ],
   "source": [
    "format(poisson.cdf(k=650 ,mu=20*30),'.4g')"
   ],
   "metadata": {
    "collapsed": false,
    "pycharm": {
     "name": "#%%\n"
    }
   }
  },
  {
   "cell_type": "markdown",
   "metadata": {
    "pycharm": {
     "name": "#%% md\n"
    }
   },
   "source": [
    "---\n",
    "### Vraag 6\n",
    "\n",
    "Er worden gemiddeld 3,5 bitcoin transacties per seconde uitgevoerd.\n",
    "Het maximum aantal transacties dat het netwerk kan verwerken is echter 7 transacties per seconde.\n",
    "\n",
    "1.  Wat is de kans dat er gedurende een seconde meer dan 7 transacties uitgevoerd moeten worden?"
   ]
  },
  {
   "cell_type": "code",
   "execution_count": 49,
   "outputs": [
    {
     "data": {
      "text/plain": "'0.02674'"
     },
     "execution_count": 49,
     "metadata": {},
     "output_type": "execute_result"
    }
   ],
   "source": [
    "format(1-poisson.cdf(k=7,mu=3.5),'.4g')\n"
   ],
   "metadata": {
    "collapsed": false,
    "pycharm": {
     "name": "#%%\n"
    }
   }
  },
  {
   "cell_type": "markdown",
   "metadata": {
    "pycharm": {
     "name": "#%% md\n"
    }
   },
   "source": [
    "---\n",
    "## Normaal verdeling\n",
    "### Vraag 9\n",
    "\n",
    "In een klas is de gemiddelde haarlengte normaalverdeeld µ=20 cm en ơ=4.\n",
    "Wat zijn de volgende kansen?\n",
    "\n",
    "1.  De kans dat iemands haar langer is dan 28cm"
   ]
  },
  {
   "cell_type": "code",
   "execution_count": 37,
   "outputs": [
    {
     "data": {
      "text/plain": "'0.02275'"
     },
     "execution_count": 37,
     "metadata": {},
     "output_type": "execute_result"
    }
   ],
   "source": [
    "format(1-norm.cdf(x=28,loc=20,scale=4),'.4g')"
   ],
   "metadata": {
    "collapsed": false,
    "pycharm": {
     "name": "#%%\n"
    }
   }
  },
  {
   "cell_type": "markdown",
   "metadata": {
    "pycharm": {
     "name": "#%% md\n"
    }
   },
   "source": [
    "2.  De kans dat iemands haar korter is dan 16cm"
   ]
  },
  {
   "cell_type": "code",
   "execution_count": 39,
   "outputs": [
    {
     "data": {
      "text/plain": "'0.1587'"
     },
     "execution_count": 39,
     "metadata": {},
     "output_type": "execute_result"
    }
   ],
   "source": [
    "format(norm.cdf(x=16,loc=20,scale=4),'.4g')"
   ],
   "metadata": {
    "collapsed": false,
    "pycharm": {
     "name": "#%%\n"
    }
   }
  },
  {
   "cell_type": "markdown",
   "metadata": {
    "pycharm": {
     "name": "#%% md\n"
    }
   },
   "source": [
    "3.  De kans dat iemand haar een lengte heeft tussen 18cm en 22cm"
   ]
  },
  {
   "cell_type": "code",
   "execution_count": 40,
   "outputs": [
    {
     "data": {
      "text/plain": "'0.3829'"
     },
     "execution_count": 40,
     "metadata": {},
     "output_type": "execute_result"
    }
   ],
   "source": [
    "format(norm.cdf(x=22,loc=20,scale=4)-norm.cdf(x=18,loc=20,scale=4),'.4g')"
   ],
   "metadata": {
    "collapsed": false,
    "pycharm": {
     "name": "#%%\n"
    }
   }
  },
  {
   "cell_type": "markdown",
   "metadata": {
    "pycharm": {
     "name": "#%% md\n"
    }
   },
   "source": [
    "---\n",
    "### Vraag 10\n",
    "We bouwen een website met een wedstrijd met verschillende vragen.\n",
    "De scores op de wedstrijd zijn normaal verdeeld met $\\mu=50$ en $\\sigma=5$.\n",
    "\n",
    "1.  Wat is de kans dat een aselect gekozen score op deze wedstrijd lager is dan 40?"
   ]
  },
  {
   "cell_type": "code",
   "execution_count": 6,
   "outputs": [
    {
     "data": {
      "text/plain": "'0.02275'"
     },
     "execution_count": 6,
     "metadata": {},
     "output_type": "execute_result"
    }
   ],
   "source": [
    "format(norm.cdf(x=40,loc=50,scale=5),'.4g')"
   ],
   "metadata": {
    "collapsed": false,
    "pycharm": {
     "name": "#%%\n"
    }
   }
  },
  {
   "cell_type": "markdown",
   "metadata": {
    "pycharm": {
     "name": "#%% md\n"
    }
   },
   "source": [
    "gekozen score op deze wedstrijd tussen de 42 en 52 valt?"
   ]
  },
  {
   "cell_type": "code",
   "execution_count": 36,
   "outputs": [
    {
     "data": {
      "text/plain": "'-0.3446'"
     },
     "execution_count": 36,
     "metadata": {},
     "output_type": "execute_result"
    }
   ],
   "source": [
    "format(norm.cdf(x=52,loc=50,scale=5)-norm.cdf(x=42,loc=-50,scale=5),'.4g')"
   ],
   "metadata": {
    "collapsed": false,
    "pycharm": {
     "name": "#%%\n"
    }
   }
  },
  {
   "cell_type": "markdown",
   "metadata": {
    "pycharm": {
     "name": "#%% md\n"
    }
   },
   "source": [
    "3.  Iedereen die een score behaalt hoger dan 58,75 krijgt een bijzondere prijs met vermelding in de krant.\n",
    "Als 75 mensen deelnemen, hoeveel winnen er dan een bijzondere prijs?"
   ]
  },
  {
   "cell_type": "code",
   "execution_count": 34,
   "outputs": [
    {
     "data": {
      "text/plain": "'3.004'"
     },
     "execution_count": 34,
     "metadata": {},
     "output_type": "execute_result"
    }
   ],
   "source": [
    "format((1-norm.cdf(x=58.75,loc=50,scale=5))*75,'.4g')"
   ],
   "metadata": {
    "collapsed": false,
    "pycharm": {
     "name": "#%%\n"
    }
   }
  },
  {
   "cell_type": "markdown",
   "metadata": {
    "pycharm": {
     "name": "#%% md\n"
    }
   },
   "source": [
    "---\n",
    "### Vraag 11\n",
    "\n",
    "Bij een IQ-test is de verwachte waarde 100 (normaal verdeeld).\n",
    "In Antwerpen is de standaardafwijking 15, in Gent is deze 18.\n",
    "\n",
    "a\\) Wat is de kans dat iemand in Antwerpen een IQ heeft dat groter is dan 120?"
   ]
  },
  {
   "cell_type": "code",
   "execution_count": 33,
   "outputs": [
    {
     "data": {
      "text/plain": "'0.09121'"
     },
     "execution_count": 33,
     "metadata": {},
     "output_type": "execute_result"
    }
   ],
   "source": [
    "format((1-norm.cdf(x=120,loc=100,scale=15)),'.4g')"
   ],
   "metadata": {
    "collapsed": false,
    "pycharm": {
     "name": "#%%\n"
    }
   }
  },
  {
   "cell_type": "markdown",
   "metadata": {
    "pycharm": {
     "name": "#%% md\n"
    }
   },
   "source": [
    "\n",
    "b\\) Met welk IQ behoor je in Antwerpen tot de mensen die de 16% laagste scores hebben?\n",
    " hint: experimenteer tot je het vindt of gebruik de norm.ppf()-functie"
   ]
  },
  {
   "cell_type": "code",
   "execution_count": 31,
   "outputs": [
    {
     "name": "stdout",
     "output_type": "stream",
     "text": [
      "85.08\n"
     ]
    }
   ],
   "source": [
    "print(format(norm.ppf(q=0.16, loc=100, scale=15),'.4g'))\n",
    "## in percent\n",
    "print(format(norm.cdf(x=85, loc=100, scale=15),'.4g'))\n"
   ],
   "metadata": {
    "collapsed": false,
    "pycharm": {
     "name": "#%%\n"
    }
   }
  },
  {
   "cell_type": "markdown",
   "metadata": {
    "pycharm": {
     "name": "#%% md\n"
    }
   },
   "source": [
    "c\\) Welk IQ (of meer) hebben de 5% slimste mensen in Gent? (zelfde hint)"
   ]
  },
  {
   "cell_type": "code",
   "execution_count": 45,
   "outputs": [
    {
     "name": "stdout",
     "output_type": "stream",
     "text": [
      "129.6\n"
     ]
    }
   ],
   "source": [
    "print(format(norm.ppf(q=0.95, loc=100, scale=18),'.4g'))\n",
    "## in percent\n",
    "print(format(1-norm.cdf(129.5, loc=100, scale=18),'.4g'))\n"
   ],
   "metadata": {
    "collapsed": false,
    "pycharm": {
     "name": "#%%\n"
    }
   }
  },
  {
   "cell_type": "markdown",
   "metadata": {
    "pycharm": {
     "name": "#%% md\n"
    }
   },
   "source": [
    "d\\) Wat is de verhouding van Antwerpenaren en Gentenaren voor scores boven de 130?"
   ]
  },
  {
   "cell_type": "code",
   "execution_count": 63,
   "outputs": [
    {
     "name": "stdout",
     "output_type": "stream",
     "text": [
      "0.02275013194817921\n",
      "0.047790352272814696\n",
      "Verhouding tussen Antwerpen/Gent= 0.5\n"
     ]
    }
   ],
   "source": [
    "## Antwerpen\n",
    "antwerpen = 1- norm.cdf(x=130, loc=100, scale=15)\n",
    "## Gent\n",
    "gent = 1- norm.cdf(x=130, loc=100, scale=18)\n",
    "\n",
    "print(antwerpen)\n",
    "print(gent)\n",
    "print('Verhouding tussen Antwerpen/Gent= {:.1f}'.format(antwerpen/gent))"
   ],
   "metadata": {
    "collapsed": false,
    "pycharm": {
     "name": "#%%\n"
    }
   }
  },
  {
   "cell_type": "markdown",
   "source": [
    "1.  1:1\n",
    "\n",
    "2.  1:2\n",
    "\n",
    "3.  1:3\n",
    "\n",
    "4.  5:6"
   ],
   "metadata": {
    "collapsed": false
   }
  },
  {
   "cell_type": "markdown",
   "metadata": {
    "collapsed": true,
    "pycharm": {
     "name": "#%% md\n"
    }
   },
   "source": [
    "---\n",
    "### Vraag 12\n",
    "\n",
    "Uit onderzoek is gebleken dat de levensduur van lampen normaal verdeeld is.\n",
    "Een bepaald type lampen heeft een levensduur van 500 uur, met een standaardafwijking van 100 uur.\n",
    "Een grootwinkelbedrijf koopt 50 000 lampen van dit type in.\n",
    "\n",
    "1.  Hoeveel van deze lampen branden langer dan 400 uur?"
   ]
  },
  {
   "cell_type": "code",
   "execution_count": 73,
   "outputs": [
    {
     "name": "stdout",
     "output_type": "stream",
     "text": [
      "42067.237303427144\n"
     ]
    }
   ],
   "source": [
    "print((1-norm.cdf(x=400,loc=500,scale=100))*50000)\n",
    "## Hoeveel is 84 % van 50 .000 ? vermenig vuldig het gevonden percentage met het aantal\n"
   ],
   "metadata": {
    "collapsed": false,
    "pycharm": {
     "name": "#%%\n"
    }
   }
  },
  {
   "cell_type": "markdown",
   "metadata": {
    "pycharm": {
     "name": "#%% md\n"
    }
   },
   "source": [
    "2.  Hoeveel van deze lampen hebben een levensduur die ligt tussen 400 en 700 uur?"
   ]
  },
  {
   "cell_type": "code",
   "execution_count": 86,
   "outputs": [
    {
     "data": {
      "text/plain": "'40929.73'"
     },
     "execution_count": 86,
     "metadata": {},
     "output_type": "execute_result"
    }
   ],
   "source": [
    "format((norm.cdf(x=700,loc=500,scale=100)-norm.cdf(x=400,loc=500,scale=100))*50000,'.7g')\n",
    "\n"
   ],
   "metadata": {
    "collapsed": false,
    "pycharm": {
     "name": "#%%\n"
    }
   }
  },
  {
   "cell_type": "markdown",
   "metadata": {
    "pycharm": {
     "name": "#%% md\n"
    }
   },
   "source": [
    "3.  Hoeveel van deze lampen hebben een levensduur die onder de 600 uur ligt?\n",
    "Vergelijk dit resultaat met dat van vraag 1. Wat zie je? Hoe komt dit?"
   ]
  },
  {
   "cell_type": "code",
   "execution_count": 89,
   "outputs": [
    {
     "name": "stdout",
     "output_type": "stream",
     "text": [
      "42067.237303427144\n"
     ]
    }
   ],
   "source": [
    "# We krijgen het zelfde resultaat omdat de twee gebeurtenissen elkaar uitsluiten.\n",
    "print(norm.cdf(x=600,loc=500,scale=100)*50000)"
   ],
   "metadata": {
    "collapsed": false,
    "pycharm": {
     "name": "#%%\n"
    }
   }
  },
  {
   "cell_type": "markdown",
   "metadata": {
    "pycharm": {
     "name": "#%% md\n"
    }
   },
   "source": [
    "---\n",
    "### Vraag 13\n",
    "Bij een eenvoudige prijsvraag op de website geven 8 van de 10 mensen het juiste antwoord.\n",
    "Hoe groot is de kans dat minstens 55 deelnemers uit een aselecte steekproef van 60 personen\n",
    "correct geantwoord hebben (2 beduidende cijfers)?"
   ]
  },
  {
   "cell_type": "code",
   "execution_count": 93,
   "outputs": [
    {
     "data": {
      "text/plain": "'0.012'"
     },
     "execution_count": 93,
     "metadata": {},
     "output_type": "execute_result"
    }
   ],
   "source": [
    "format((1-binom.cdf(k=54,n=60,p=0.80)),'.2g')\n"
   ],
   "metadata": {
    "collapsed": false,
    "pycharm": {
     "name": "#%%\n"
    }
   }
  },
  {
   "cell_type": "markdown",
   "metadata": {
    "pycharm": {
     "name": "#%% md\n"
    }
   },
   "source": [
    "---\n",
    "### Vraag 14\n",
    "\n",
    "Een nieuwe machine maakt volledig autonoom processoren.\n",
    "Slechts 2 op de 5 processoren voldoen aan de kwaliteitsnorm.\n",
    "\n",
    "1.  We nemen 10 processoren gemaakt door deze machine. Wat is de kans dat er minder dan 2 goed zijn?"
   ]
  },
  {
   "cell_type": "code",
   "execution_count": 95,
   "outputs": [
    {
     "name": "stdout",
     "output_type": "stream",
     "text": [
      "0.04635740159999997\n"
     ]
    }
   ],
   "source": [
    "print(format(binom.cdf(k=1,n=10,p=2/5)))"
   ],
   "metadata": {
    "collapsed": false,
    "pycharm": {
     "name": "#%%\n"
    }
   }
  },
  {
   "cell_type": "markdown",
   "metadata": {
    "pycharm": {
     "name": "#%% md\n"
    }
   },
   "source": [
    "2.  We nemen 100 processoren gemaakt door deze machine. Wat is de kans dat er minder dan 20 goed zijn?"
   ]
  },
  {
   "cell_type": "code",
   "execution_count": 99,
   "outputs": [
    {
     "name": "stdout",
     "output_type": "stream",
     "text": [
      "5.881e-06\n"
     ]
    }
   ],
   "source": [
    "print(format(binom.cdf(k=19,n=100,p=2/5),'.4g'))"
   ],
   "metadata": {
    "collapsed": false,
    "pycharm": {
     "name": "#%%\n"
    }
   }
  },
  {
   "cell_type": "markdown",
   "metadata": {
    "pycharm": {
     "name": "#%% md\n"
    }
   },
   "source": [
    "3.  In beide bovenstaande vragen wordt gevraagd naar minder dan 20% van het totaal aantal processoren.\n",
    "    Welk verschil merk je? Wat kan de oorzaak zijn?"
   ]
  },
  {
   "cell_type": "markdown",
   "metadata": {
    "pycharm": {
     "name": "#%% md\n"
    }
   },
   "source": [
    "### Vraag 15\n",
    "Tijdens een laptopexamen kan er van alles mis gaan. We weten dat een computer met Windows 2% kans heeft om te crashen\n",
    "tijdens het examen. Bij Mac OSX is dat 0,2% en bij Linux is dat 0,1%.\n",
    "Stel dat een klas van 40 studenten examen komt afleggen.\n",
    "\n",
    "**Situatie A:** iedereen draait Windows\n",
    "\n",
    "1. Wat is het verwachte aantal crashes (ombudsdossiers ;-)) tijdens het examen?\n",
    "2. Hoeveel kans is er dat er 1 computer crasht tijdens het examen?\n",
    "3. Hoeveel kans is er dat er 2 computers crashen tijdens het examen?"
   ]
  },
  {
   "cell_type": "code",
   "execution_count": 10,
   "outputs": [
    {
     "name": "stdout",
     "output_type": "stream",
     "text": [
      "0.8\n",
      "0.8095374684007066\n",
      "0.9543297695592833\n"
     ]
    }
   ],
   "source": [
    "aantal_os_windows = 40\n",
    "kans_crash_windows = 0.02\n",
    "# De verwachte waarde  µ = n.p\n",
    "print(aantal_os_windows*kans_crash_windows)\n",
    "\n",
    "print(binom.cdf(k=1,n=aantal_os_windows,p=kans_crash_windows))\n",
    "\n",
    "   \n",
    "print(binom.cdf(k=2,n=aantal_os_windows,p=kans_crash_windows))\n",
    "\n"
   ],
   "metadata": {
    "collapsed": false,
    "pycharm": {
     "name": "#%%\n"
    }
   }
  },
  {
   "cell_type": "markdown",
   "source": [
    "**Situatie B:** 10 studenten draaien Windows, 10 studenten draaien Mac OSX, en 20 draaien Linux\n",
    "\n",
    "\n",
    "\n",
    "\n",
    "1. Wat is het verwachte aantal crashes tijdens het examen?\n",
    "2. Hoeveel kans is er dat er 1 computer crasht tijdens het examen?\n",
    "3. Hoeveel kans is er dat er 2 computers crashen tijdens het examen?"
   ],
   "metadata": {
    "collapsed": false,
    "pycharm": {
     "name": "#%% md\n"
    }
   }
  },
  {
   "cell_type": "code",
   "execution_count": 19,
   "outputs": [
    {
     "name": "stdout",
     "output_type": "stream",
     "text": [
      "Verwacht aantal 0.24\n",
      "0.9834624858630071\n",
      "0.9991340199882898\n"
     ]
    }
   ],
   "source": [
    "aantal_os_windows = 10\n",
    "kans_crash_windows = 0.02\n",
    "\n",
    "aantal_os_mac = 10\n",
    "kans_crash_mac = 0.002\n",
    "\n",
    "aantal_os_linux = 20\n",
    "kans_crash_linux = 0.001\n",
    "\n",
    "mu = (aantal_os_windows * kans_crash_windows) + (aantal_os_linux * kans_crash_linux) + (aantal_os_mac * kans_crash_mac)\n",
    "\n",
    "print(\"Verwacht aantal \" + mu.__str__())\n",
    "\n",
    "\n",
    "print(binom.cdf(k=1,n=aantal_os_windows,p=kans_crash_windows) * binom.cdf(k=1,n=aantal_os_linux,p=kans_crash_linux) * binom.cdf(k=1,n=aantal_os_mac,p=kans_crash_mac))\n",
    "print(binom.cdf(k=2,n=aantal_os_windows,p=kans_crash_windows) * binom.cdf(k=2,n=aantal_os_linux,p=kans_crash_linux) * binom.cdf(k=2,n=aantal_os_mac,p=kans_crash_mac))"
   ],
   "metadata": {
    "collapsed": false,
    "pycharm": {
     "name": "#%%\n"
    }
   }
  }
 ],
 "metadata": {
  "kernelspec": {
   "display_name": "Python 3",
   "language": "python",
   "name": "python3"
  },
  "language_info": {
   "codemirror_mode": {
    "name": "ipython",
    "version": 3
   },
   "file_extension": ".py",
   "mimetype": "text/x-python",
   "name": "python",
   "nbconvert_exporter": "python",
   "pygments_lexer": "ipython3",
   "version": "3.7.3"
  }
 },
 "nbformat": 4,
 "nbformat_minor": 1
}