{
 "cells": [
  {
   "cell_type": "markdown",
   "metadata": {
    "collapsed": false,
    "pycharm": {
     "name": "#%% md\n"
    }
   },
   "source": [
    "### Inkomensvragenlijst\n",
    "De UCI Machine Learning Repository bevat verschillende datasets, ook de zogenaamde AdultUCI dataset. Dit is een dataset me een vragenlijst rond die een aanzienlijk aantal respondenten hebben ingevuld over het inkomen. Het bevat naast een aanwijzing van het inkomensniveau ook enkele andere attributen. Voor we die kunnen gebruiken moet je nog wat aanpassingen doen aan de data. Het hoofdstuk datamanagement uit Data Science 1 komt hier dus van pas."
   ]
  },
  {
   "cell_type": "markdown",
   "metadata": {
    "collapsed": false,
    "pycharm": {
     "name": "#%% md\n"
    }
   },
   "source": [
    "---\n",
    "\n",
    "1. Gebruik Pandas om deze gegevens (adultUCI.csv, zie Canvas) in te lezen als dataframe met de naam adultUCI."
   ]
  },
  {
   "cell_type": "markdown",
   "metadata": {
    "collapsed": false,
    "pycharm": {
     "name": "#%% md\n"
    }
   },
   "source": [
    "---\n",
    "\n",
    "2. Inspecteer de dataset."
   ]
  },
  {
   "cell_type": "markdown",
   "metadata": {
    "collapsed": false
   },
   "source": [
    "---\n",
    "\n",
    "3. Verwijder volgende kolommen uit het dataframe: fnlwgt, education-num, capitalgain, capitalloss."
   ]
  },
  {
   "cell_type": "markdown",
   "metadata": {
    "collapsed": false,
    "pycharm": {
     "name": "#%% md\n"
    }
   },
   "source": [
    "---\n",
    "\n",
    "4. Met numerieke gegevens kan je niet werken. Daarom zullen we de numerieke kolommen omzetten naar categorieën:\n",
    "\n",
    "    * Zet de agekolom om naar klassen. De bins van de klassen zijn 15,25,45,65,100. Zet de klassen om naar een Categorical met factoren \"Young\", \"Middle-aged\", \"Senior\", \"Old\".\n",
    "\n",
    "    * Zet de hours-per-week kolom om naar klassen. De bins van de klassen zijn 0,25,40,60,168. Zet de klassen om naar een Categorical met factoren \"Part-time\", \"Full-time\", \"Over-time\", \"Workaholic\""
   ]
  },
  {
   "cell_type": "markdown",
   "metadata": {
    "collapsed": false,
    "pycharm": {
     "name": "#%% md\n"
    }
   },
   "source": [
    "---\n",
    "De mlxtend package kan ook goed omgaan met nominale gegevens. Als de gegevens in je dataframe factoren zijn met enkele waarden dan kun je die gewoon gebruiken. Elke mogelijke waarde wordt in dit geval als een afzonderlijk item beschouwd. Zo zijn er vier items voor age: age=Middle-aged, age=Young, age=Senior, age=Old.\n",
    "\n",
    "5. Zet het dataframe om naar een transactioneel formaat met Pandas <code>get_dummies</code> functie. Gebruik hierbij ook de parameter <code>prefix_sep='='</code>. Bekijk het resultaat."
   ]
  },
  {
   "cell_type": "markdown",
   "metadata": {
    "collapsed": false,
    "pycharm": {
     "name": "#%% md\n"
    }
   },
   "source": [
    "---\n",
    "6. Maak een staafdiagramma van alle items met een support van 0.1 of meer (zie help)."
   ]
  },
  {
   "cell_type": "markdown",
   "metadata": {
    "collapsed": false,
    "pycharm": {
     "name": "#%% md\n"
    }
   },
   "source": [
    "---\n",
    "\n",
    "7. Welke twee items hebben een zeer hoge support? Kan je hieruit besluiten dat de afgenomen vragenlijst een goed voorbeeld van een aselecte steekproef (zie hoofdstuk introductie)?"
   ]
  },
  {
   "cell_type": "markdown",
   "metadata": {
    "collapsed": false,
    "pycharm": {
     "name": "#%% md\n"
    }
   },
   "source": [
    "---\n",
    "\n",
    "8. Pas het apriori en de association_rules algoritmes toe met volgende parameters:\n",
    "    * support = 0.05,\n",
    "    * confidence = 0.6,\n",
    "    * minlen=2 en maxlen=3\n",
    "\n",
    "Je kunt hiervoor gebruik maken van volgende filterfunctie in combinatie met de <code>.apply</code>-functie van een DataFrame:\n",
    "\n",
    "```python\n",
    "def rule_filter(row, minlen, maxlen):\n",
    "    length = len(row['antecedents']) + len(row['consequents'])\n",
    "    return minlen <= length <= maxlen\n",
    "```\n",
    "In de <a href='https://pandas.pydata.org/pandas-docs/stable/reference/api/pandas.DataFrame.apply.html'>documentatie van Pandas</a> vind je een voorbeeld van het gebruik de <code>.apply</code>-functie. Vergeet het <code>axis=1</code> argument niet.\n",
    "\n",
    "Hoeveel regels heeft het <code>association_rules</code> algoritme gevonden?"
   ]
  },
  {
   "cell_type": "markdown",
   "metadata": {
    "collapsed": false,
    "pycharm": {
     "name": "#%% md\n"
    }
   },
   "source": [
    "---\n",
    "\n",
    "9. Bekijk de regels met de hoogste confidence? Wat valt er op?"
   ]
  },
  {
   "cell_type": "markdown",
   "metadata": {
    "collapsed": false,
    "pycharm": {
     "name": "#%% md\n"
    }
   },
   "source": [
    "---\n",
    "\n",
    "10. Kan je verklaren waarom er in dit geval zo’n hoge confidence is?"
   ]
  },
  {
   "cell_type": "markdown",
   "metadata": {
    "collapsed": false,
    "pycharm": {
     "name": "#%% md\n"
    }
   },
   "source": [
    "---\n",
    "\n",
    "11. Die regel en variaties op die regel zijn vrij nutteloos. Verwijder daarom de kolom “relationship”"
   ]
  },
  {
   "cell_type": "markdown",
   "metadata": {
    "collapsed": false,
    "pycharm": {
     "name": "#%% md\n"
    }
   },
   "source": [
    "---\n",
    "\n",
    "12. Voer het apriori algoritme opnieuw uit. Welke regel heeft nu de grootste confidence?"
   ]
  },
  {
   "cell_type": "markdown",
   "metadata": {
    "collapsed": false,
    "pycharm": {
     "name": "#%% md\n"
    }
   },
   "source": [
    "---\n",
    "\n",
    "13. Als je van deze regel de lift bekijkt, zou je deze dan nog steeds in overweging nemen als goede association rule? Waarom?"
   ]
  },
  {
   "cell_type": "markdown",
   "metadata": {
    "collapsed": false,
    "pycharm": {
     "name": "#%% md\n"
    }
   },
   "source": [
    "---\n",
    "\n",
    "14. Als een respodent invult dat hij overuren klopt (hours-per-week) en een beperkt inkomen heeft in welke leeftijdscategorie kunnen we dan verwachten dat hij zit? Hoe zeker ben je daarvan?"
   ]
  },
  {
   "cell_type": "markdown",
   "metadata": {
    "collapsed": false,
    "pycharm": {
     "name": "#%% md\n"
    }
   },
   "source": [
    "---\n",
    "15. Beschrijf wat de lift zegt van de in 14 gebruikte regel."
   ]
  },
  {
   "cell_type": "markdown",
   "metadata": {
    "collapsed": false,
    "pycharm": {
     "name": "#%% md\n"
    }
   },
   "source": [
    "---\n",
    "16. Komt de combinatie van de drie items uit vorige 2 vragen vaak voor? Welk getal heb je hiervoor gebruikt?"
   ]
  },
  {
   "cell_type": "markdown",
   "metadata": {
    "collapsed": false,
    "pycharm": {
     "name": "#%% md\n"
    }
   },
   "source": [
    "---\n",
    "17. Kom je ergens een regel tegen met hours-per-week=Workaholic? Kun je verklaren waarom dit zo is?"
   ]
  }
 ],
 "metadata": {
  "kernelspec": {
   "display_name": "Python 3",
   "language": "python",
   "name": "python3"
  },
  "language_info": {
   "codemirror_mode": {
    "name": "ipython",
    "version": 2
   },
   "file_extension": ".py",
   "mimetype": "text/x-python",
   "name": "python",
   "nbconvert_exporter": "python",
   "pygments_lexer": "ipython2",
   "version": "2.7.6"
  }
 },
 "nbformat": 4,
 "nbformat_minor": 0
}