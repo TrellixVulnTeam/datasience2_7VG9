{
 "cells": [
  {
   "cell_type": "code",
   "execution_count": 1,
   "outputs": [],
   "source": [
    "import pandas as pd\n",
    "from IPython.core.display import display"
   ],
   "metadata": {
    "collapsed": false,
    "pycharm": {
     "name": "#%%\n"
    }
   }
  },
  {
   "cell_type": "markdown",
   "source": [
    "### Inkomensvragenlijst\n",
    "De UCI Machine Learning Repository bevat verschillende datasets, ook de zogenaamde AdultUCI dataset. Dit is een dataset me een vragenlijst rond die een aanzienlijk aantal respondenten hebben ingevuld over het inkomen. Het bevat naast een aanwijzing van het inkomensniveau ook enkele andere attributen. Voor we die kunnen gebruiken moet je nog wat aanpassingen doen aan de data. Het hoofdstuk datamanagement uit Data Science 1 komt hier dus van pas."
   ],
   "metadata": {
    "collapsed": false,
    "pycharm": {
     "name": "#%% md\n"
    }
   }
  },
  {
   "cell_type": "markdown",
   "source": [
    "---\n",
    "\n",
    "1. Gebruik Pandas om deze gegevens (adultUCI.csv, zie Canvas) in te lezen als dataframe met de naam adultUCI."
   ],
   "metadata": {
    "collapsed": false,
    "pycharm": {
     "name": "#%% md\n"
    }
   }
  },
  {
   "cell_type": "code",
   "execution_count": 2,
   "outputs": [],
   "source": [
    "import pandas as pd\n",
    "\n",
    "adultUCI = pd.read_csv('adultUCI.csv',sep=';')"
   ],
   "metadata": {
    "collapsed": false,
    "pycharm": {
     "name": "#%%\n"
    }
   }
  },
  {
   "cell_type": "markdown",
   "source": [
    "---\n",
    "\n",
    "2. Inspecteer de dataset."
   ],
   "metadata": {
    "collapsed": false,
    "pycharm": {
     "name": "#%% md\n"
    }
   }
  },
  {
   "cell_type": "code",
   "execution_count": 3,
   "outputs": [
    {
     "data": {
      "text/plain": "   age         workclass  fnlwgt  education  education-num  \\\n0   39         State-gov   77516  Bachelors             13   \n1   50  Self-emp-not-inc   83311  Bachelors             13   \n2   38           Private  215646    HS-grad              9   \n3   53           Private  234721       11th              7   \n4   28           Private  338409  Bachelors             13   \n\n       marital-status         occupation   relationship   race     sex  \\\n0       Never-married       Adm-clerical  Not-in-family  White    Male   \n1  Married-civ-spouse    Exec-managerial        Husband  White    Male   \n2            Divorced  Handlers-cleaners  Not-in-family  White    Male   \n3  Married-civ-spouse  Handlers-cleaners        Husband  Black    Male   \n4  Married-civ-spouse     Prof-specialty           Wife  Black  Female   \n\n   capital-gain  capital-loss  hours-per-week native-country income  \n0          2174             0              40  United-States  small  \n1             0             0              13  United-States  small  \n2             0             0              40  United-States  small  \n3             0             0              40  United-States  small  \n4             0             0              40           Cuba  small  ",
      "text/html": "<div>\n<style scoped>\n    .dataframe tbody tr th:only-of-type {\n        vertical-align: middle;\n    }\n\n    .dataframe tbody tr th {\n        vertical-align: top;\n    }\n\n    .dataframe thead th {\n        text-align: right;\n    }\n</style>\n<table border=\"1\" class=\"dataframe\">\n  <thead>\n    <tr style=\"text-align: right;\">\n      <th></th>\n      <th>age</th>\n      <th>workclass</th>\n      <th>fnlwgt</th>\n      <th>education</th>\n      <th>education-num</th>\n      <th>marital-status</th>\n      <th>occupation</th>\n      <th>relationship</th>\n      <th>race</th>\n      <th>sex</th>\n      <th>capital-gain</th>\n      <th>capital-loss</th>\n      <th>hours-per-week</th>\n      <th>native-country</th>\n      <th>income</th>\n    </tr>\n  </thead>\n  <tbody>\n    <tr>\n      <th>0</th>\n      <td>39</td>\n      <td>State-gov</td>\n      <td>77516</td>\n      <td>Bachelors</td>\n      <td>13</td>\n      <td>Never-married</td>\n      <td>Adm-clerical</td>\n      <td>Not-in-family</td>\n      <td>White</td>\n      <td>Male</td>\n      <td>2174</td>\n      <td>0</td>\n      <td>40</td>\n      <td>United-States</td>\n      <td>small</td>\n    </tr>\n    <tr>\n      <th>1</th>\n      <td>50</td>\n      <td>Self-emp-not-inc</td>\n      <td>83311</td>\n      <td>Bachelors</td>\n      <td>13</td>\n      <td>Married-civ-spouse</td>\n      <td>Exec-managerial</td>\n      <td>Husband</td>\n      <td>White</td>\n      <td>Male</td>\n      <td>0</td>\n      <td>0</td>\n      <td>13</td>\n      <td>United-States</td>\n      <td>small</td>\n    </tr>\n    <tr>\n      <th>2</th>\n      <td>38</td>\n      <td>Private</td>\n      <td>215646</td>\n      <td>HS-grad</td>\n      <td>9</td>\n      <td>Divorced</td>\n      <td>Handlers-cleaners</td>\n      <td>Not-in-family</td>\n      <td>White</td>\n      <td>Male</td>\n      <td>0</td>\n      <td>0</td>\n      <td>40</td>\n      <td>United-States</td>\n      <td>small</td>\n    </tr>\n    <tr>\n      <th>3</th>\n      <td>53</td>\n      <td>Private</td>\n      <td>234721</td>\n      <td>11th</td>\n      <td>7</td>\n      <td>Married-civ-spouse</td>\n      <td>Handlers-cleaners</td>\n      <td>Husband</td>\n      <td>Black</td>\n      <td>Male</td>\n      <td>0</td>\n      <td>0</td>\n      <td>40</td>\n      <td>United-States</td>\n      <td>small</td>\n    </tr>\n    <tr>\n      <th>4</th>\n      <td>28</td>\n      <td>Private</td>\n      <td>338409</td>\n      <td>Bachelors</td>\n      <td>13</td>\n      <td>Married-civ-spouse</td>\n      <td>Prof-specialty</td>\n      <td>Wife</td>\n      <td>Black</td>\n      <td>Female</td>\n      <td>0</td>\n      <td>0</td>\n      <td>40</td>\n      <td>Cuba</td>\n      <td>small</td>\n    </tr>\n  </tbody>\n</table>\n</div>"
     },
     "metadata": {},
     "output_type": "display_data"
    },
    {
     "data": {
      "text/plain": "                age        fnlwgt  education-num  capital-gain  capital-loss  \\\ncount  48842.000000  4.884200e+04   48842.000000  48842.000000  48842.000000   \nmean      38.643585  1.896641e+05      10.078089   1079.067626     87.502314   \nstd       13.710510  1.056040e+05       2.570973   7452.019058    403.004552   \nmin       17.000000  1.228500e+04       1.000000      0.000000      0.000000   \n25%       28.000000  1.175505e+05       9.000000      0.000000      0.000000   \n50%       37.000000  1.781445e+05      10.000000      0.000000      0.000000   \n75%       48.000000  2.376420e+05      12.000000      0.000000      0.000000   \nmax       90.000000  1.490400e+06      16.000000  99999.000000   4356.000000   \n\n       hours-per-week  \ncount    48842.000000  \nmean        40.422382  \nstd         12.391444  \nmin          1.000000  \n25%         40.000000  \n50%         40.000000  \n75%         45.000000  \nmax         99.000000  ",
      "text/html": "<div>\n<style scoped>\n    .dataframe tbody tr th:only-of-type {\n        vertical-align: middle;\n    }\n\n    .dataframe tbody tr th {\n        vertical-align: top;\n    }\n\n    .dataframe thead th {\n        text-align: right;\n    }\n</style>\n<table border=\"1\" class=\"dataframe\">\n  <thead>\n    <tr style=\"text-align: right;\">\n      <th></th>\n      <th>age</th>\n      <th>fnlwgt</th>\n      <th>education-num</th>\n      <th>capital-gain</th>\n      <th>capital-loss</th>\n      <th>hours-per-week</th>\n    </tr>\n  </thead>\n  <tbody>\n    <tr>\n      <th>count</th>\n      <td>48842.000000</td>\n      <td>4.884200e+04</td>\n      <td>48842.000000</td>\n      <td>48842.000000</td>\n      <td>48842.000000</td>\n      <td>48842.000000</td>\n    </tr>\n    <tr>\n      <th>mean</th>\n      <td>38.643585</td>\n      <td>1.896641e+05</td>\n      <td>10.078089</td>\n      <td>1079.067626</td>\n      <td>87.502314</td>\n      <td>40.422382</td>\n    </tr>\n    <tr>\n      <th>std</th>\n      <td>13.710510</td>\n      <td>1.056040e+05</td>\n      <td>2.570973</td>\n      <td>7452.019058</td>\n      <td>403.004552</td>\n      <td>12.391444</td>\n    </tr>\n    <tr>\n      <th>min</th>\n      <td>17.000000</td>\n      <td>1.228500e+04</td>\n      <td>1.000000</td>\n      <td>0.000000</td>\n      <td>0.000000</td>\n      <td>1.000000</td>\n    </tr>\n    <tr>\n      <th>25%</th>\n      <td>28.000000</td>\n      <td>1.175505e+05</td>\n      <td>9.000000</td>\n      <td>0.000000</td>\n      <td>0.000000</td>\n      <td>40.000000</td>\n    </tr>\n    <tr>\n      <th>50%</th>\n      <td>37.000000</td>\n      <td>1.781445e+05</td>\n      <td>10.000000</td>\n      <td>0.000000</td>\n      <td>0.000000</td>\n      <td>40.000000</td>\n    </tr>\n    <tr>\n      <th>75%</th>\n      <td>48.000000</td>\n      <td>2.376420e+05</td>\n      <td>12.000000</td>\n      <td>0.000000</td>\n      <td>0.000000</td>\n      <td>45.000000</td>\n    </tr>\n    <tr>\n      <th>max</th>\n      <td>90.000000</td>\n      <td>1.490400e+06</td>\n      <td>16.000000</td>\n      <td>99999.000000</td>\n      <td>4356.000000</td>\n      <td>99.000000</td>\n    </tr>\n  </tbody>\n</table>\n</div>"
     },
     "metadata": {},
     "output_type": "display_data"
    },
    {
     "name": "stdout",
     "output_type": "stream",
     "text": [
      "<class 'pandas.core.frame.DataFrame'>\n",
      "RangeIndex: 48842 entries, 0 to 48841\n",
      "Data columns (total 15 columns):\n",
      " #   Column          Non-Null Count  Dtype \n",
      "---  ------          --------------  ----- \n",
      " 0   age             48842 non-null  int64 \n",
      " 1   workclass       46043 non-null  object\n",
      " 2   fnlwgt          48842 non-null  int64 \n",
      " 3   education       48842 non-null  object\n",
      " 4   education-num   48842 non-null  int64 \n",
      " 5   marital-status  48842 non-null  object\n",
      " 6   occupation      46033 non-null  object\n",
      " 7   relationship    48842 non-null  object\n",
      " 8   race            48842 non-null  object\n",
      " 9   sex             48842 non-null  object\n",
      " 10  capital-gain    48842 non-null  int64 \n",
      " 11  capital-loss    48842 non-null  int64 \n",
      " 12  hours-per-week  48842 non-null  int64 \n",
      " 13  native-country  47985 non-null  object\n",
      " 14  income          32561 non-null  object\n",
      "dtypes: int64(6), object(9)\n",
      "memory usage: 5.6+ MB\n"
     ]
    },
    {
     "data": {
      "text/plain": "None"
     },
     "metadata": {},
     "output_type": "display_data"
    }
   ],
   "source": [
    "display(adultUCI.head())\n",
    "display(adultUCI.describe())\n",
    "display(adultUCI.info())"
   ],
   "metadata": {
    "collapsed": false,
    "pycharm": {
     "name": "#%%\n"
    }
   }
  },
  {
   "cell_type": "markdown",
   "source": [
    "---\n",
    "\n",
    "3. Verwijder volgende kolommen uit het dataframe: fnlwgt, education-num, capitalgain, capitalloss."
   ],
   "metadata": {
    "collapsed": false
   }
  },
  {
   "cell_type": "code",
   "execution_count": 4,
   "outputs": [],
   "source": [
    "adultUCI = adultUCI.drop(columns=['fnlwgt','education-num','capital-gain','capital-loss'])"
   ],
   "metadata": {
    "collapsed": false,
    "pycharm": {
     "name": "#%%\n"
    }
   }
  },
  {
   "cell_type": "markdown",
   "source": [
    "---\n",
    "\n",
    "4. Met numerieke gegevens kan je niet werken. Daarom zullen we de numerieke kolommen omzetten naar categorieën:\n",
    "\n",
    "    * Zet de agekolom om naar klassen. De bins van de klassen zijn 15,25,45,65,100. Zet de klassen om naar een Categorical met factoren \"Young\", \"Middle-aged\", \"Senior\", \"Old\".\n",
    "\n",
    "    * Zet de hours-per-week kolom om naar klassen. De bins van de klassen zijn 0,25,40,60,168. Zet de klassen om naar een Categorical met factoren \"Part-time\", \"Full-time\", \"Over-time\", \"Workaholic\""
   ],
   "metadata": {
    "collapsed": false,
    "pycharm": {
     "name": "#%% md\n"
    }
   }
  },
  {
   "cell_type": "code",
   "execution_count": 5,
   "outputs": [],
   "source": [
    "adultUCI['age'] = pd.cut(adultUCI['age'], bins=[15,25,45,65,100]).cat.rename_categories(['Young','Middle-aged','Senior','Old'])\n",
    "\n",
    "adultUCI['hours-per-week'] = pd.cut(adultUCI['hours-per-week'], bins=[0,25,40,60,168]).cat.rename_categories(['Part-time', 'Full-time', 'Over-time', 'Workaholic'])\n"
   ],
   "metadata": {
    "collapsed": false,
    "pycharm": {
     "name": "#%%\n"
    }
   }
  },
  {
   "cell_type": "markdown",
   "source": [
    "---\n",
    "De mlxtend package kan ook goed omgaan met nominale gegevens. Als de gegevens in je dataframe factoren zijn met enkele waarden dan kun je die gewoon gebruiken. Elke mogelijke waarde wordt in dit geval als een afzonderlijk item beschouwd. Zo zijn er vier items voor age: age=Middle-aged, age=Young, age=Senior, age=Old.\n",
    "\n",
    "5. Zet het dataframe om naar een transactioneel formaat met Pandas <code>get_dummies</code> functie. Gebruik hierbij ook de parameter <code>prefix_sep='='</code>. Bekijk het resultaat."
   ],
   "metadata": {
    "collapsed": false,
    "pycharm": {
     "name": "#%% md\n"
    }
   }
  },
  {
   "cell_type": "code",
   "execution_count": 6,
   "outputs": [
    {
     "data": {
      "text/plain": "   age=Young  age=Middle-aged  age=Senior  age=Old  workclass=Federal-gov  \\\n0          0                1           0        0                      0   \n1          0                0           1        0                      0   \n2          0                1           0        0                      0   \n3          0                0           1        0                      0   \n4          0                1           0        0                      0   \n\n   workclass=Local-gov  workclass=Never-worked  workclass=Private  \\\n0                    0                       0                  0   \n1                    0                       0                  0   \n2                    0                       0                  1   \n3                    0                       0                  1   \n4                    0                       0                  1   \n\n   workclass=Self-emp-inc  workclass=Self-emp-not-inc  ...  \\\n0                       0                           0  ...   \n1                       0                           1  ...   \n2                       0                           0  ...   \n3                       0                           0  ...   \n4                       0                           0  ...   \n\n   native-country=Scotland  native-country=South  native-country=Taiwan  \\\n0                        0                     0                      0   \n1                        0                     0                      0   \n2                        0                     0                      0   \n3                        0                     0                      0   \n4                        0                     0                      0   \n\n   native-country=Thailand  native-country=Trinadad&Tobago  \\\n0                        0                               0   \n1                        0                               0   \n2                        0                               0   \n3                        0                               0   \n4                        0                               0   \n\n   native-country=United-States  native-country=Vietnam  \\\n0                             1                       0   \n1                             1                       0   \n2                             1                       0   \n3                             1                       0   \n4                             0                       0   \n\n   native-country=Yugoslavia  income=large  income=small  \n0                          0             0             1  \n1                          0             0             1  \n2                          0             0             1  \n3                          0             0             1  \n4                          0             0             1  \n\n[5 rows x 109 columns]",
      "text/html": "<div>\n<style scoped>\n    .dataframe tbody tr th:only-of-type {\n        vertical-align: middle;\n    }\n\n    .dataframe tbody tr th {\n        vertical-align: top;\n    }\n\n    .dataframe thead th {\n        text-align: right;\n    }\n</style>\n<table border=\"1\" class=\"dataframe\">\n  <thead>\n    <tr style=\"text-align: right;\">\n      <th></th>\n      <th>age=Young</th>\n      <th>age=Middle-aged</th>\n      <th>age=Senior</th>\n      <th>age=Old</th>\n      <th>workclass=Federal-gov</th>\n      <th>workclass=Local-gov</th>\n      <th>workclass=Never-worked</th>\n      <th>workclass=Private</th>\n      <th>workclass=Self-emp-inc</th>\n      <th>workclass=Self-emp-not-inc</th>\n      <th>...</th>\n      <th>native-country=Scotland</th>\n      <th>native-country=South</th>\n      <th>native-country=Taiwan</th>\n      <th>native-country=Thailand</th>\n      <th>native-country=Trinadad&amp;Tobago</th>\n      <th>native-country=United-States</th>\n      <th>native-country=Vietnam</th>\n      <th>native-country=Yugoslavia</th>\n      <th>income=large</th>\n      <th>income=small</th>\n    </tr>\n  </thead>\n  <tbody>\n    <tr>\n      <th>0</th>\n      <td>0</td>\n      <td>1</td>\n      <td>0</td>\n      <td>0</td>\n      <td>0</td>\n      <td>0</td>\n      <td>0</td>\n      <td>0</td>\n      <td>0</td>\n      <td>0</td>\n      <td>...</td>\n      <td>0</td>\n      <td>0</td>\n      <td>0</td>\n      <td>0</td>\n      <td>0</td>\n      <td>1</td>\n      <td>0</td>\n      <td>0</td>\n      <td>0</td>\n      <td>1</td>\n    </tr>\n    <tr>\n      <th>1</th>\n      <td>0</td>\n      <td>0</td>\n      <td>1</td>\n      <td>0</td>\n      <td>0</td>\n      <td>0</td>\n      <td>0</td>\n      <td>0</td>\n      <td>0</td>\n      <td>1</td>\n      <td>...</td>\n      <td>0</td>\n      <td>0</td>\n      <td>0</td>\n      <td>0</td>\n      <td>0</td>\n      <td>1</td>\n      <td>0</td>\n      <td>0</td>\n      <td>0</td>\n      <td>1</td>\n    </tr>\n    <tr>\n      <th>2</th>\n      <td>0</td>\n      <td>1</td>\n      <td>0</td>\n      <td>0</td>\n      <td>0</td>\n      <td>0</td>\n      <td>0</td>\n      <td>1</td>\n      <td>0</td>\n      <td>0</td>\n      <td>...</td>\n      <td>0</td>\n      <td>0</td>\n      <td>0</td>\n      <td>0</td>\n      <td>0</td>\n      <td>1</td>\n      <td>0</td>\n      <td>0</td>\n      <td>0</td>\n      <td>1</td>\n    </tr>\n    <tr>\n      <th>3</th>\n      <td>0</td>\n      <td>0</td>\n      <td>1</td>\n      <td>0</td>\n      <td>0</td>\n      <td>0</td>\n      <td>0</td>\n      <td>1</td>\n      <td>0</td>\n      <td>0</td>\n      <td>...</td>\n      <td>0</td>\n      <td>0</td>\n      <td>0</td>\n      <td>0</td>\n      <td>0</td>\n      <td>1</td>\n      <td>0</td>\n      <td>0</td>\n      <td>0</td>\n      <td>1</td>\n    </tr>\n    <tr>\n      <th>4</th>\n      <td>0</td>\n      <td>1</td>\n      <td>0</td>\n      <td>0</td>\n      <td>0</td>\n      <td>0</td>\n      <td>0</td>\n      <td>1</td>\n      <td>0</td>\n      <td>0</td>\n      <td>...</td>\n      <td>0</td>\n      <td>0</td>\n      <td>0</td>\n      <td>0</td>\n      <td>0</td>\n      <td>0</td>\n      <td>0</td>\n      <td>0</td>\n      <td>0</td>\n      <td>1</td>\n    </tr>\n  </tbody>\n</table>\n<p>5 rows × 109 columns</p>\n</div>"
     },
     "execution_count": 6,
     "metadata": {},
     "output_type": "execute_result"
    }
   ],
   "source": [
    "transacties = pd.get_dummies(adultUCI, prefix_sep='=')\n",
    "transacties.head()"
   ],
   "metadata": {
    "collapsed": false,
    "pycharm": {
     "name": "#%%\n"
    }
   }
  },
  {
   "cell_type": "markdown",
   "source": [
    "---\n",
    "6. Maak een staafdiagramma van alle items met een support van 0.1 of meer (zie help)."
   ],
   "metadata": {
    "collapsed": false,
    "pycharm": {
     "name": "#%% md\n"
    }
   }
  },
  {
   "cell_type": "code",
   "execution_count": 7,
   "outputs": [
    {
     "data": {
      "text/plain": "<AxesSubplot:xlabel='itemsets'>"
     },
     "execution_count": 7,
     "metadata": {},
     "output_type": "execute_result"
    },
    {
     "data": {
      "text/plain": "<Figure size 720x360 with 1 Axes>",
      "image/png": "[encoded data removed]"
     },
     "metadata": {
      "needs_background": "light"
     },
     "output_type": "display_data"
    }
   ],
   "source": [
    "from mlxtend.frequent_patterns import fpgrowth\n",
    "itemsets = fpgrowth(transacties, min_support=0.1,use_colnames=True)\n",
    "items_support = itemsets[itemsets['support'] >= 0.1] # in feite overbodig wegens vorige regel\n",
    "items_support.sort_values(by='support',ascending=False)[:20].plot.bar(x='itemsets', figsize=(10,5))"
   ],
   "metadata": {
    "collapsed": false,
    "pycharm": {
     "name": "#%%\n"
    }
   }
  },
  {
   "cell_type": "markdown",
   "source": [
    "---\n",
    "\n",
    "7. Welke twee items hebben een zeer hoge support? Kan je hieruit besluiten dat de afgenomen vragenlijst een goed voorbeeld van een aselecte steekproef (zie hoofdstuk introductie)?"
   ],
   "metadata": {
    "collapsed": false,
    "pycharm": {
     "name": "#%% md\n"
    }
   }
  },
  {
   "cell_type": "code",
   "execution_count": 8,
   "outputs": [
    {
     "data": {
      "text/plain": "    support                        itemsets\n0  0.897424  (native-country=United-States)\n1  0.855043                    (race=White)",
      "text/html": "<div>\n<style scoped>\n    .dataframe tbody tr th:only-of-type {\n        vertical-align: middle;\n    }\n\n    .dataframe tbody tr th {\n        vertical-align: top;\n    }\n\n    .dataframe thead th {\n        text-align: right;\n    }\n</style>\n<table border=\"1\" class=\"dataframe\">\n  <thead>\n    <tr style=\"text-align: right;\">\n      <th></th>\n      <th>support</th>\n      <th>itemsets</th>\n    </tr>\n  </thead>\n  <tbody>\n    <tr>\n      <th>0</th>\n      <td>0.897424</td>\n      <td>(native-country=United-States)</td>\n    </tr>\n    <tr>\n      <th>1</th>\n      <td>0.855043</td>\n      <td>(race=White)</td>\n    </tr>\n  </tbody>\n</table>\n</div>"
     },
     "execution_count": 8,
     "metadata": {},
     "output_type": "execute_result"
    }
   ],
   "source": [
    "items_support.head(2)\n",
    "# United States, White. Blanken zijn oververtegenwoordigd in de dataset.\n",
    "# Zie https://en.wikipedia.org/wiki/Race_and_ethnicity_in_the_United_States voor de werkelijke verdeling volgens ras in Amerika."
   ],
   "metadata": {
    "collapsed": false,
    "pycharm": {
     "name": "#%%\n"
    }
   }
  },
  {
   "cell_type": "markdown",
   "source": [
    "---\n",
    "\n",
    "8. Pas het apriori en de association_rules algoritmes toe met volgende parameters:\n",
    "    * support = 0.05,\n",
    "    * confidence = 0.6,\n",
    "    * minlen=2 en maxlen=3\n",
    "\n",
    "Je kunt hiervoor gebruik maken van volgende filterfunctie in combinatie met de <code>.apply</code>-functie van een DataFrame:\n",
    "\n",
    "```python\n",
    "def rule_filter(row, minlen, maxlen):\n",
    "    length = len(row['antecedents']) + len(row['consequents'])\n",
    "    return minlen <= length <= maxlen\n",
    "```\n",
    "In de <a href='https://pandas.pydata.org/pandas-docs/stable/reference/api/pandas.DataFrame.apply.html'>documentatie van Pandas</a> vind je een voorbeeld van het gebruik de <code>.apply</code>-functie. Vergeet het <code>axis=1</code> argument niet.\n",
    "\n",
    "Hoeveel regels heeft het <code>association_rules</code> algoritme gevonden?"
   ],
   "metadata": {
    "collapsed": false,
    "pycharm": {
     "name": "#%% md\n"
    }
   }
  },
  {
   "cell_type": "code",
   "execution_count": 9,
   "outputs": [
    {
     "name": "stdout",
     "output_type": "stream",
     "text": [
      "Gevonden regels 1112\n"
     ]
    }
   ],
   "source": [
    "from mlxtend.frequent_patterns import association_rules\n",
    "itemsets = fpgrowth(transacties, min_support=0.05, use_colnames=True)\n",
    "rules = association_rules(itemsets, metric='confidence', min_threshold=0.6)\n",
    "\n",
    "def rule_filter(row, minlen, maxlen):\n",
    "    length = len(row['antecedents']) + len(row['consequents'])\n",
    "    return minlen <= length <= maxlen\n",
    "\n",
    "## FILTER OP confidence\n",
    "result = rules[rules.apply(lambda row: rule_filter(row, 2, 3), axis=1)].sort_values(by='confidence', ascending=False)\n",
    "\n",
    "print('Gevonden regels {}'.format(result.shape[0]))"
   ],
   "metadata": {
    "collapsed": false,
    "pycharm": {
     "name": "#%%\n"
    }
   }
  },
  {
   "cell_type": "markdown",
   "source": [
    "---\n",
    "\n",
    "9. Bekijk de regels met de hoogste confidence? Wat valt er op?"
   ],
   "metadata": {
    "collapsed": false,
    "pycharm": {
     "name": "#%% md\n"
    }
   }
  },
  {
   "cell_type": "code",
   "execution_count": 10,
   "outputs": [
    {
     "data": {
      "text/plain": "                                            antecedents  \\\n8197     (education=Some-college, relationship=Husband)   \n4075  (relationship=Husband, occupation=Exec-manager...   \n4076  (relationship=Husband, occupation=Exec-manager...   \n5864  (occupation=Prof-specialty, relationship=Husband)   \n7140               (relationship=Husband, income=large)   \n6118   (hours-per-week=Over-time, relationship=Husband)   \n9520    (relationship=Husband, occupation=Craft-repair)   \n3505                 (age=Senior, relationship=Husband)   \n1160        (relationship=Husband, education=Bachelors)   \n1753                             (relationship=Husband)   \n\n                              consequents  antecedent support  \\\n8197                           (sex=Male)            0.074895   \n4075  (marital-status=Married-civ-spouse)            0.066152   \n4076                           (sex=Male)            0.066152   \n5864                           (sex=Male)            0.055137   \n7140                           (sex=Male)            0.121166   \n6118                           (sex=Male)            0.147230   \n9520                           (sex=Male)            0.076389   \n3505                           (sex=Male)            0.147987   \n1160                           (sex=Male)            0.074444   \n1753                           (sex=Male)            0.403669   \n\n      consequent support   support  confidence      lift  leverage  \\\n8197            0.668482  0.074895    1.000000  1.495926  0.024829   \n4075            0.458192  0.066152    1.000000  2.182493  0.035842   \n4076            0.668482  0.066152    1.000000  1.495926  0.021931   \n5864            0.668482  0.055137    1.000000  1.495926  0.018279   \n7140            0.668482  0.121166    1.000000  1.495926  0.040169   \n6118            0.668482  0.147230    1.000000  1.495926  0.048809   \n9520            0.668482  0.076389    1.000000  1.495926  0.025324   \n3505            0.668482  0.147987    1.000000  1.495926  0.049060   \n1160            0.668482  0.074444    1.000000  1.495926  0.024680   \n1753            0.668482  0.403648    0.999949  1.495851  0.133803   \n\n       conviction  \n8197          inf  \n4075          inf  \n4076          inf  \n5864          inf  \n7140          inf  \n6118          inf  \n9520          inf  \n3505          inf  \n1160          inf  \n1753  6536.208018  ",
      "text/html": "<div>\n<style scoped>\n    .dataframe tbody tr th:only-of-type {\n        vertical-align: middle;\n    }\n\n    .dataframe tbody tr th {\n        vertical-align: top;\n    }\n\n    .dataframe thead th {\n        text-align: right;\n    }\n</style>\n<table border=\"1\" class=\"dataframe\">\n  <thead>\n    <tr style=\"text-align: right;\">\n      <th></th>\n      <th>antecedents</th>\n      <th>consequents</th>\n      <th>antecedent support</th>\n      <th>consequent support</th>\n      <th>support</th>\n      <th>confidence</th>\n      <th>lift</th>\n      <th>leverage</th>\n      <th>conviction</th>\n    </tr>\n  </thead>\n  <tbody>\n    <tr>\n      <th>8197</th>\n      <td>(education=Some-college, relationship=Husband)</td>\n      <td>(sex=Male)</td>\n      <td>0.074895</td>\n      <td>0.668482</td>\n      <td>0.074895</td>\n      <td>1.000000</td>\n      <td>1.495926</td>\n      <td>0.024829</td>\n      <td>inf</td>\n    </tr>\n    <tr>\n      <th>4075</th>\n      <td>(relationship=Husband, occupation=Exec-manager...</td>\n      <td>(marital-status=Married-civ-spouse)</td>\n      <td>0.066152</td>\n      <td>0.458192</td>\n      <td>0.066152</td>\n      <td>1.000000</td>\n      <td>2.182493</td>\n      <td>0.035842</td>\n      <td>inf</td>\n    </tr>\n    <tr>\n      <th>4076</th>\n      <td>(relationship=Husband, occupation=Exec-manager...</td>\n      <td>(sex=Male)</td>\n      <td>0.066152</td>\n      <td>0.668482</td>\n      <td>0.066152</td>\n      <td>1.000000</td>\n      <td>1.495926</td>\n      <td>0.021931</td>\n      <td>inf</td>\n    </tr>\n    <tr>\n      <th>5864</th>\n      <td>(occupation=Prof-specialty, relationship=Husband)</td>\n      <td>(sex=Male)</td>\n      <td>0.055137</td>\n      <td>0.668482</td>\n      <td>0.055137</td>\n      <td>1.000000</td>\n      <td>1.495926</td>\n      <td>0.018279</td>\n      <td>inf</td>\n    </tr>\n    <tr>\n      <th>7140</th>\n      <td>(relationship=Husband, income=large)</td>\n      <td>(sex=Male)</td>\n      <td>0.121166</td>\n      <td>0.668482</td>\n      <td>0.121166</td>\n      <td>1.000000</td>\n      <td>1.495926</td>\n      <td>0.040169</td>\n      <td>inf</td>\n    </tr>\n    <tr>\n      <th>6118</th>\n      <td>(hours-per-week=Over-time, relationship=Husband)</td>\n      <td>(sex=Male)</td>\n      <td>0.147230</td>\n      <td>0.668482</td>\n      <td>0.147230</td>\n      <td>1.000000</td>\n      <td>1.495926</td>\n      <td>0.048809</td>\n      <td>inf</td>\n    </tr>\n    <tr>\n      <th>9520</th>\n      <td>(relationship=Husband, occupation=Craft-repair)</td>\n      <td>(sex=Male)</td>\n      <td>0.076389</td>\n      <td>0.668482</td>\n      <td>0.076389</td>\n      <td>1.000000</td>\n      <td>1.495926</td>\n      <td>0.025324</td>\n      <td>inf</td>\n    </tr>\n    <tr>\n      <th>3505</th>\n      <td>(age=Senior, relationship=Husband)</td>\n      <td>(sex=Male)</td>\n      <td>0.147987</td>\n      <td>0.668482</td>\n      <td>0.147987</td>\n      <td>1.000000</td>\n      <td>1.495926</td>\n      <td>0.049060</td>\n      <td>inf</td>\n    </tr>\n    <tr>\n      <th>1160</th>\n      <td>(relationship=Husband, education=Bachelors)</td>\n      <td>(sex=Male)</td>\n      <td>0.074444</td>\n      <td>0.668482</td>\n      <td>0.074444</td>\n      <td>1.000000</td>\n      <td>1.495926</td>\n      <td>0.024680</td>\n      <td>inf</td>\n    </tr>\n    <tr>\n      <th>1753</th>\n      <td>(relationship=Husband)</td>\n      <td>(sex=Male)</td>\n      <td>0.403669</td>\n      <td>0.668482</td>\n      <td>0.403648</td>\n      <td>0.999949</td>\n      <td>1.495851</td>\n      <td>0.133803</td>\n      <td>6536.208018</td>\n    </tr>\n  </tbody>\n</table>\n</div>"
     },
     "metadata": {},
     "output_type": "display_data"
    }
   ],
   "source": [
    "# Bijna al deze regels gaan over de items Husband, Male.\n",
    "display(result.head(10))"
   ],
   "metadata": {
    "collapsed": false,
    "pycharm": {
     "name": "#%%\n"
    }
   }
  },
  {
   "cell_type": "markdown",
   "source": [
    "---\n",
    "\n",
    "10. Kan je verklaren waarom er in dit geval zo’n hoge confidence is?"
   ],
   "metadata": {
    "collapsed": false,
    "pycharm": {
     "name": "#%% md\n"
    }
   }
  },
  {
   "cell_type": "code",
   "execution_count": 11,
   "outputs": [],
   "source": [
    "# Op zich is het dan logisch dat de confidence 1 is. Alle Husbands zullen inderdaad aangeven dat ze Man zijn."
   ],
   "metadata": {
    "collapsed": false,
    "pycharm": {
     "name": "#%%\n"
    }
   }
  },
  {
   "cell_type": "markdown",
   "source": [
    "---\n",
    "\n",
    "11. Die regel en variaties op die regel zijn vrij nutteloos. Verwijder daarom de kolom “relationship”"
   ],
   "metadata": {
    "collapsed": false,
    "pycharm": {
     "name": "#%% md\n"
    }
   }
  },
  {
   "cell_type": "code",
   "execution_count": 12,
   "outputs": [],
   "source": [
    "transacties2 = pd.get_dummies(adultUCI.drop(columns=['relationship']), prefix_sep='=')"
   ],
   "metadata": {
    "collapsed": false,
    "pycharm": {
     "name": "#%%\n"
    }
   }
  },
  {
   "cell_type": "markdown",
   "source": [
    "---\n",
    "\n",
    "12. Voer het apriori algoritme opnieuw uit. Welke regel heeft nu de grootste confidence?"
   ],
   "metadata": {
    "collapsed": false,
    "pycharm": {
     "name": "#%% md\n"
    }
   }
  },
  {
   "cell_type": "code",
   "execution_count": 13,
   "outputs": [],
   "source": [
    "itemsets2 = fpgrowth(transacties2, min_support=0.05,use_colnames=True)\n",
    "rules2 = association_rules(itemsets2, metric='confidence', min_threshold=0.6)"
   ],
   "metadata": {
    "collapsed": false,
    "pycharm": {
     "name": "#%%\n"
    }
   }
  },
  {
   "cell_type": "code",
   "execution_count": 14,
   "outputs": [
    {
     "data": {
      "text/plain": "                                            antecedents  \\\n4145  (marital-status=Married-civ-spouse, occupation...   \n4246              (race=White, occupation=Craft-repair)   \n4211         (age=Middle-aged, occupation=Craft-repair)   \n4294                     (occupation=Machine-op-inspct)   \n1609              (hours-per-week=Part-time, age=Young)   \n1626  (native-country=United-States, workclass=Self-...   \n3511               (race=White, education=Some-college)   \n4249  (native-country=United-States, occupation=Craf...   \n2257              (race=White, marital-status=Divorced)   \n3995                     (race=White, occupation=Sales)   \n2608  (hours-per-week=Over-time, marital-status=Marr...   \n3998                          (occupation=Craft-repair)   \n4282       (education=HS-grad, occupation=Craft-repair)   \n1503           (race=White, occupation=Exec-managerial)   \n4049  (hours-per-week=Full-time, occupation=Craft-re...   \n3010                         (race=White, income=large)   \n2337                (marital-status=Divorced, sex=Male)   \n4004       (workclass=Private, occupation=Craft-repair)   \n1656                    (race=White, education=HS-grad)   \n2831      (hours-per-week=Over-time, education=HS-grad)   \n\n                         consequents  antecedent support  consequent support  \\\n4145                      (sex=Male)            0.078170            0.668482   \n4246                      (sex=Male)            0.112690            0.668482   \n4211                      (sex=Male)            0.074813            0.668482   \n4294             (workclass=Private)            0.061873            0.694198   \n1609  (marital-status=Never-married)            0.057717            0.329982   \n1626                    (race=White)            0.071864            0.855043   \n3511  (native-country=United-States)            0.190185            0.897424   \n4249                      (sex=Male)            0.112669            0.668482   \n2257  (native-country=United-States)            0.116375            0.897424   \n3995  (native-country=United-States)            0.100528            0.897424   \n2608                      (sex=Male)            0.156218            0.668482   \n3998                      (sex=Male)            0.125138            0.668482   \n4282                      (sex=Male)            0.059600            0.668482   \n1503  (native-country=United-States)            0.112076            0.897424   \n4049                      (sex=Male)            0.083002            0.668482   \n3010  (native-country=United-States)            0.145715            0.897424   \n2337  (native-country=United-States)            0.053888            0.897424   \n4004                      (sex=Male)            0.097211            0.668482   \n1656  (native-country=United-States)            0.274088            0.897424   \n2831  (native-country=United-States)            0.073175            0.897424   \n\n       support  confidence      lift  leverage  conviction  \n4145  0.077147    0.986904  1.476336  0.024891   25.314711  \n4246  0.107653    0.955305  1.429066  0.032322    7.417377  \n4211  0.071455    0.955118  1.428786  0.021444    7.386382  \n4294  0.059007    0.953673  1.373777  0.016055    6.600963  \n1609  0.055014    0.953175  2.888563  0.035969   14.308937  \n1626  0.068220    0.949288  1.110223  0.006773    2.858426  \n3511  0.180418    0.948649  1.057080  0.009742    1.997537  \n4249  0.106814    0.948028  1.418181  0.031496    6.378823  \n2257  0.110315    0.947924  1.056272  0.005877    1.969730  \n3995  0.095246    0.947454  1.055748  0.005029    1.952118  \n2608  0.147967    0.947182  1.416915  0.043538    6.276630  \n3998  0.118525    0.947153  1.416871  0.034872    6.273182  \n4282  0.056345    0.945380  1.414218  0.016503    6.069489  \n1503  0.105954    0.945378  1.053435  0.005374    1.877923  \n4049  0.078314    0.943513  1.411425  0.022828    5.868881  \n3010  0.137259    0.941970  1.049637  0.006491    1.767629  \n2337  0.050735    0.941489  1.049102  0.002375    1.753111  \n4004  0.091479    0.941028  1.407708  0.026495    5.621597  \n1656  0.257831    0.940689  1.048210  0.011858    1.729446  \n2831  0.068793    0.940123  1.047579  0.003124    1.713109  ",
      "text/html": "<div>\n<style scoped>\n    .dataframe tbody tr th:only-of-type {\n        vertical-align: middle;\n    }\n\n    .dataframe tbody tr th {\n        vertical-align: top;\n    }\n\n    .dataframe thead th {\n        text-align: right;\n    }\n</style>\n<table border=\"1\" class=\"dataframe\">\n  <thead>\n    <tr style=\"text-align: right;\">\n      <th></th>\n      <th>antecedents</th>\n      <th>consequents</th>\n      <th>antecedent support</th>\n      <th>consequent support</th>\n      <th>support</th>\n      <th>confidence</th>\n      <th>lift</th>\n      <th>leverage</th>\n      <th>conviction</th>\n    </tr>\n  </thead>\n  <tbody>\n    <tr>\n      <th>4145</th>\n      <td>(marital-status=Married-civ-spouse, occupation...</td>\n      <td>(sex=Male)</td>\n      <td>0.078170</td>\n      <td>0.668482</td>\n      <td>0.077147</td>\n      <td>0.986904</td>\n      <td>1.476336</td>\n      <td>0.024891</td>\n      <td>25.314711</td>\n    </tr>\n    <tr>\n      <th>4246</th>\n      <td>(race=White, occupation=Craft-repair)</td>\n      <td>(sex=Male)</td>\n      <td>0.112690</td>\n      <td>0.668482</td>\n      <td>0.107653</td>\n      <td>0.955305</td>\n      <td>1.429066</td>\n      <td>0.032322</td>\n      <td>7.417377</td>\n    </tr>\n    <tr>\n      <th>4211</th>\n      <td>(age=Middle-aged, occupation=Craft-repair)</td>\n      <td>(sex=Male)</td>\n      <td>0.074813</td>\n      <td>0.668482</td>\n      <td>0.071455</td>\n      <td>0.955118</td>\n      <td>1.428786</td>\n      <td>0.021444</td>\n      <td>7.386382</td>\n    </tr>\n    <tr>\n      <th>4294</th>\n      <td>(occupation=Machine-op-inspct)</td>\n      <td>(workclass=Private)</td>\n      <td>0.061873</td>\n      <td>0.694198</td>\n      <td>0.059007</td>\n      <td>0.953673</td>\n      <td>1.373777</td>\n      <td>0.016055</td>\n      <td>6.600963</td>\n    </tr>\n    <tr>\n      <th>1609</th>\n      <td>(hours-per-week=Part-time, age=Young)</td>\n      <td>(marital-status=Never-married)</td>\n      <td>0.057717</td>\n      <td>0.329982</td>\n      <td>0.055014</td>\n      <td>0.953175</td>\n      <td>2.888563</td>\n      <td>0.035969</td>\n      <td>14.308937</td>\n    </tr>\n    <tr>\n      <th>1626</th>\n      <td>(native-country=United-States, workclass=Self-...</td>\n      <td>(race=White)</td>\n      <td>0.071864</td>\n      <td>0.855043</td>\n      <td>0.068220</td>\n      <td>0.949288</td>\n      <td>1.110223</td>\n      <td>0.006773</td>\n      <td>2.858426</td>\n    </tr>\n    <tr>\n      <th>3511</th>\n      <td>(race=White, education=Some-college)</td>\n      <td>(native-country=United-States)</td>\n      <td>0.190185</td>\n      <td>0.897424</td>\n      <td>0.180418</td>\n      <td>0.948649</td>\n      <td>1.057080</td>\n      <td>0.009742</td>\n      <td>1.997537</td>\n    </tr>\n    <tr>\n      <th>4249</th>\n      <td>(native-country=United-States, occupation=Craf...</td>\n      <td>(sex=Male)</td>\n      <td>0.112669</td>\n      <td>0.668482</td>\n      <td>0.106814</td>\n      <td>0.948028</td>\n      <td>1.418181</td>\n      <td>0.031496</td>\n      <td>6.378823</td>\n    </tr>\n    <tr>\n      <th>2257</th>\n      <td>(race=White, marital-status=Divorced)</td>\n      <td>(native-country=United-States)</td>\n      <td>0.116375</td>\n      <td>0.897424</td>\n      <td>0.110315</td>\n      <td>0.947924</td>\n      <td>1.056272</td>\n      <td>0.005877</td>\n      <td>1.969730</td>\n    </tr>\n    <tr>\n      <th>3995</th>\n      <td>(race=White, occupation=Sales)</td>\n      <td>(native-country=United-States)</td>\n      <td>0.100528</td>\n      <td>0.897424</td>\n      <td>0.095246</td>\n      <td>0.947454</td>\n      <td>1.055748</td>\n      <td>0.005029</td>\n      <td>1.952118</td>\n    </tr>\n    <tr>\n      <th>2608</th>\n      <td>(hours-per-week=Over-time, marital-status=Marr...</td>\n      <td>(sex=Male)</td>\n      <td>0.156218</td>\n      <td>0.668482</td>\n      <td>0.147967</td>\n      <td>0.947182</td>\n      <td>1.416915</td>\n      <td>0.043538</td>\n      <td>6.276630</td>\n    </tr>\n    <tr>\n      <th>3998</th>\n      <td>(occupation=Craft-repair)</td>\n      <td>(sex=Male)</td>\n      <td>0.125138</td>\n      <td>0.668482</td>\n      <td>0.118525</td>\n      <td>0.947153</td>\n      <td>1.416871</td>\n      <td>0.034872</td>\n      <td>6.273182</td>\n    </tr>\n    <tr>\n      <th>4282</th>\n      <td>(education=HS-grad, occupation=Craft-repair)</td>\n      <td>(sex=Male)</td>\n      <td>0.059600</td>\n      <td>0.668482</td>\n      <td>0.056345</td>\n      <td>0.945380</td>\n      <td>1.414218</td>\n      <td>0.016503</td>\n      <td>6.069489</td>\n    </tr>\n    <tr>\n      <th>1503</th>\n      <td>(race=White, occupation=Exec-managerial)</td>\n      <td>(native-country=United-States)</td>\n      <td>0.112076</td>\n      <td>0.897424</td>\n      <td>0.105954</td>\n      <td>0.945378</td>\n      <td>1.053435</td>\n      <td>0.005374</td>\n      <td>1.877923</td>\n    </tr>\n    <tr>\n      <th>4049</th>\n      <td>(hours-per-week=Full-time, occupation=Craft-re...</td>\n      <td>(sex=Male)</td>\n      <td>0.083002</td>\n      <td>0.668482</td>\n      <td>0.078314</td>\n      <td>0.943513</td>\n      <td>1.411425</td>\n      <td>0.022828</td>\n      <td>5.868881</td>\n    </tr>\n    <tr>\n      <th>3010</th>\n      <td>(race=White, income=large)</td>\n      <td>(native-country=United-States)</td>\n      <td>0.145715</td>\n      <td>0.897424</td>\n      <td>0.137259</td>\n      <td>0.941970</td>\n      <td>1.049637</td>\n      <td>0.006491</td>\n      <td>1.767629</td>\n    </tr>\n    <tr>\n      <th>2337</th>\n      <td>(marital-status=Divorced, sex=Male)</td>\n      <td>(native-country=United-States)</td>\n      <td>0.053888</td>\n      <td>0.897424</td>\n      <td>0.050735</td>\n      <td>0.941489</td>\n      <td>1.049102</td>\n      <td>0.002375</td>\n      <td>1.753111</td>\n    </tr>\n    <tr>\n      <th>4004</th>\n      <td>(workclass=Private, occupation=Craft-repair)</td>\n      <td>(sex=Male)</td>\n      <td>0.097211</td>\n      <td>0.668482</td>\n      <td>0.091479</td>\n      <td>0.941028</td>\n      <td>1.407708</td>\n      <td>0.026495</td>\n      <td>5.621597</td>\n    </tr>\n    <tr>\n      <th>1656</th>\n      <td>(race=White, education=HS-grad)</td>\n      <td>(native-country=United-States)</td>\n      <td>0.274088</td>\n      <td>0.897424</td>\n      <td>0.257831</td>\n      <td>0.940689</td>\n      <td>1.048210</td>\n      <td>0.011858</td>\n      <td>1.729446</td>\n    </tr>\n    <tr>\n      <th>2831</th>\n      <td>(hours-per-week=Over-time, education=HS-grad)</td>\n      <td>(native-country=United-States)</td>\n      <td>0.073175</td>\n      <td>0.897424</td>\n      <td>0.068793</td>\n      <td>0.940123</td>\n      <td>1.047579</td>\n      <td>0.003124</td>\n      <td>1.713109</td>\n    </tr>\n  </tbody>\n</table>\n</div>"
     },
     "execution_count": 14,
     "metadata": {},
     "output_type": "execute_result"
    }
   ],
   "source": [
    "result2 = rules2[rules2.apply(lambda row: rule_filter(row, 2, 3), axis=1)].sort_values(by='confidence', ascending=False)\n",
    "result2.head(20)"
   ],
   "metadata": {
    "collapsed": false,
    "pycharm": {
     "name": "#%%\n"
    }
   }
  },
  {
   "cell_type": "markdown",
   "source": [
    "---\n",
    "\n",
    "13. Als je van deze regel de lift bekijkt zou je deze dan nog steeds in overweging nemen als goede association rule? Waarom?"
   ],
   "metadata": {
    "collapsed": false,
    "pycharm": {
     "name": "#%% md\n"
    }
   }
  },
  {
   "cell_type": "code",
   "execution_count": 15,
   "outputs": [],
   "source": [
    "# Ja.  De lift (1.476336) ligt ver boven de 1. Dit wil zeggen dat er meer kans is dat iemand sex=Male heeft ingevuld als hij ook marital-status=Married-civ-spouse,occupation=Craft-repair heeft ingevuld dan dat er in de volledige dataset sex=Male hebben ingevuld"
   ],
   "metadata": {
    "collapsed": false,
    "pycharm": {
     "name": "#%%\n"
    }
   }
  },
  {
   "cell_type": "markdown",
   "source": [
    "---\n",
    "\n",
    "14. Als een respodent invult dat hij overuren klopt (hours-per-week) en een beperkt inkomen heeft in welke leeftijdscategorie kunnen we dan verwachten dat hij zit? Hoe zeker ben je daarvan?"
   ],
   "metadata": {
    "collapsed": false,
    "pycharm": {
     "name": "#%% md\n"
    }
   }
  },
  {
   "cell_type": "code",
   "execution_count": 16,
   "outputs": [
    {
     "data": {
      "text/plain": "                                   antecedents  \\\n2962  (income=small, hours-per-week=Over-time)   \n2966  (income=small, hours-per-week=Over-time)   \n2963  (income=small, hours-per-week=Over-time)   \n2964  (income=small, hours-per-week=Over-time)   \n2965  (income=small, hours-per-week=Over-time)   \n\n                         consequents  antecedent support  consequent support  \\\n2962  (native-country=United-States)             0.10276            0.897424   \n2966                    (race=White)             0.10276            0.855043   \n2963                      (sex=Male)             0.10276            0.668482   \n2964             (workclass=Private)             0.10276            0.694198   \n2965               (age=Middle-aged)             0.10276            0.505119   \n\n       support  confidence      lift  leverage  conviction  \n2962  0.093383    0.908747  1.012617  0.001163    1.124077  \n2966  0.092748    0.902570  1.055585  0.004884    1.487812  \n2963  0.077618    0.755330  1.129918  0.008924    1.354958  \n2964  0.073072    0.711098  1.024345  0.001737    1.058498  \n2965  0.063306    0.616059  1.219632  0.011400    1.288952  ",
      "text/html": "<div>\n<style scoped>\n    .dataframe tbody tr th:only-of-type {\n        vertical-align: middle;\n    }\n\n    .dataframe tbody tr th {\n        vertical-align: top;\n    }\n\n    .dataframe thead th {\n        text-align: right;\n    }\n</style>\n<table border=\"1\" class=\"dataframe\">\n  <thead>\n    <tr style=\"text-align: right;\">\n      <th></th>\n      <th>antecedents</th>\n      <th>consequents</th>\n      <th>antecedent support</th>\n      <th>consequent support</th>\n      <th>support</th>\n      <th>confidence</th>\n      <th>lift</th>\n      <th>leverage</th>\n      <th>conviction</th>\n    </tr>\n  </thead>\n  <tbody>\n    <tr>\n      <th>2962</th>\n      <td>(income=small, hours-per-week=Over-time)</td>\n      <td>(native-country=United-States)</td>\n      <td>0.10276</td>\n      <td>0.897424</td>\n      <td>0.093383</td>\n      <td>0.908747</td>\n      <td>1.012617</td>\n      <td>0.001163</td>\n      <td>1.124077</td>\n    </tr>\n    <tr>\n      <th>2966</th>\n      <td>(income=small, hours-per-week=Over-time)</td>\n      <td>(race=White)</td>\n      <td>0.10276</td>\n      <td>0.855043</td>\n      <td>0.092748</td>\n      <td>0.902570</td>\n      <td>1.055585</td>\n      <td>0.004884</td>\n      <td>1.487812</td>\n    </tr>\n    <tr>\n      <th>2963</th>\n      <td>(income=small, hours-per-week=Over-time)</td>\n      <td>(sex=Male)</td>\n      <td>0.10276</td>\n      <td>0.668482</td>\n      <td>0.077618</td>\n      <td>0.755330</td>\n      <td>1.129918</td>\n      <td>0.008924</td>\n      <td>1.354958</td>\n    </tr>\n    <tr>\n      <th>2964</th>\n      <td>(income=small, hours-per-week=Over-time)</td>\n      <td>(workclass=Private)</td>\n      <td>0.10276</td>\n      <td>0.694198</td>\n      <td>0.073072</td>\n      <td>0.711098</td>\n      <td>1.024345</td>\n      <td>0.001737</td>\n      <td>1.058498</td>\n    </tr>\n    <tr>\n      <th>2965</th>\n      <td>(income=small, hours-per-week=Over-time)</td>\n      <td>(age=Middle-aged)</td>\n      <td>0.10276</td>\n      <td>0.505119</td>\n      <td>0.063306</td>\n      <td>0.616059</td>\n      <td>1.219632</td>\n      <td>0.011400</td>\n      <td>1.288952</td>\n    </tr>\n  </tbody>\n</table>\n</div>"
     },
     "execution_count": 16,
     "metadata": {},
     "output_type": "execute_result"
    }
   ],
   "source": [
    "result2[result2['antecedents'].apply(lambda x: 'Over-time' in str(x) and 'income=small' in str(x))]\n",
    "# (age=Middle-aged)\n",
    "# De confidence is 0.616.\n",
    "# Dat wil zeggen dat als hij heeft aangegeven dat hij een bescheiden inkomen heeft en dat hij overuren presteerd dat hij dan in ongeveer 62% van de gevallen heeft aangegeven dat hij middle-aged was."
   ],
   "metadata": {
    "collapsed": false,
    "pycharm": {
     "name": "#%%\n"
    }
   }
  },
  {
   "cell_type": "markdown",
   "source": [
    "---\n",
    "15. Beschrijf wat de lift zegt van de in 14 gebruikte regel."
   ],
   "metadata": {
    "collapsed": false,
    "pycharm": {
     "name": "#%% md\n"
    }
   }
  },
  {
   "cell_type": "code",
   "execution_count": 17,
   "outputs": [],
   "source": [
    "# De lift is 1.219.\n",
    "# Dat wil zeggen dat we doordat we weten dat de respondent Over-time\n",
    "# en income=small heeft ingevuld we er zekerder van geworden zijn\n",
    "# dat hij ook age=Middle-aged zal invullen"
   ],
   "metadata": {
    "collapsed": false,
    "pycharm": {
     "name": "#%%\n"
    }
   }
  },
  {
   "cell_type": "markdown",
   "source": [
    "---\n",
    "16. Komt de combinatie van de drie items uit vorige 2 vragen vaak voor? Welk getal heb je hiervoor gebruikt?"
   ],
   "metadata": {
    "collapsed": false,
    "pycharm": {
     "name": "#%% md\n"
    }
   }
  },
  {
   "cell_type": "code",
   "execution_count": 18,
   "outputs": [],
   "source": [
    "# De combinatie heeft een support van 0.063306 en komt dus 6.3306% keer voor in de dataset."
   ],
   "metadata": {
    "collapsed": false,
    "pycharm": {
     "name": "#%%\n"
    }
   }
  },
  {
   "cell_type": "markdown",
   "source": [
    "---\n",
    "17. Kom je ergens een regel tegen met hours-per-week=Workaholic? Kun je verklaren waarom dit zo is?"
   ],
   "metadata": {
    "collapsed": false,
    "pycharm": {
     "name": "#%% md\n"
    }
   }
  },
  {
   "cell_type": "code",
   "execution_count": 19,
   "outputs": [],
   "source": [
    "# Deze komt niet voor omdat de support van Workaholic kleiner is dan de minimum support van 0.05 die we hebben opgegeven.\n",
    "# Daarom werden er met Workaholic geen rules gemaakt"
   ],
   "metadata": {
    "collapsed": false,
    "pycharm": {
     "name": "#%%\n"
    }
   }
  }
 ],
 "metadata": {
  "kernelspec": {
   "display_name": "Python 3",
   "language": "python",
   "name": "python3"
  },
  "language_info": {
   "codemirror_mode": {
    "name": "ipython",
    "version": 2
   },
   "file_extension": ".py",
   "mimetype": "text/x-python",
   "name": "python",
   "nbconvert_exporter": "python",
   "pygments_lexer": "ipython2",
   "version": "2.7.6"
  }
 },
 "nbformat": 4,
 "nbformat_minor": 0
}