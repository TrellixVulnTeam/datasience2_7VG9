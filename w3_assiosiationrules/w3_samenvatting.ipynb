{
 "cells": [
  {
   "cell_type": "markdown",
   "source": [
    "## Association Rules\n",
    "Regels die verbanden weer geven tussen bepaalde zaken wat kopen we vaak samen?\n",
    "\n",
    "### Transformatie\n",
    "We moeten er voor zorgen dat we het juiste formaat aanleveren\n",
    "\n",
    "#### Lijst van lijst\n",
    " * Gebruik een TransactionEncoder wanneer je gegevens in dit formaat staan"
   ],
   "metadata": {
    "collapsed": false
   }
  },
  {
   "cell_type": "code",
   "execution_count": 2,
   "outputs": [
    {
     "data": {
      "text/plain": "[['Printer', 'Cartridge', 'Balpen'],\n ['Papier', 'Cartridge'],\n ['Papier', 'Cartridge'],\n ['Printer', 'Cartridge'],\n ['Printer', 'Cartridge'],\n ['Balpen'],\n ['Papier', 'Cartridge', 'Balpen'],\n ['Cartridge'],\n ['Printer', 'Balpen'],\n ['Papier']]"
     },
     "execution_count": 2,
     "metadata": {},
     "output_type": "execute_result"
    }
   ],
   "source": [
    "#FOUT FORMAAT\n",
    "transacties = [['Printer', 'Cartridge', 'Balpen'],\n",
    "                ['Papier', 'Cartridge'],\n",
    "                ['Papier', 'Cartridge'],\n",
    "                ['Printer', 'Cartridge'],\n",
    "                ['Printer', 'Cartridge'],\n",
    "                ['Balpen'],\n",
    "                ['Papier', 'Cartridge', 'Balpen'],\n",
    "                ['Cartridge'],\n",
    "                ['Printer', 'Balpen'],\n",
    "                ['Papier']]\n",
    "transacties"
   ],
   "metadata": {
    "collapsed": false,
    "pycharm": {
     "name": "#%%\n"
    }
   }
  },
  {
   "cell_type": "code",
   "execution_count": 4,
   "outputs": [
    {
     "data": {
      "text/plain": "             0      1      2      3\n1000123   True   True  False   True\n1000124  False   True   True  False\n1000125  False   True   True  False\n1000126  False   True  False   True\n1000127  False   True  False   True\n1000128   True  False  False  False\n1000129   True   True   True  False\n1000130  False   True  False  False\n1000131   True  False  False   True\n1000132  False  False   True  False",
      "text/html": "<div>\n<style scoped>\n    .dataframe tbody tr th:only-of-type {\n        vertical-align: middle;\n    }\n\n    .dataframe tbody tr th {\n        vertical-align: top;\n    }\n\n    .dataframe thead th {\n        text-align: right;\n    }\n</style>\n<table border=\"1\" class=\"dataframe\">\n  <thead>\n    <tr style=\"text-align: right;\">\n      <th></th>\n      <th>0</th>\n      <th>1</th>\n      <th>2</th>\n      <th>3</th>\n    </tr>\n  </thead>\n  <tbody>\n    <tr>\n      <th>1000123</th>\n      <td>True</td>\n      <td>True</td>\n      <td>False</td>\n      <td>True</td>\n    </tr>\n    <tr>\n      <th>1000124</th>\n      <td>False</td>\n      <td>True</td>\n      <td>True</td>\n      <td>False</td>\n    </tr>\n    <tr>\n      <th>1000125</th>\n      <td>False</td>\n      <td>True</td>\n      <td>True</td>\n      <td>False</td>\n    </tr>\n    <tr>\n      <th>1000126</th>\n      <td>False</td>\n      <td>True</td>\n      <td>False</td>\n      <td>True</td>\n    </tr>\n    <tr>\n      <th>1000127</th>\n      <td>False</td>\n      <td>True</td>\n      <td>False</td>\n      <td>True</td>\n    </tr>\n    <tr>\n      <th>1000128</th>\n      <td>True</td>\n      <td>False</td>\n      <td>False</td>\n      <td>False</td>\n    </tr>\n    <tr>\n      <th>1000129</th>\n      <td>True</td>\n      <td>True</td>\n      <td>True</td>\n      <td>False</td>\n    </tr>\n    <tr>\n      <th>1000130</th>\n      <td>False</td>\n      <td>True</td>\n      <td>False</td>\n      <td>False</td>\n    </tr>\n    <tr>\n      <th>1000131</th>\n      <td>True</td>\n      <td>False</td>\n      <td>False</td>\n      <td>True</td>\n    </tr>\n    <tr>\n      <th>1000132</th>\n      <td>False</td>\n      <td>False</td>\n      <td>True</td>\n      <td>False</td>\n    </tr>\n  </tbody>\n</table>\n</div>"
     },
     "execution_count": 4,
     "metadata": {},
     "output_type": "execute_result"
    }
   ],
   "source": [
    "import pandas as pd\n",
    "from mlxtend.preprocessing import TransactionEncoder\n",
    "\n",
    "te = TransactionEncoder()\n",
    "dataset = te.fit(transacties).transform(transacties)\n",
    "# combineer in Dataframe voor een correct formaat\n",
    "kassatickets = pd.DataFrame(dataset, columns=te.columns_, index=range(1000123,1000133))\n",
    "kassatickets\n"
   ],
   "metadata": {
    "collapsed": false,
    "pycharm": {
     "name": "#%%\n"
    }
   }
  },
  {
   "cell_type": "markdown",
   "source": [
    "#### Sequentieel formaat (ALLES ONDER ELKAAR)\n",
    "\n",
    "* Gebruik een get_dummies wanneer je gegevens in dit formaat staan\n"
   ],
   "metadata": {
    "collapsed": false,
    "pycharm": {
     "name": "#%% md\n"
    }
   }
  },
  {
   "cell_type": "code",
   "execution_count": 78,
   "outputs": [
    {
     "data": {
      "text/plain": "               Product\nKassaTicket           \n1000123        Printer\n1000123      Cartridge\n1000123         Balpen\n1000124         Papier\n1000124      Cartridge\n1000125         Papier\n1000125      Cartridge\n1000126        Printer\n1000126      Cartridge\n1000127        Printer\n1000127      Cartridge\n1000128         Balpen\n1000129         Papier\n1000129      Cartridge\n1000129         Balpen\n1000130      Cartridge\n1000131        Printer\n1000131         Balpen\n1000132         Papier",
      "text/html": "<div>\n<style scoped>\n    .dataframe tbody tr th:only-of-type {\n        vertical-align: middle;\n    }\n\n    .dataframe tbody tr th {\n        vertical-align: top;\n    }\n\n    .dataframe thead th {\n        text-align: right;\n    }\n</style>\n<table border=\"1\" class=\"dataframe\">\n  <thead>\n    <tr style=\"text-align: right;\">\n      <th></th>\n      <th>Product</th>\n    </tr>\n    <tr>\n      <th>KassaTicket</th>\n      <th></th>\n    </tr>\n  </thead>\n  <tbody>\n    <tr>\n      <th>1000123</th>\n      <td>Printer</td>\n    </tr>\n    <tr>\n      <th>1000123</th>\n      <td>Cartridge</td>\n    </tr>\n    <tr>\n      <th>1000123</th>\n      <td>Balpen</td>\n    </tr>\n    <tr>\n      <th>1000124</th>\n      <td>Papier</td>\n    </tr>\n    <tr>\n      <th>1000124</th>\n      <td>Cartridge</td>\n    </tr>\n    <tr>\n      <th>1000125</th>\n      <td>Papier</td>\n    </tr>\n    <tr>\n      <th>1000125</th>\n      <td>Cartridge</td>\n    </tr>\n    <tr>\n      <th>1000126</th>\n      <td>Printer</td>\n    </tr>\n    <tr>\n      <th>1000126</th>\n      <td>Cartridge</td>\n    </tr>\n    <tr>\n      <th>1000127</th>\n      <td>Printer</td>\n    </tr>\n    <tr>\n      <th>1000127</th>\n      <td>Cartridge</td>\n    </tr>\n    <tr>\n      <th>1000128</th>\n      <td>Balpen</td>\n    </tr>\n    <tr>\n      <th>1000129</th>\n      <td>Papier</td>\n    </tr>\n    <tr>\n      <th>1000129</th>\n      <td>Cartridge</td>\n    </tr>\n    <tr>\n      <th>1000129</th>\n      <td>Balpen</td>\n    </tr>\n    <tr>\n      <th>1000130</th>\n      <td>Cartridge</td>\n    </tr>\n    <tr>\n      <th>1000131</th>\n      <td>Printer</td>\n    </tr>\n    <tr>\n      <th>1000131</th>\n      <td>Balpen</td>\n    </tr>\n    <tr>\n      <th>1000132</th>\n      <td>Papier</td>\n    </tr>\n  </tbody>\n</table>\n</div>"
     },
     "execution_count": 78,
     "metadata": {},
     "output_type": "execute_result"
    }
   ],
   "source": [
    "#FOUT FORMAAT\n",
    "import pandas as pd\n",
    "transacties = pd.read_csv('./transacties.csv',sep=';', index_col=0)\n",
    "transacties"
   ],
   "metadata": {
    "collapsed": false,
    "pycharm": {
     "name": "#%%\n"
    }
   }
  },
  {
   "cell_type": "code",
   "execution_count": 79,
   "outputs": [
    {
     "data": {
      "text/plain": "             Balpen  Cartridge  Papier  Printer\nKassaTicket                                    \n1000123           1          1       0        1\n1000124           0          1       1        0\n1000125           0          1       1        0\n1000126           0          1       0        1\n1000127           0          1       0        1\n1000128           1          0       0        0\n1000129           1          1       1        0\n1000130           0          1       0        0\n1000131           1          0       0        1\n1000132           0          0       1        0",
      "text/html": "<div>\n<style scoped>\n    .dataframe tbody tr th:only-of-type {\n        vertical-align: middle;\n    }\n\n    .dataframe tbody tr th {\n        vertical-align: top;\n    }\n\n    .dataframe thead th {\n        text-align: right;\n    }\n</style>\n<table border=\"1\" class=\"dataframe\">\n  <thead>\n    <tr style=\"text-align: right;\">\n      <th></th>\n      <th>Balpen</th>\n      <th>Cartridge</th>\n      <th>Papier</th>\n      <th>Printer</th>\n    </tr>\n    <tr>\n      <th>KassaTicket</th>\n      <th></th>\n      <th></th>\n      <th></th>\n      <th></th>\n    </tr>\n  </thead>\n  <tbody>\n    <tr>\n      <th>1000123</th>\n      <td>1</td>\n      <td>1</td>\n      <td>0</td>\n      <td>1</td>\n    </tr>\n    <tr>\n      <th>1000124</th>\n      <td>0</td>\n      <td>1</td>\n      <td>1</td>\n      <td>0</td>\n    </tr>\n    <tr>\n      <th>1000125</th>\n      <td>0</td>\n      <td>1</td>\n      <td>1</td>\n      <td>0</td>\n    </tr>\n    <tr>\n      <th>1000126</th>\n      <td>0</td>\n      <td>1</td>\n      <td>0</td>\n      <td>1</td>\n    </tr>\n    <tr>\n      <th>1000127</th>\n      <td>0</td>\n      <td>1</td>\n      <td>0</td>\n      <td>1</td>\n    </tr>\n    <tr>\n      <th>1000128</th>\n      <td>1</td>\n      <td>0</td>\n      <td>0</td>\n      <td>0</td>\n    </tr>\n    <tr>\n      <th>1000129</th>\n      <td>1</td>\n      <td>1</td>\n      <td>1</td>\n      <td>0</td>\n    </tr>\n    <tr>\n      <th>1000130</th>\n      <td>0</td>\n      <td>1</td>\n      <td>0</td>\n      <td>0</td>\n    </tr>\n    <tr>\n      <th>1000131</th>\n      <td>1</td>\n      <td>0</td>\n      <td>0</td>\n      <td>1</td>\n    </tr>\n    <tr>\n      <th>1000132</th>\n      <td>0</td>\n      <td>0</td>\n      <td>1</td>\n      <td>0</td>\n    </tr>\n  </tbody>\n</table>\n</div>"
     },
     "execution_count": 79,
     "metadata": {},
     "output_type": "execute_result"
    }
   ],
   "source": [
    "kassatickets = pd.get_dummies(transacties, prefix='', prefix_sep='').groupby(level='KassaTicket').sum()\n",
    "kassatickets\n"
   ],
   "metadata": {
    "collapsed": false,
    "pycharm": {
     "name": "#%%\n"
    }
   }
  },
  {
   "cell_type": "markdown",
   "source": [
    "#### Support\n",
    "Het aantal keer dat een product A voor komt gedeeld door het het totaal van dat product.<br>\n",
    "De kans dat je dat product vindt in een winkelkar.\n",
    "De **onvoorwaardleijke kans** **PRIOR KANS**\n",
    "\n",
    "\n",
    "$Support(A)=\\frac{\\#A}{N}$\n",
    "$Support(Printer)=\\frac{4}{10}=0.4$\n",
    "\n",
    "\n"
   ],
   "metadata": {
    "collapsed": false,
    "pycharm": {
     "name": "#%% md\n"
    }
   }
  },
  {
   "cell_type": "markdown",
   "source": [
    "### Algortime 1\n",
    "\n",
    "#### Apriori\n",
    "Legt een miminum support op. ( bv van 0.2 )\n",
    "Als er ergens een comibnatie is die onder de 0.2 valt dan wordt deze geschrapt.\n",
    "Alle de mogelijk combinaties worden gemaakt en er wordt gekeken hoe vaak deze komen deze voorkomen.\n",
    "\n"
   ],
   "metadata": {
    "collapsed": false,
    "pycharm": {
     "name": "#%% md\n"
    }
   }
  },
  {
   "cell_type": "code",
   "execution_count": 61,
   "outputs": [
    {
     "data": {
      "text/plain": "             Balpen  Cartridge  Papier  Printer\nKassaTicket                                    \n1000123           1          1       0        1\n1000124           0          1       1        0\n1000125           0          1       1        0\n1000126           0          1       0        1\n1000127           0          1       0        1\n1000128           1          0       0        0\n1000129           1          1       1        0\n1000130           0          1       0        0\n1000131           1          0       0        1\n1000132           0          0       1        0",
      "text/html": "<div>\n<style scoped>\n    .dataframe tbody tr th:only-of-type {\n        vertical-align: middle;\n    }\n\n    .dataframe tbody tr th {\n        vertical-align: top;\n    }\n\n    .dataframe thead th {\n        text-align: right;\n    }\n</style>\n<table border=\"1\" class=\"dataframe\">\n  <thead>\n    <tr style=\"text-align: right;\">\n      <th></th>\n      <th>Balpen</th>\n      <th>Cartridge</th>\n      <th>Papier</th>\n      <th>Printer</th>\n    </tr>\n    <tr>\n      <th>KassaTicket</th>\n      <th></th>\n      <th></th>\n      <th></th>\n      <th></th>\n    </tr>\n  </thead>\n  <tbody>\n    <tr>\n      <th>1000123</th>\n      <td>1</td>\n      <td>1</td>\n      <td>0</td>\n      <td>1</td>\n    </tr>\n    <tr>\n      <th>1000124</th>\n      <td>0</td>\n      <td>1</td>\n      <td>1</td>\n      <td>0</td>\n    </tr>\n    <tr>\n      <th>1000125</th>\n      <td>0</td>\n      <td>1</td>\n      <td>1</td>\n      <td>0</td>\n    </tr>\n    <tr>\n      <th>1000126</th>\n      <td>0</td>\n      <td>1</td>\n      <td>0</td>\n      <td>1</td>\n    </tr>\n    <tr>\n      <th>1000127</th>\n      <td>0</td>\n      <td>1</td>\n      <td>0</td>\n      <td>1</td>\n    </tr>\n    <tr>\n      <th>1000128</th>\n      <td>1</td>\n      <td>0</td>\n      <td>0</td>\n      <td>0</td>\n    </tr>\n    <tr>\n      <th>1000129</th>\n      <td>1</td>\n      <td>1</td>\n      <td>1</td>\n      <td>0</td>\n    </tr>\n    <tr>\n      <th>1000130</th>\n      <td>0</td>\n      <td>1</td>\n      <td>0</td>\n      <td>0</td>\n    </tr>\n    <tr>\n      <th>1000131</th>\n      <td>1</td>\n      <td>0</td>\n      <td>0</td>\n      <td>1</td>\n    </tr>\n    <tr>\n      <th>1000132</th>\n      <td>0</td>\n      <td>0</td>\n      <td>1</td>\n      <td>0</td>\n    </tr>\n  </tbody>\n</table>\n</div>"
     },
     "metadata": {},
     "output_type": "display_data"
    },
    {
     "data": {
      "text/plain": "Balpen       0.4\nCartridge    0.7\nPapier       0.4\nPrinter      0.4\ndtype: float64"
     },
     "execution_count": 61,
     "metadata": {},
     "output_type": "execute_result"
    }
   ],
   "source": [
    "# transacties.csv\n",
    "\n",
    "import pandas as pd\n",
    "from mlxtend.frequent_patterns import fpgrowth\n",
    "transacties1 = pd.read_csv('transacties.csv',sep=';', index_col=0)\n",
    "transacties1\n",
    "\n",
    "\n",
    "\n",
    "# FROMAAT1\n",
    "\n",
    "kassatickets1 = pd.get_dummies(transacties1, prefix='', prefix_sep='').groupby('KassaTicket').sum()\n",
    "display(kassatickets1)\n",
    "supports = kassatickets1.mean(axis=0)\n",
    "supports\n",
    "\n"
   ],
   "metadata": {
    "collapsed": false,
    "pycharm": {
     "name": "#%%import pandas as pd\n"
    }
   }
  },
  {
   "cell_type": "code",
   "execution_count": 62,
   "outputs": [
    {
     "data": {
      "text/plain": "         Balpen  Cartridge  Papier  Printer\n1000123    True       True   False     True\n1000124   False       True    True    False\n1000125   False       True    True    False\n1000126   False       True   False     True\n1000127   False       True   False     True\n1000128    True      False   False    False\n1000129    True       True    True    False\n1000130   False       True   False    False\n1000131    True      False   False     True\n1000132   False      False    True    False",
      "text/html": "<div>\n<style scoped>\n    .dataframe tbody tr th:only-of-type {\n        vertical-align: middle;\n    }\n\n    .dataframe tbody tr th {\n        vertical-align: top;\n    }\n\n    .dataframe thead th {\n        text-align: right;\n    }\n</style>\n<table border=\"1\" class=\"dataframe\">\n  <thead>\n    <tr style=\"text-align: right;\">\n      <th></th>\n      <th>Balpen</th>\n      <th>Cartridge</th>\n      <th>Papier</th>\n      <th>Printer</th>\n    </tr>\n  </thead>\n  <tbody>\n    <tr>\n      <th>1000123</th>\n      <td>True</td>\n      <td>True</td>\n      <td>False</td>\n      <td>True</td>\n    </tr>\n    <tr>\n      <th>1000124</th>\n      <td>False</td>\n      <td>True</td>\n      <td>True</td>\n      <td>False</td>\n    </tr>\n    <tr>\n      <th>1000125</th>\n      <td>False</td>\n      <td>True</td>\n      <td>True</td>\n      <td>False</td>\n    </tr>\n    <tr>\n      <th>1000126</th>\n      <td>False</td>\n      <td>True</td>\n      <td>False</td>\n      <td>True</td>\n    </tr>\n    <tr>\n      <th>1000127</th>\n      <td>False</td>\n      <td>True</td>\n      <td>False</td>\n      <td>True</td>\n    </tr>\n    <tr>\n      <th>1000128</th>\n      <td>True</td>\n      <td>False</td>\n      <td>False</td>\n      <td>False</td>\n    </tr>\n    <tr>\n      <th>1000129</th>\n      <td>True</td>\n      <td>True</td>\n      <td>True</td>\n      <td>False</td>\n    </tr>\n    <tr>\n      <th>1000130</th>\n      <td>False</td>\n      <td>True</td>\n      <td>False</td>\n      <td>False</td>\n    </tr>\n    <tr>\n      <th>1000131</th>\n      <td>True</td>\n      <td>False</td>\n      <td>False</td>\n      <td>True</td>\n    </tr>\n    <tr>\n      <th>1000132</th>\n      <td>False</td>\n      <td>False</td>\n      <td>True</td>\n      <td>False</td>\n    </tr>\n  </tbody>\n</table>\n</div>"
     },
     "metadata": {},
     "output_type": "display_data"
    },
    {
     "data": {
      "text/plain": "Balpen       0.4\nCartridge    0.7\nPapier       0.4\nPrinter      0.4\ndtype: float64"
     },
     "execution_count": 62,
     "metadata": {},
     "output_type": "execute_result"
    }
   ],
   "source": [
    "# FROMAAT2\n",
    "import pandas as pd\n",
    "from mlxtend.preprocessing import TransactionEncoder\n",
    "\n",
    "transacties2 = [['Printer', 'Cartridge', 'Balpen'],\n",
    "                ['Papier', 'Cartridge'],\n",
    "                ['Papier', 'Cartridge'],\n",
    "                ['Printer', 'Cartridge'],\n",
    "                ['Printer', 'Cartridge'],\n",
    "                ['Balpen'],\n",
    "                ['Papier', 'Cartridge', 'Balpen'],\n",
    "                ['Cartridge'],\n",
    "                ['Printer', 'Balpen'],\n",
    "                ['Papier']]\n",
    "\n",
    "\n",
    "\n",
    "\n",
    "te = TransactionEncoder()\n",
    "dataset = te.fit(transacties2).transform(transacties2)\n",
    "# combineer in Dataframe voor een correct formaat\n",
    "kassatickets2 = pd.DataFrame(dataset, columns=te.columns_, index=range(1000123,1000133))\n",
    "kassatickets2\n",
    "\n",
    "display(kassatickets2)\n",
    "\n",
    "supports = kassatickets2.mean(axis=0)\n",
    "supports"
   ],
   "metadata": {
    "collapsed": false,
    "pycharm": {
     "name": "#%%\n"
    }
   }
  },
  {
   "cell_type": "code",
   "execution_count": 65,
   "outputs": [
    {
     "data": {
      "text/plain": "    support                      itemsets\n0       0.4                      (Balpen)\n1       0.7                   (Cartridge)\n2       0.4                      (Papier)\n3       0.4                     (Printer)\n4       0.2           (Cartridge, Balpen)\n5       0.1              (Papier, Balpen)\n6       0.2             (Balpen, Printer)\n7       0.3           (Cartridge, Papier)\n8       0.3          (Cartridge, Printer)\n9       0.1   (Cartridge, Papier, Balpen)\n10      0.1  (Cartridge, Balpen, Printer)",
      "text/html": "<div>\n<style scoped>\n    .dataframe tbody tr th:only-of-type {\n        vertical-align: middle;\n    }\n\n    .dataframe tbody tr th {\n        vertical-align: top;\n    }\n\n    .dataframe thead th {\n        text-align: right;\n    }\n</style>\n<table border=\"1\" class=\"dataframe\">\n  <thead>\n    <tr style=\"text-align: right;\">\n      <th></th>\n      <th>support</th>\n      <th>itemsets</th>\n    </tr>\n  </thead>\n  <tbody>\n    <tr>\n      <th>0</th>\n      <td>0.4</td>\n      <td>(Balpen)</td>\n    </tr>\n    <tr>\n      <th>1</th>\n      <td>0.7</td>\n      <td>(Cartridge)</td>\n    </tr>\n    <tr>\n      <th>2</th>\n      <td>0.4</td>\n      <td>(Papier)</td>\n    </tr>\n    <tr>\n      <th>3</th>\n      <td>0.4</td>\n      <td>(Printer)</td>\n    </tr>\n    <tr>\n      <th>4</th>\n      <td>0.2</td>\n      <td>(Cartridge, Balpen)</td>\n    </tr>\n    <tr>\n      <th>5</th>\n      <td>0.1</td>\n      <td>(Papier, Balpen)</td>\n    </tr>\n    <tr>\n      <th>6</th>\n      <td>0.2</td>\n      <td>(Balpen, Printer)</td>\n    </tr>\n    <tr>\n      <th>7</th>\n      <td>0.3</td>\n      <td>(Cartridge, Papier)</td>\n    </tr>\n    <tr>\n      <th>8</th>\n      <td>0.3</td>\n      <td>(Cartridge, Printer)</td>\n    </tr>\n    <tr>\n      <th>9</th>\n      <td>0.1</td>\n      <td>(Cartridge, Papier, Balpen)</td>\n    </tr>\n    <tr>\n      <th>10</th>\n      <td>0.1</td>\n      <td>(Cartridge, Balpen, Printer)</td>\n    </tr>\n  </tbody>\n</table>\n</div>"
     },
     "execution_count": 65,
     "metadata": {},
     "output_type": "execute_result"
    }
   ],
   "source": [
    "from mlxtend.frequent_patterns import apriori\n",
    "itemsets = apriori(kassatickets1, min_support=0.3, use_colnames=True)\n",
    "itemsets\n"
   ],
   "metadata": {
    "collapsed": false,
    "pycharm": {
     "name": "#%%\n"
    }
   }
  },
  {
   "cell_type": "code",
   "execution_count": 64,
   "outputs": [
    {
     "data": {
      "text/plain": "    support                      itemsets\n0       0.4                      (Balpen)\n1       0.7                   (Cartridge)\n2       0.4                      (Papier)\n3       0.4                     (Printer)\n4       0.2           (Cartridge, Balpen)\n5       0.1              (Papier, Balpen)\n6       0.2             (Balpen, Printer)\n7       0.3           (Cartridge, Papier)\n8       0.3          (Cartridge, Printer)\n9       0.1   (Cartridge, Papier, Balpen)\n10      0.1  (Cartridge, Balpen, Printer)",
      "text/html": "<div>\n<style scoped>\n    .dataframe tbody tr th:only-of-type {\n        vertical-align: middle;\n    }\n\n    .dataframe tbody tr th {\n        vertical-align: top;\n    }\n\n    .dataframe thead th {\n        text-align: right;\n    }\n</style>\n<table border=\"1\" class=\"dataframe\">\n  <thead>\n    <tr style=\"text-align: right;\">\n      <th></th>\n      <th>support</th>\n      <th>itemsets</th>\n    </tr>\n  </thead>\n  <tbody>\n    <tr>\n      <th>0</th>\n      <td>0.4</td>\n      <td>(Balpen)</td>\n    </tr>\n    <tr>\n      <th>1</th>\n      <td>0.7</td>\n      <td>(Cartridge)</td>\n    </tr>\n    <tr>\n      <th>2</th>\n      <td>0.4</td>\n      <td>(Papier)</td>\n    </tr>\n    <tr>\n      <th>3</th>\n      <td>0.4</td>\n      <td>(Printer)</td>\n    </tr>\n    <tr>\n      <th>4</th>\n      <td>0.2</td>\n      <td>(Cartridge, Balpen)</td>\n    </tr>\n    <tr>\n      <th>5</th>\n      <td>0.1</td>\n      <td>(Papier, Balpen)</td>\n    </tr>\n    <tr>\n      <th>6</th>\n      <td>0.2</td>\n      <td>(Balpen, Printer)</td>\n    </tr>\n    <tr>\n      <th>7</th>\n      <td>0.3</td>\n      <td>(Cartridge, Papier)</td>\n    </tr>\n    <tr>\n      <th>8</th>\n      <td>0.3</td>\n      <td>(Cartridge, Printer)</td>\n    </tr>\n    <tr>\n      <th>9</th>\n      <td>0.1</td>\n      <td>(Cartridge, Papier, Balpen)</td>\n    </tr>\n    <tr>\n      <th>10</th>\n      <td>0.1</td>\n      <td>(Cartridge, Balpen, Printer)</td>\n    </tr>\n  </tbody>\n</table>\n</div>"
     },
     "execution_count": 64,
     "metadata": {},
     "output_type": "execute_result"
    }
   ],
   "source": [
    "from mlxtend.frequent_patterns import apriori\n",
    "itemsets = apriori(kassatickets2, min_support=0.3, use_colnames=True)\n",
    "itemsets\n",
    "\n"
   ],
   "metadata": {
    "collapsed": false,
    "pycharm": {
     "name": "#%%\n"
    }
   }
  },
  {
   "cell_type": "markdown",
   "source": [
    "\n",
    "\n",
    "\n",
    "### Algortime 2\n",
    "\n",
    "#### FP Growth efficienter als Apriori\n",
    "* 1. Tel de frequenties van alle items.<br><i>**Doorloop de transacties een eerste keer**</i>\n",
    "\n",
    "* 2. Schrap de items met een support kleiner dan minimumsupport\n",
    "\n",
    "* 3. Sorteer de items van groot naar klein volgens support\n",
    "\n",
    "* 4. Bouw transactie per transactie een boomstructuur op<br><i>Doorloop de transacties een tweede keer</i>\n",
    "\n",
    "* 5. Extraheer de supports uit de boomstructuur\n"
   ],
   "metadata": {
    "collapsed": false,
    "pycharm": {
     "name": "#%% md\n"
    }
   }
  },
  {
   "cell_type": "code",
   "execution_count": 69,
   "outputs": [
    {
     "data": {
      "text/plain": "   support              itemsets\n0      0.7           (Cartridge)\n1      0.4             (Printer)\n2      0.4              (Balpen)\n3      0.4              (Papier)\n4      0.3  (Cartridge, Printer)\n5      0.3   (Cartridge, Papier)",
      "text/html": "<div>\n<style scoped>\n    .dataframe tbody tr th:only-of-type {\n        vertical-align: middle;\n    }\n\n    .dataframe tbody tr th {\n        vertical-align: top;\n    }\n\n    .dataframe thead th {\n        text-align: right;\n    }\n</style>\n<table border=\"1\" class=\"dataframe\">\n  <thead>\n    <tr style=\"text-align: right;\">\n      <th></th>\n      <th>support</th>\n      <th>itemsets</th>\n    </tr>\n  </thead>\n  <tbody>\n    <tr>\n      <th>0</th>\n      <td>0.7</td>\n      <td>(Cartridge)</td>\n    </tr>\n    <tr>\n      <th>1</th>\n      <td>0.4</td>\n      <td>(Printer)</td>\n    </tr>\n    <tr>\n      <th>2</th>\n      <td>0.4</td>\n      <td>(Balpen)</td>\n    </tr>\n    <tr>\n      <th>3</th>\n      <td>0.4</td>\n      <td>(Papier)</td>\n    </tr>\n    <tr>\n      <th>4</th>\n      <td>0.3</td>\n      <td>(Cartridge, Printer)</td>\n    </tr>\n    <tr>\n      <th>5</th>\n      <td>0.3</td>\n      <td>(Cartridge, Papier)</td>\n    </tr>\n  </tbody>\n</table>\n</div>"
     },
     "execution_count": 69,
     "metadata": {},
     "output_type": "execute_result"
    }
   ],
   "source": [
    "# FORMAAT 1\n",
    "from mlxtend.frequent_patterns import fpgrowth\n",
    "itemsets = fpgrowth(kassatickets1, min_support = 0.3,\n",
    "use_colnames=True)\n",
    "itemsets"
   ],
   "metadata": {
    "collapsed": false,
    "pycharm": {
     "name": "#%%\n"
    }
   }
  },
  {
   "cell_type": "code",
   "execution_count": 70,
   "outputs": [
    {
     "data": {
      "text/plain": "   support              itemsets\n0      0.7           (Cartridge)\n1      0.4             (Printer)\n2      0.4              (Balpen)\n3      0.4              (Papier)\n4      0.3  (Cartridge, Printer)\n5      0.3   (Cartridge, Papier)",
      "text/html": "<div>\n<style scoped>\n    .dataframe tbody tr th:only-of-type {\n        vertical-align: middle;\n    }\n\n    .dataframe tbody tr th {\n        vertical-align: top;\n    }\n\n    .dataframe thead th {\n        text-align: right;\n    }\n</style>\n<table border=\"1\" class=\"dataframe\">\n  <thead>\n    <tr style=\"text-align: right;\">\n      <th></th>\n      <th>support</th>\n      <th>itemsets</th>\n    </tr>\n  </thead>\n  <tbody>\n    <tr>\n      <th>0</th>\n      <td>0.7</td>\n      <td>(Cartridge)</td>\n    </tr>\n    <tr>\n      <th>1</th>\n      <td>0.4</td>\n      <td>(Printer)</td>\n    </tr>\n    <tr>\n      <th>2</th>\n      <td>0.4</td>\n      <td>(Balpen)</td>\n    </tr>\n    <tr>\n      <th>3</th>\n      <td>0.4</td>\n      <td>(Papier)</td>\n    </tr>\n    <tr>\n      <th>4</th>\n      <td>0.3</td>\n      <td>(Cartridge, Printer)</td>\n    </tr>\n    <tr>\n      <th>5</th>\n      <td>0.3</td>\n      <td>(Cartridge, Papier)</td>\n    </tr>\n  </tbody>\n</table>\n</div>"
     },
     "execution_count": 70,
     "metadata": {},
     "output_type": "execute_result"
    }
   ],
   "source": [
    "# FORMAAT 2\n",
    "from mlxtend.frequent_patterns import fpgrowth\n",
    "itemsets = fpgrowth(kassatickets2, min_support = 0.3,\n",
    "use_colnames=True)\n",
    "itemsets\n",
    "\n"
   ],
   "metadata": {
    "collapsed": false,
    "pycharm": {
     "name": "#%%\n"
    }
   }
  },
  {
   "cell_type": "markdown",
   "source": [
    "### Alles samen"
   ],
   "metadata": {
    "collapsed": false,
    "pycharm": {
     "name": "#%% md\n"
    }
   }
  },
  {
   "cell_type": "code",
   "execution_count": 85,
   "outputs": [
    {
     "data": {
      "text/plain": "  antecedents  consequents  antecedent support  consequent support  support  \\\n0   (Printer)  (Cartridge)                 0.4                 0.7      0.3   \n1    (Papier)  (Cartridge)                 0.4                 0.7      0.3   \n\n   confidence      lift  leverage  conviction  \n0        0.75  1.071429      0.02         1.2  \n1        0.75  1.071429      0.02         1.2  ",
      "text/html": "<div>\n<style scoped>\n    .dataframe tbody tr th:only-of-type {\n        vertical-align: middle;\n    }\n\n    .dataframe tbody tr th {\n        vertical-align: top;\n    }\n\n    .dataframe thead th {\n        text-align: right;\n    }\n</style>\n<table border=\"1\" class=\"dataframe\">\n  <thead>\n    <tr style=\"text-align: right;\">\n      <th></th>\n      <th>antecedents</th>\n      <th>consequents</th>\n      <th>antecedent support</th>\n      <th>consequent support</th>\n      <th>support</th>\n      <th>confidence</th>\n      <th>lift</th>\n      <th>leverage</th>\n      <th>conviction</th>\n    </tr>\n  </thead>\n  <tbody>\n    <tr>\n      <th>0</th>\n      <td>(Printer)</td>\n      <td>(Cartridge)</td>\n      <td>0.4</td>\n      <td>0.7</td>\n      <td>0.3</td>\n      <td>0.75</td>\n      <td>1.071429</td>\n      <td>0.02</td>\n      <td>1.2</td>\n    </tr>\n    <tr>\n      <th>1</th>\n      <td>(Papier)</td>\n      <td>(Cartridge)</td>\n      <td>0.4</td>\n      <td>0.7</td>\n      <td>0.3</td>\n      <td>0.75</td>\n      <td>1.071429</td>\n      <td>0.02</td>\n      <td>1.2</td>\n    </tr>\n  </tbody>\n</table>\n</div>"
     },
     "execution_count": 85,
     "metadata": {},
     "output_type": "execute_result"
    }
   ],
   "source": [
    "import pandas as pd\n",
    "from mlxtend.frequent_patterns import fpgrowth, association_rules\n",
    "# stap 1 - datamanagement\n",
    "kassatickets = pd.read_csv('transacties.csv', sep=';', index_col=0)\n",
    "transacties = pd.get_dummies(kassatickets, columns=['Product'],\n",
    "prefix='',prefix_sep='').groupby(level='KassaTicket').sum()\n",
    "# stap 2 - itemsets met support berekenen\n",
    "itemsets = fpgrowth(transacties, min_support=0.3, use_colnames=True)\n",
    "# stap 3 - association rules zoeken\n",
    "rules = association_rules(itemsets, min_threshold=0.5)\n",
    "\n",
    "itemsets\n",
    "rules"
   ],
   "metadata": {
    "collapsed": false,
    "pycharm": {
     "name": "#%%\n"
    }
   }
  }
 ],
 "metadata": {
  "kernelspec": {
   "display_name": "Python 3",
   "language": "python",
   "name": "python3"
  },
  "language_info": {
   "codemirror_mode": {
    "name": "ipython",
    "version": 2
   },
   "file_extension": ".py",
   "mimetype": "text/x-python",
   "name": "python",
   "nbconvert_exporter": "python",
   "pygments_lexer": "ipython2",
   "version": "2.7.6"
  }
 },
 "nbformat": 4,
 "nbformat_minor": 0
}