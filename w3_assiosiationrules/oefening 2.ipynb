{
 "cells": [
  {
   "cell_type": "markdown",
   "metadata": {
    "collapsed": false
   },
   "source": [
    "# Fruitpromotie\n",
    "Een supermarkt wil mensen naar de winkel lokken met een sterke promotie voor fruit. Omdat ze op die promotie geen winst maken willen ze dat compenseren door vlak ernaast een ander soort fruit te leggen die ze iets doen stijgen in prijs, zodat de winstmarge daarop het verlies gedeeltelijk kan compenseren. De winkel wil weten welk fruit ze in promotie moeten zetten en welk fruit het meeste kans maakt om bij het fruit in promotie gekocht te worden."
   ]
  },
  {
   "cell_type": "markdown",
   "metadata": {
    "collapsed": false,
    "pycharm": {
     "name": "#%% md\n"
    }
   },
   "source": [
    "---\n",
    "\n",
    "1. Maak gebruik van de top 3 fruitvoorkeuren (fruitaankoop.csv) van de studenten TI om de regels op te stellen. Deze dataset bevat voor elke student zijn drie favoriete fruiten (op zichzelf in willekeurige volgorde)."
   ]
  },
  {
   "cell_type": "markdown",
   "metadata": {
    "collapsed": false,
    "pycharm": {
     "name": "#%% md\n"
    }
   },
   "source": [
    "---\n",
    "2. Maak met deze lijst associatieregels.\n",
    "Gebruik voor het apriori of fp-growth algoritme volgende parameters:\n",
    "    * support = 0.1\n",
    "    * confidence = 0.3\n",
    "    * minlen=2, maxlen=2"
   ]
  },
  {
   "cell_type": "markdown",
   "metadata": {
    "collapsed": false,
    "pycharm": {
     "name": "#%% md\n"
    }
   },
   "source": [
    "---\n",
    "3. Zoek de associatieregel met de hoogste confidence waarvan de lift ook voldoende is."
   ]
  },
  {
   "cell_type": "markdown",
   "metadata": {
    "collapsed": false,
    "pycharm": {
     "name": "#%% md\n"
    }
   },
   "source": [
    "---\n",
    "4. Welk fruit zal de winkel op basis van die regel in promotie zetten?"
   ]
  },
  {
   "cell_type": "markdown",
   "metadata": {
    "collapsed": false,
    "pycharm": {
     "name": "#%% md\n"
    }
   },
   "source": [
    "---\n",
    "5. Welk fruit zal de winkel op basis van die regel naast het promotieartikel plaatsen?"
   ]
  },
  {
   "cell_type": "markdown",
   "metadata": {
    "collapsed": false
   },
   "source": [
    "---\n",
    "6. Hoeveel procent van de mensen die de vragenlijst hebben ingevuld hebben de combinatie van de twee fruittypes in hun top 3 staan?"
   ]
  },
  {
   "cell_type": "markdown",
   "metadata": {
    "collapsed": false
   },
   "source": [
    "---\n",
    "7. Wat kan je op basis van de lift zeggen over het fruit in promotie?"
   ]
  }
 ],
 "metadata": {
  "kernelspec": {
   "display_name": "Python 3",
   "language": "python",
   "name": "python3"
  },
  "language_info": {
   "codemirror_mode": {
    "name": "ipython",
    "version": 2
   },
   "file_extension": ".py",
   "mimetype": "text/x-python",
   "name": "python",
   "nbconvert_exporter": "python",
   "pygments_lexer": "ipython2",
   "version": "2.7.6"
  }
 },
 "nbformat": 4,
 "nbformat_minor": 0
}
