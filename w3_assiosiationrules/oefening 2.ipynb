{
 "cells": [
  {
   "cell_type": "markdown",
   "metadata": {
    "collapsed": false
   },
   "source": [
    "# Fruitpromotie\n",
    "Een supermarkt wil mensen naar de winkel lokken met een sterke promotie voor fruit.\n",
    "\n",
    "Omdat ze op die promotie geen winst maken willen\n",
    "ze dat compenseren door vlak ernaast een <mark>ander soort fruit te\n",
    "leggen die ze iets doen stijgen in prijs,</mark>\n",
    "zodat de winstmarge daarop het verlies gedeeltelijk kan compenseren.\n",
    "\n",
    "De winkel wil weten <mark>welk fruit ze in promotie moeten zetten</mark> en\n",
    "welk fruit het <mark>meeste kans maakt om bij het fruit in promotie gekocht te worden.</mark>"
   ]
  },
  {
   "cell_type": "markdown",
   "metadata": {
    "collapsed": false,
    "pycharm": {
     "name": "#%% md\n"
    }
   },
   "source": [
    "---\n",
    "\n",
    "1. Maak gebruik van de top 3 fruitvoorkeuren (fruitaankoop.csv) van de studenten TI om de regels op te stellen.\n",
    "Deze dataset bevat voor elke student zijn drie favoriete fruiten (op zichzelf in willekeurige volgorde)."
   ]
  },
  {
   "cell_type": "code",
   "execution_count": 60,
   "outputs": [
    {
     "data": {
      "text/plain": "             Aardbei  Ananas  Appel  Banaan  Kers  Kiwi  Meloen  Peer  Pruim  \\\n Student001        0       1      0       0     1     1       0     0      0   \n Student002        1       1      1       0     0     0       0     0      0   \n Student003        1       1      0       0     1     0       0     0      0   \n Student004        0       1      0       1     0     0       0     0      0   \n Student005        0       0      1       1     0     0       0     1      0   \n...              ...     ...    ...     ...   ...   ...     ...   ...    ...   \n Student246        1       0      0       1     0     0       1     0      0   \n Student247        1       0      1       1     0     0       0     0      0   \n Student248        0       0      1       1     0     0       0     1      0   \n Student249        0       0      1       1     0     0       0     1      0   \n Student250        1       0      0       1     0     0       1     0      0   \n\n             Sinaasappel  \n Student001            0  \n Student002            0  \n Student003            0  \n Student004            1  \n Student005            0  \n...                  ...  \n Student246            0  \n Student247            0  \n Student248            0  \n Student249            0  \n Student250            0  \n\n[236 rows x 10 columns]",
      "text/html": "<div>\n<style scoped>\n    .dataframe tbody tr th:only-of-type {\n        vertical-align: middle;\n    }\n\n    .dataframe tbody tr th {\n        vertical-align: top;\n    }\n\n    .dataframe thead th {\n        text-align: right;\n    }\n</style>\n<table border=\"1\" class=\"dataframe\">\n  <thead>\n    <tr style=\"text-align: right;\">\n      <th></th>\n      <th>Aardbei</th>\n      <th>Ananas</th>\n      <th>Appel</th>\n      <th>Banaan</th>\n      <th>Kers</th>\n      <th>Kiwi</th>\n      <th>Meloen</th>\n      <th>Peer</th>\n      <th>Pruim</th>\n      <th>Sinaasappel</th>\n    </tr>\n  </thead>\n  <tbody>\n    <tr>\n      <th>Student001</th>\n      <td>0</td>\n      <td>1</td>\n      <td>0</td>\n      <td>0</td>\n      <td>1</td>\n      <td>1</td>\n      <td>0</td>\n      <td>0</td>\n      <td>0</td>\n      <td>0</td>\n    </tr>\n    <tr>\n      <th>Student002</th>\n      <td>1</td>\n      <td>1</td>\n      <td>1</td>\n      <td>0</td>\n      <td>0</td>\n      <td>0</td>\n      <td>0</td>\n      <td>0</td>\n      <td>0</td>\n      <td>0</td>\n    </tr>\n    <tr>\n      <th>Student003</th>\n      <td>1</td>\n      <td>1</td>\n      <td>0</td>\n      <td>0</td>\n      <td>1</td>\n      <td>0</td>\n      <td>0</td>\n      <td>0</td>\n      <td>0</td>\n      <td>0</td>\n    </tr>\n    <tr>\n      <th>Student004</th>\n      <td>0</td>\n      <td>1</td>\n      <td>0</td>\n      <td>1</td>\n      <td>0</td>\n      <td>0</td>\n      <td>0</td>\n      <td>0</td>\n      <td>0</td>\n      <td>1</td>\n    </tr>\n    <tr>\n      <th>Student005</th>\n      <td>0</td>\n      <td>0</td>\n      <td>1</td>\n      <td>1</td>\n      <td>0</td>\n      <td>0</td>\n      <td>0</td>\n      <td>1</td>\n      <td>0</td>\n      <td>0</td>\n    </tr>\n    <tr>\n      <th>...</th>\n      <td>...</td>\n      <td>...</td>\n      <td>...</td>\n      <td>...</td>\n      <td>...</td>\n      <td>...</td>\n      <td>...</td>\n      <td>...</td>\n      <td>...</td>\n      <td>...</td>\n    </tr>\n    <tr>\n      <th>Student246</th>\n      <td>1</td>\n      <td>0</td>\n      <td>0</td>\n      <td>1</td>\n      <td>0</td>\n      <td>0</td>\n      <td>1</td>\n      <td>0</td>\n      <td>0</td>\n      <td>0</td>\n    </tr>\n    <tr>\n      <th>Student247</th>\n      <td>1</td>\n      <td>0</td>\n      <td>1</td>\n      <td>1</td>\n      <td>0</td>\n      <td>0</td>\n      <td>0</td>\n      <td>0</td>\n      <td>0</td>\n      <td>0</td>\n    </tr>\n    <tr>\n      <th>Student248</th>\n      <td>0</td>\n      <td>0</td>\n      <td>1</td>\n      <td>1</td>\n      <td>0</td>\n      <td>0</td>\n      <td>0</td>\n      <td>1</td>\n      <td>0</td>\n      <td>0</td>\n    </tr>\n    <tr>\n      <th>Student249</th>\n      <td>0</td>\n      <td>0</td>\n      <td>1</td>\n      <td>1</td>\n      <td>0</td>\n      <td>0</td>\n      <td>0</td>\n      <td>1</td>\n      <td>0</td>\n      <td>0</td>\n    </tr>\n    <tr>\n      <th>Student250</th>\n      <td>1</td>\n      <td>0</td>\n      <td>0</td>\n      <td>1</td>\n      <td>0</td>\n      <td>0</td>\n      <td>1</td>\n      <td>0</td>\n      <td>0</td>\n      <td>0</td>\n    </tr>\n  </tbody>\n</table>\n<p>236 rows × 10 columns</p>\n</div>"
     },
     "execution_count": 60,
     "metadata": {},
     "output_type": "execute_result"
    }
   ],
   "source": [
    "import pandas as pd\n",
    "\n",
    "\n",
    "transacties = pd.read_csv('fruitaankoop.csv',sep=';',index_col=0)\n",
    "transacties\n",
    "\n"
   ],
   "metadata": {
    "collapsed": false,
    "pycharm": {
     "name": "#%%\n"
    }
   }
  },
  {
   "cell_type": "markdown",
   "metadata": {
    "collapsed": false,
    "pycharm": {
     "name": "#%% md\n"
    }
   },
   "source": [
    "---\n",
    "2. Maak met deze lijst associatieregels.\n",
    "Gebruik voor het apriori of fp-growth algoritme volgende parameters:\n",
    "    * support = 0.1\n",
    "    * confidence = 0.3\n",
    "    * minlen=2, maxlen=2\n"
   ]
  },
  {
   "cell_type": "code",
   "execution_count": 89,
   "outputs": [
    {
     "data": {
      "text/plain": "   antecedents consequents  antecedent support  consequent support   support  \\\n1     (Ananas)   (Aardbei)            0.343220            0.724576  0.254237   \n5       (Kiwi)   (Aardbei)            0.165254            0.724576  0.118644   \n7      (Appel)   (Aardbei)            0.461864            0.724576  0.313559   \n4       (Kers)   (Aardbei)            0.237288            0.724576  0.152542   \n14    (Banaan)   (Aardbei)            0.508475            0.724576  0.322034   \n16    (Meloen)   (Aardbei)            0.233051            0.724576  0.131356   \n15    (Meloen)    (Banaan)            0.233051            0.508475  0.105932   \n13   (Aardbei)    (Banaan)            0.724576            0.508475  0.322034   \n9      (Appel)    (Banaan)            0.461864            0.508475  0.203390   \n6    (Aardbei)     (Appel)            0.724576            0.461864  0.313559   \n8     (Banaan)     (Appel)            0.508475            0.461864  0.203390   \n2     (Ananas)     (Appel)            0.343220            0.461864  0.131356   \n0    (Aardbei)    (Ananas)            0.724576            0.343220  0.254237   \n3     (Ananas)    (Banaan)            0.343220            0.508475  0.105932   \n\n    confidence      lift  leverage  conviction  \n1     0.740741  1.022309  0.005548    1.062349  \n5     0.717949  0.990853 -0.001095    0.976502  \n7     0.678899  0.936960 -0.021097    0.857748  \n4     0.642857  0.887218 -0.019391    0.771186  \n14    0.633333  0.874074 -0.046395    0.751156  \n16    0.563636  0.777884 -0.037507    0.631179  \n15    0.454545  0.893939 -0.012568    0.901130  \n13    0.444444  0.874074 -0.046395    0.884746  \n9     0.440367  0.866055 -0.031456    0.878300  \n6     0.432749  0.936960 -0.021097    0.948672  \n8     0.400000  0.866055 -0.031456    0.896893  \n2     0.382716  0.828633 -0.027165    0.871780  \n0     0.350877  1.022309  0.005548    1.011796  \n3     0.308642  0.606996 -0.068587    0.710956  ",
      "text/html": "<div>\n<style scoped>\n    .dataframe tbody tr th:only-of-type {\n        vertical-align: middle;\n    }\n\n    .dataframe tbody tr th {\n        vertical-align: top;\n    }\n\n    .dataframe thead th {\n        text-align: right;\n    }\n</style>\n<table border=\"1\" class=\"dataframe\">\n  <thead>\n    <tr style=\"text-align: right;\">\n      <th></th>\n      <th>antecedents</th>\n      <th>consequents</th>\n      <th>antecedent support</th>\n      <th>consequent support</th>\n      <th>support</th>\n      <th>confidence</th>\n      <th>lift</th>\n      <th>leverage</th>\n      <th>conviction</th>\n    </tr>\n  </thead>\n  <tbody>\n    <tr>\n      <th>1</th>\n      <td>(Ananas)</td>\n      <td>(Aardbei)</td>\n      <td>0.343220</td>\n      <td>0.724576</td>\n      <td>0.254237</td>\n      <td>0.740741</td>\n      <td>1.022309</td>\n      <td>0.005548</td>\n      <td>1.062349</td>\n    </tr>\n    <tr>\n      <th>5</th>\n      <td>(Kiwi)</td>\n      <td>(Aardbei)</td>\n      <td>0.165254</td>\n      <td>0.724576</td>\n      <td>0.118644</td>\n      <td>0.717949</td>\n      <td>0.990853</td>\n      <td>-0.001095</td>\n      <td>0.976502</td>\n    </tr>\n    <tr>\n      <th>7</th>\n      <td>(Appel)</td>\n      <td>(Aardbei)</td>\n      <td>0.461864</td>\n      <td>0.724576</td>\n      <td>0.313559</td>\n      <td>0.678899</td>\n      <td>0.936960</td>\n      <td>-0.021097</td>\n      <td>0.857748</td>\n    </tr>\n    <tr>\n      <th>4</th>\n      <td>(Kers)</td>\n      <td>(Aardbei)</td>\n      <td>0.237288</td>\n      <td>0.724576</td>\n      <td>0.152542</td>\n      <td>0.642857</td>\n      <td>0.887218</td>\n      <td>-0.019391</td>\n      <td>0.771186</td>\n    </tr>\n    <tr>\n      <th>14</th>\n      <td>(Banaan)</td>\n      <td>(Aardbei)</td>\n      <td>0.508475</td>\n      <td>0.724576</td>\n      <td>0.322034</td>\n      <td>0.633333</td>\n      <td>0.874074</td>\n      <td>-0.046395</td>\n      <td>0.751156</td>\n    </tr>\n    <tr>\n      <th>16</th>\n      <td>(Meloen)</td>\n      <td>(Aardbei)</td>\n      <td>0.233051</td>\n      <td>0.724576</td>\n      <td>0.131356</td>\n      <td>0.563636</td>\n      <td>0.777884</td>\n      <td>-0.037507</td>\n      <td>0.631179</td>\n    </tr>\n    <tr>\n      <th>15</th>\n      <td>(Meloen)</td>\n      <td>(Banaan)</td>\n      <td>0.233051</td>\n      <td>0.508475</td>\n      <td>0.105932</td>\n      <td>0.454545</td>\n      <td>0.893939</td>\n      <td>-0.012568</td>\n      <td>0.901130</td>\n    </tr>\n    <tr>\n      <th>13</th>\n      <td>(Aardbei)</td>\n      <td>(Banaan)</td>\n      <td>0.724576</td>\n      <td>0.508475</td>\n      <td>0.322034</td>\n      <td>0.444444</td>\n      <td>0.874074</td>\n      <td>-0.046395</td>\n      <td>0.884746</td>\n    </tr>\n    <tr>\n      <th>9</th>\n      <td>(Appel)</td>\n      <td>(Banaan)</td>\n      <td>0.461864</td>\n      <td>0.508475</td>\n      <td>0.203390</td>\n      <td>0.440367</td>\n      <td>0.866055</td>\n      <td>-0.031456</td>\n      <td>0.878300</td>\n    </tr>\n    <tr>\n      <th>6</th>\n      <td>(Aardbei)</td>\n      <td>(Appel)</td>\n      <td>0.724576</td>\n      <td>0.461864</td>\n      <td>0.313559</td>\n      <td>0.432749</td>\n      <td>0.936960</td>\n      <td>-0.021097</td>\n      <td>0.948672</td>\n    </tr>\n    <tr>\n      <th>8</th>\n      <td>(Banaan)</td>\n      <td>(Appel)</td>\n      <td>0.508475</td>\n      <td>0.461864</td>\n      <td>0.203390</td>\n      <td>0.400000</td>\n      <td>0.866055</td>\n      <td>-0.031456</td>\n      <td>0.896893</td>\n    </tr>\n    <tr>\n      <th>2</th>\n      <td>(Ananas)</td>\n      <td>(Appel)</td>\n      <td>0.343220</td>\n      <td>0.461864</td>\n      <td>0.131356</td>\n      <td>0.382716</td>\n      <td>0.828633</td>\n      <td>-0.027165</td>\n      <td>0.871780</td>\n    </tr>\n    <tr>\n      <th>0</th>\n      <td>(Aardbei)</td>\n      <td>(Ananas)</td>\n      <td>0.724576</td>\n      <td>0.343220</td>\n      <td>0.254237</td>\n      <td>0.350877</td>\n      <td>1.022309</td>\n      <td>0.005548</td>\n      <td>1.011796</td>\n    </tr>\n    <tr>\n      <th>3</th>\n      <td>(Ananas)</td>\n      <td>(Banaan)</td>\n      <td>0.343220</td>\n      <td>0.508475</td>\n      <td>0.105932</td>\n      <td>0.308642</td>\n      <td>0.606996</td>\n      <td>-0.068587</td>\n      <td>0.710956</td>\n    </tr>\n  </tbody>\n</table>\n</div>"
     },
     "execution_count": 89,
     "metadata": {},
     "output_type": "execute_result"
    }
   ],
   "source": [
    "from mlxtend.frequent_patterns import fpgrowth\n",
    "from mlxtend.frequent_patterns import association_rules\n",
    "\n",
    "itemsets = fpgrowth(transacties, min_support=0.1, use_colnames=True)\n",
    "rules = association_rules(itemsets, metric='confidence', min_threshold=0.3)\n",
    "\n",
    "def rule_filter(row, minlen, maxlen):\n",
    "    length = len(row['antecedents']) + len(row['consequents'])\n",
    "    return minlen <= length <= maxlen\n",
    "\n",
    "result = rules[rules.apply(lambda row: rule_filter(row, 2, 2), axis=1)].sort_values(by='confidence', ascending=False)\n",
    "result\n",
    "\n",
    "## Wanneer iemand een Ananas heeft gekocht dan is de kans dat\n",
    "# die een Aardbei in zijn kar legt 74% -> de confidence is 0.740 de lift is 1.02\n",
    "#"
   ],
   "metadata": {
    "collapsed": false,
    "pycharm": {
     "name": "#%%\n"
    }
   }
  },
  {
   "cell_type": "markdown",
   "metadata": {
    "collapsed": false,
    "pycharm": {
     "name": "#%% md\n"
    }
   },
   "source": [
    "---\n",
    "3. Zoek de associatieregel met de hoogste confidence waarvan de lift ook voldoende is.\n",
    "<br>\n",
    "<br>\n",
    "<b>Annanas -> Aardbei\n",
    "<br>\n",
    "Wanneer iemand een ananas heeft gekocht dan is de kans dat die ook een Aardbei in zijn\n",
    " kar legt 74%</b>"
   ]
  },
  {
   "cell_type": "markdown",
   "metadata": {
    "collapsed": false,
    "pycharm": {
     "name": "#%% md\n"
    }
   },
   "source": [
    "---\n",
    "4. Welk fruit zal de winkel op basis van die regel in promotie zetten?\n",
    "<br>\n",
    "<br>\n",
    "<b>Annanas en de prijs van de aarbei laten stijgen</b>"
   ]
  },
  {
   "cell_type": "markdown",
   "metadata": {
    "collapsed": false,
    "pycharm": {
     "name": "#%% md\n"
    }
   },
   "source": [
    "---\n",
    "5. Welk fruit zal de winkel op basis van die regel naast het promotieartikel plaatsen?\n",
    "<br>\n",
    "<b>Aarbei</b>"
   ]
  },
  {
   "cell_type": "markdown",
   "metadata": {
    "collapsed": false
   },
   "source": [
    "---\n",
    "6. Hoeveel procent van de mensen die de vragenlijst hebben ingevuld hebben de combinatie\n",
    " van de twee fruittypes in hun top 3 staan?\n",
    "<br>\n",
    "<b>Hoeveel keer komen annanas en aarbeid samen voor?</b>\n",
    "<b>25% (0.254237)</b>"
   ]
  },
  {
   "cell_type": "code",
   "execution_count": 94,
   "outputs": [
    {
     "data": {
      "text/plain": "     support                  itemsets\n0   0.343220                  (Ananas)\n1   0.237288                    (Kers)\n2   0.165254                    (Kiwi)\n3   0.724576                 (Aardbei)\n4   0.461864                   (Appel)\n5   0.508475                  (Banaan)\n6   0.161017             (Sinaasappel)\n7   0.135593                    (Peer)\n8   0.233051                  (Meloen)\n9   0.254237         (Aardbei, Ananas)\n10  0.131356           (Ananas, Appel)\n11  0.105932          (Ananas, Banaan)\n12  0.152542           (Aardbei, Kers)\n13  0.118644           (Aardbei, Kiwi)\n14  0.313559          (Aardbei, Appel)\n15  0.203390           (Banaan, Appel)\n16  0.105932  (Aardbei, Banaan, Appel)\n17  0.322034         (Aardbei, Banaan)\n18  0.105932          (Meloen, Banaan)\n19  0.131356         (Aardbei, Meloen)",
      "text/html": "<div>\n<style scoped>\n    .dataframe tbody tr th:only-of-type {\n        vertical-align: middle;\n    }\n\n    .dataframe tbody tr th {\n        vertical-align: top;\n    }\n\n    .dataframe thead th {\n        text-align: right;\n    }\n</style>\n<table border=\"1\" class=\"dataframe\">\n  <thead>\n    <tr style=\"text-align: right;\">\n      <th></th>\n      <th>support</th>\n      <th>itemsets</th>\n    </tr>\n  </thead>\n  <tbody>\n    <tr>\n      <th>0</th>\n      <td>0.343220</td>\n      <td>(Ananas)</td>\n    </tr>\n    <tr>\n      <th>1</th>\n      <td>0.237288</td>\n      <td>(Kers)</td>\n    </tr>\n    <tr>\n      <th>2</th>\n      <td>0.165254</td>\n      <td>(Kiwi)</td>\n    </tr>\n    <tr>\n      <th>3</th>\n      <td>0.724576</td>\n      <td>(Aardbei)</td>\n    </tr>\n    <tr>\n      <th>4</th>\n      <td>0.461864</td>\n      <td>(Appel)</td>\n    </tr>\n    <tr>\n      <th>5</th>\n      <td>0.508475</td>\n      <td>(Banaan)</td>\n    </tr>\n    <tr>\n      <th>6</th>\n      <td>0.161017</td>\n      <td>(Sinaasappel)</td>\n    </tr>\n    <tr>\n      <th>7</th>\n      <td>0.135593</td>\n      <td>(Peer)</td>\n    </tr>\n    <tr>\n      <th>8</th>\n      <td>0.233051</td>\n      <td>(Meloen)</td>\n    </tr>\n    <tr>\n      <th>9</th>\n      <td>0.254237</td>\n      <td>(Aardbei, Ananas)</td>\n    </tr>\n    <tr>\n      <th>10</th>\n      <td>0.131356</td>\n      <td>(Ananas, Appel)</td>\n    </tr>\n    <tr>\n      <th>11</th>\n      <td>0.105932</td>\n      <td>(Ananas, Banaan)</td>\n    </tr>\n    <tr>\n      <th>12</th>\n      <td>0.152542</td>\n      <td>(Aardbei, Kers)</td>\n    </tr>\n    <tr>\n      <th>13</th>\n      <td>0.118644</td>\n      <td>(Aardbei, Kiwi)</td>\n    </tr>\n    <tr>\n      <th>14</th>\n      <td>0.313559</td>\n      <td>(Aardbei, Appel)</td>\n    </tr>\n    <tr>\n      <th>15</th>\n      <td>0.203390</td>\n      <td>(Banaan, Appel)</td>\n    </tr>\n    <tr>\n      <th>16</th>\n      <td>0.105932</td>\n      <td>(Aardbei, Banaan, Appel)</td>\n    </tr>\n    <tr>\n      <th>17</th>\n      <td>0.322034</td>\n      <td>(Aardbei, Banaan)</td>\n    </tr>\n    <tr>\n      <th>18</th>\n      <td>0.105932</td>\n      <td>(Meloen, Banaan)</td>\n    </tr>\n    <tr>\n      <th>19</th>\n      <td>0.131356</td>\n      <td>(Aardbei, Meloen)</td>\n    </tr>\n  </tbody>\n</table>\n</div>"
     },
     "execution_count": 94,
     "metadata": {},
     "output_type": "execute_result"
    }
   ],
   "source": [
    "from mlxtend.frequent_patterns import fpgrowth\n",
    "from mlxtend.frequent_patterns import association_rules\n",
    "\n",
    "itemsets = fpgrowth(transacties, min_support=0.1, use_colnames=True)\n",
    "itemsets"
   ],
   "metadata": {
    "collapsed": false,
    "pycharm": {
     "name": "#%%\n"
    }
   }
  },
  {
   "cell_type": "markdown",
   "metadata": {
    "collapsed": false
   },
   "source": [
    "---\n",
    "7. Wat kan je op basis van de lift zeggen over het fruit in promotie?\n",
    "<br>\n",
    "Dat dit een zeer goede regel is, want de lift bevestig namelijk onze regel waneer hij groter is dan 1"
   ]
  },
  {
   "cell_type": "markdown",
   "source": [],
   "metadata": {
    "collapsed": false
   }
  }
 ],
 "metadata": {
  "kernelspec": {
   "display_name": "Python 3",
   "language": "python",
   "name": "python3"
  },
  "language_info": {
   "codemirror_mode": {
    "name": "ipython",
    "version": 2
   },
   "file_extension": ".py",
   "mimetype": "text/x-python",
   "name": "python",
   "nbconvert_exporter": "python",
   "pygments_lexer": "ipython2",
   "version": "2.7.6"
  }
 },
 "nbformat": 4,
 "nbformat_minor": 0
}