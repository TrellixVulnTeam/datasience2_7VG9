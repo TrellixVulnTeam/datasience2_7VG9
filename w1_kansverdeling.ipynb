{
 "cells": [
  {
   "cell_type": "markdown",
   "source": [
    "# Kansverdelingen\n",
    "\n",
    "Een belangrijke competentie die je moet leren is de juiste kansverdeling te bepalen voor een bepaalde opgave. Stel jezelf op een examen ook steeds de vraag of de opgave niet opgelost kan worden m.b.v. een kansverdeling."
   ],
   "metadata": {
    "collapsed": false
   }
  },
  {
   "cell_type": "code",
   "execution_count": 2,
   "outputs": [],
   "source": [
    "import math\n",
    "\n",
    "from scipy.stats import binom, poisson, norm"
   ],
   "metadata": {
    "collapsed": false,
    "pycharm": {
     "name": "#%%\n"
    }
   }
  },
  {
   "cell_type": "markdown",
   "source": [
    "---\n",
    "### Vraag 1\n",
    "\n",
    "Luna gooit 4 keer met een dobbelsteen (antwoord met 4 beduidende cijfers):"
   ],
   "metadata": {
    "collapsed": false
   }
  },
  {
   "cell_type": "markdown",
   "source": [
    "1.  Hoe groot is de kans op precies één 6?"
   ],
   "metadata": {
    "collapsed": false
   }
  },
  {
   "cell_type": "code",
   "execution_count": 3,
   "outputs": [
    {
     "data": {
      "text/plain": "'0.3858'"
     },
     "execution_count": 3,
     "metadata": {},
     "output_type": "execute_result"
    }
   ],
   "source": [
    "format(binom.pmf(k=1, n=4, p=1/6), '.4g')"
   ],
   "metadata": {
    "collapsed": false,
    "pycharm": {
     "name": "#%%\n"
    }
   }
  },
  {
   "cell_type": "markdown",
   "source": [
    "2.  Hoe groot is de kans op vier zessen?"
   ],
   "metadata": {
    "collapsed": false
   }
  },
  {
   "cell_type": "code",
   "execution_count": 51,
   "outputs": [
    {
     "data": {
      "text/plain": "'0.0007716'"
     },
     "execution_count": 51,
     "metadata": {},
     "output_type": "execute_result"
    }
   ],
   "source": [
    "format(binom.pmf(k=4, n=4, p=1/6), '.4g')"
   ],
   "metadata": {
    "collapsed": false,
    "pycharm": {
     "name": "#%%\n"
    }
   }
  },
  {
   "cell_type": "markdown",
   "source": [
    "3.  Hoe groot is de kans op 2 worpen onder de 3 en 2 worpen 3 of hoger?"
   ],
   "metadata": {
    "collapsed": false
   }
  },
  {
   "cell_type": "markdown",
   "source": [
    "We hebben hier twee toevalsveranderlijken:\n",
    "\n",
    "* X=\"onder de 3\" = {1,2}\n",
    "* Y=\"3 of hoger\" = {3,4,5,6}\n",
    "\n",
    "Deze gebeurtenissen sluiten elkaar uit. We moeten dus slechts één van de twee berekenen, want als die zich voordoet, doet de andere gebeurtenis zich automatisch ook voor.\n",
    "\n",
    "$p_x=P(X) = \\frac{2}{6} = \\frac{1}{3}$\n",
    "\n",
    "$p_y=P(Y) = \\frac{4}{6} = \\frac{2}{3}$\n",
    "\n",
    "$P(\\#X=2) = C_4^2 \\cdot p_x^2 \\cdot (1-p_x)^{4-2}$\n",
    "\n",
    "$P(\\#Y=2) = C_4^2 \\cdot p_y^2 \\cdot (1-p_y)^{4-2}$"
   ],
   "metadata": {
    "collapsed": false
   }
  },
  {
   "cell_type": "code",
   "execution_count": 4,
   "outputs": [
    {
     "name": "stdout",
     "output_type": "stream",
     "text": [
      "0.2963\n",
      "0.2963\n"
     ]
    }
   ],
   "source": [
    "print(format(binom.pmf(k=2, n=4, p=2/6), '.4g'))\n",
    "print(format(binom.pmf(k=2, n=4, p=4/6), '.4g'))"
   ],
   "metadata": {
    "collapsed": false,
    "pycharm": {
     "name": "#%%\n"
    }
   }
  },
  {
   "cell_type": "markdown",
   "source": [
    "---\n",
    "### Vraag 2\n",
    "Zes studenten Toegepaste Informatica moeten een test Engels afleggen. De kans om voor het examen te slagen 0,75.\n",
    "\n",
    "1.  Hoe groot is de kans dat exact 4 van hen slagen?"
   ],
   "metadata": {
    "collapsed": false
   }
  },
  {
   "cell_type": "code",
   "execution_count": 5,
   "outputs": [
    {
     "name": "stdout",
     "output_type": "stream",
     "text": [
      "0.2966\n"
     ]
    }
   ],
   "source": [
    "print(format(binom.pmf(k=4, n=6, p=0.75), '.4g'))"
   ],
   "metadata": {
    "collapsed": false,
    "pycharm": {
     "name": "#%%\n"
    }
   }
  },
  {
   "cell_type": "markdown",
   "source": [
    "2.  Hoe groot is de kans dat exact 5 van hen slagen?"
   ],
   "metadata": {
    "collapsed": false
   }
  },
  {
   "cell_type": "code",
   "execution_count": 6,
   "outputs": [
    {
     "name": "stdout",
     "output_type": "stream",
     "text": [
      "0.356\n"
     ]
    }
   ],
   "source": [
    "print(format(binom.pmf(k=5, n=6, p=0.75), '.4g'))"
   ],
   "metadata": {
    "collapsed": false,
    "pycharm": {
     "name": "#%%\n"
    }
   }
  },
  {
   "cell_type": "markdown",
   "source": [
    "3.  Hoe groot is de kans dat exact 6 van hen slagen?"
   ],
   "metadata": {
    "collapsed": false
   }
  },
  {
   "cell_type": "code",
   "execution_count": 7,
   "outputs": [
    {
     "name": "stdout",
     "output_type": "stream",
     "text": [
      "0.178\n"
     ]
    }
   ],
   "source": [
    "print(format(binom.pmf(k=6, n=6, p=0.75), '.4g'))"
   ],
   "metadata": {
    "collapsed": false,
    "pycharm": {
     "name": "#%%\n"
    }
   }
  },
  {
   "cell_type": "markdown",
   "source": [
    "4.  Hoe groot is de kans dat minder dan 4 van hen slagen?"
   ],
   "metadata": {
    "collapsed": false
   }
  },
  {
   "cell_type": "code",
   "execution_count": 8,
   "outputs": [
    {
     "name": "stdout",
     "output_type": "stream",
     "text": [
      "0.1694\n"
     ]
    }
   ],
   "source": [
    "print(format(binom.cdf(k=3, n=6, p=0.75), '.4g'))"
   ],
   "metadata": {
    "collapsed": false,
    "pycharm": {
     "name": "#%%\n"
    }
   }
  },
  {
   "cell_type": "markdown",
   "source": [
    "---\n",
    "### Vraag 3\n",
    "\n",
    "Op weg naar de school, passeer je 6 verkeerslichten. Deze zijn jammer genoeg helemaal niet gesynchroniseerd. Ze werken totaal onafhankelijk van elkaar. De verkeerslichten staan ongeveer 40% van de tijd op rood.\n",
    "\n",
    "1.  Wat is de kans dat je geen enkel rood licht hebt, onderweg?"
   ],
   "metadata": {
    "collapsed": false
   }
  },
  {
   "cell_type": "code",
   "execution_count": 9,
   "outputs": [
    {
     "name": "stdout",
     "output_type": "stream",
     "text": [
      "0.04666\n"
     ]
    }
   ],
   "source": [
    "print(format(binom.pmf(k=0, n=6, p= 0.4),'.4g'))"
   ],
   "metadata": {
    "collapsed": false,
    "pycharm": {
     "name": "#%%\n"
    }
   }
  },
  {
   "cell_type": "markdown",
   "source": [
    "2.  Wat is de kans dat alle verkeerslichten op rood staan?"
   ],
   "metadata": {
    "collapsed": false
   }
  },
  {
   "cell_type": "code",
   "execution_count": 10,
   "outputs": [
    {
     "name": "stdout",
     "output_type": "stream",
     "text": [
      "0.004096\n"
     ]
    }
   ],
   "source": [
    "print(format(binom.pmf(k=6, n=6, p= 0.4),'.4g'))"
   ],
   "metadata": {
    "collapsed": false,
    "pycharm": {
     "name": "#%%\n"
    }
   }
  },
  {
   "cell_type": "markdown",
   "source": [
    "3.  Wat is de kans om meer dan 2 lichten op rood tegen te komen?"
   ],
   "metadata": {
    "collapsed": false
   }
  },
  {
   "cell_type": "code",
   "execution_count": 11,
   "outputs": [
    {
     "name": "stdout",
     "output_type": "stream",
     "text": [
      "0.4557\n"
     ]
    }
   ],
   "source": [
    "print(format(1 - binom.cdf(k=2, n=6, p=0.4),'.4g'))"
   ],
   "metadata": {
    "collapsed": false,
    "pycharm": {
     "name": "#%%\n"
    }
   }
  },
  {
   "cell_type": "markdown",
   "source": [
    "4.  Als je weet dat je gemiddeld 2 minuten verliest per rood licht. Hoeveel tijd verwacht je dan gemiddeld te verliezen op een traject?"
   ],
   "metadata": {
    "collapsed": false
   }
  },
  {
   "cell_type": "code",
   "execution_count": 12,
   "outputs": [
    {
     "name": "stdout",
     "output_type": "stream",
     "text": [
      "Gemiddelde verliezen we 4.8 minuten\n"
     ]
    }
   ],
   "source": [
    "n = 6\n",
    "p = 0.4\n",
    "µ = n * p\n",
    "print('Gemiddelde verliezen we {:.1f} minuten'.format(2*µ))"
   ],
   "metadata": {
    "collapsed": false,
    "pycharm": {
     "name": "#%%\n"
    }
   }
  },
  {
   "cell_type": "markdown",
   "source": [
    "---\n",
    "### Vraag 4\n",
    "Als je met de fiets naar school fietst, heb je gemiddeld 2 maal per jaar een lekke band.\n",
    "\n",
    "1.  Wat is de kans dat je geen lekke band hebt in een gegeven jaar?"
   ],
   "metadata": {
    "collapsed": false
   }
  },
  {
   "cell_type": "code",
   "execution_count": 13,
   "outputs": [
    {
     "name": "stdout",
     "output_type": "stream",
     "text": [
      "0.1353\n"
     ]
    }
   ],
   "source": [
    "print(format(poisson.pmf(k=0,mu=2),'.4g'))"
   ],
   "metadata": {
    "collapsed": false,
    "pycharm": {
     "name": "#%%\n"
    }
   }
  },
  {
   "cell_type": "markdown",
   "source": [
    "2.  Wat is de kans dat je meer dan 3 lekke banden hebt in een jaar?"
   ],
   "metadata": {
    "collapsed": false
   }
  },
  {
   "cell_type": "code",
   "execution_count": 14,
   "outputs": [
    {
     "name": "stdout",
     "output_type": "stream",
     "text": [
      "0.1429\n"
     ]
    }
   ],
   "source": [
    "print(format(1-poisson.cdf(k=3,mu=2),'.4g'))"
   ],
   "metadata": {
    "collapsed": false,
    "pycharm": {
     "name": "#%%\n"
    }
   }
  },
  {
   "cell_type": "markdown",
   "source": [
    "3.  Wat is de kans dat je 2 lekke banden hebt in 1 maand tijd?"
   ],
   "metadata": {
    "collapsed": false
   }
  },
  {
   "cell_type": "code",
   "execution_count": 15,
   "outputs": [
    {
     "name": "stdout",
     "output_type": "stream",
     "text": [
      "0.01176\n"
     ]
    }
   ],
   "source": [
    "print(format(poisson.pmf(k=2, mu=2/12),'.4g'))"
   ],
   "metadata": {
    "collapsed": false,
    "pycharm": {
     "name": "#%%\n"
    }
   }
  },
  {
   "cell_type": "markdown",
   "source": [
    "---\n",
    "### Vraag 5\n",
    "\n",
    "Een gebruiker krijgt gemiddeld 20 emails per dag. Op een dag krijgt hij er 100 en vraagt zich af of dit nog wel normaal is.\n",
    "\n",
    "1.  Wat is de kans dat hij meer dan 100 emails op een dag krijgt?"
   ],
   "metadata": {
    "collapsed": false
   }
  },
  {
   "cell_type": "code",
   "execution_count": 16,
   "outputs": [
    {
     "name": "stdout",
     "output_type": "stream",
     "text": [
      "0\n"
     ]
    }
   ],
   "source": [
    "print(format(1-poisson.cdf(k=100, mu=20),'.4g'))"
   ],
   "metadata": {
    "collapsed": false,
    "pycharm": {
     "name": "#%%\n"
    }
   }
  },
  {
   "cell_type": "markdown",
   "source": [
    "2.  Wat is de kans dat hij er meer dan 30 op een dag krijgt?"
   ],
   "metadata": {
    "collapsed": false
   }
  },
  {
   "cell_type": "code",
   "execution_count": 17,
   "outputs": [
    {
     "name": "stdout",
     "output_type": "stream",
     "text": [
      "0.01347\n"
     ]
    }
   ],
   "source": [
    "print(format(1-poisson.cdf(k=30,mu=20),'.4g'))"
   ],
   "metadata": {
    "collapsed": false,
    "pycharm": {
     "name": "#%%\n"
    }
   }
  },
  {
   "cell_type": "markdown",
   "source": [
    "3.  Wat is de kans dat hij er exact 20 op een dag krijgt?"
   ],
   "metadata": {
    "collapsed": false
   }
  },
  {
   "cell_type": "code",
   "execution_count": 18,
   "outputs": [
    {
     "name": "stdout",
     "output_type": "stream",
     "text": [
      "0.08884\n"
     ]
    }
   ],
   "source": [
    "print(format(poisson.pmf(k=20, mu=20),'.4g'))"
   ],
   "metadata": {
    "collapsed": false,
    "pycharm": {
     "name": "#%%\n"
    }
   }
  },
  {
   "cell_type": "markdown",
   "source": [
    "4.  Wat is de kans dat hij er 10 of minder op een dag krijgt?"
   ],
   "metadata": {
    "collapsed": false
   }
  },
  {
   "cell_type": "code",
   "execution_count": 19,
   "outputs": [
    {
     "name": "stdout",
     "output_type": "stream",
     "text": [
      "0.01081\n"
     ]
    }
   ],
   "source": [
    "print(format(poisson.cdf(k=10, mu=20),'.4g'))"
   ],
   "metadata": {
    "collapsed": false,
    "pycharm": {
     "name": "#%%\n"
    }
   }
  },
  {
   "cell_type": "markdown",
   "source": [
    "5.  Wat is de kans dat hij er 650 of minder op een maand (30 dagen) krijgt?"
   ],
   "metadata": {
    "collapsed": false
   }
  },
  {
   "cell_type": "code",
   "execution_count": 20,
   "outputs": [
    {
     "name": "stdout",
     "output_type": "stream",
     "text": [
      "0.9793\n"
     ]
    }
   ],
   "source": [
    "print(format(poisson.cdf(k=650, mu=20*30),'.4g'))\n"
   ],
   "metadata": {
    "collapsed": false,
    "pycharm": {
     "name": "#%%\n"
    }
   }
  },
  {
   "cell_type": "markdown",
   "source": [
    "---\n",
    "### Vraag 6\n",
    "\n",
    "Er worden gemiddeld 3,5 bitcoin transacties per seconde uitgevoerd. Het maximum aantal transacties dat het netwerk kan verwerken is echter 7 per seconde.\n",
    "\n",
    "1.  Wat is de kans dat er gedurende een seconde meer dan 7 transacties uitgevoerd moeten worden?"
   ],
   "metadata": {
    "collapsed": false
   }
  },
  {
   "cell_type": "code",
   "execution_count": 21,
   "outputs": [
    {
     "name": "stdout",
     "output_type": "stream",
     "text": [
      "0.02674\n"
     ]
    }
   ],
   "source": [
    "print(format(1-poisson.cdf(k=7, mu=3.5),'.4g'))"
   ],
   "metadata": {
    "collapsed": false,
    "pycharm": {
     "name": "#%%\n"
    }
   }
  },
  {
   "cell_type": "markdown",
   "source": [
    "2.  Wat is de kans dat er geen enkele transactie is gedurende een seconde?"
   ],
   "metadata": {
    "collapsed": false
   }
  },
  {
   "cell_type": "code",
   "execution_count": 22,
   "outputs": [
    {
     "name": "stdout",
     "output_type": "stream",
     "text": [
      "0.0302\n"
     ]
    }
   ],
   "source": [
    "print(format(poisson.cdf(k=0, mu=3.5),'.4g'))"
   ],
   "metadata": {
    "collapsed": false,
    "pycharm": {
     "name": "#%%\n"
    }
   }
  },
  {
   "cell_type": "markdown",
   "source": [
    "3.  Wat is de kans dat er 3 of minder transacties zijn gedurende een seconde?"
   ],
   "metadata": {
    "collapsed": false
   }
  },
  {
   "cell_type": "code",
   "execution_count": 23,
   "outputs": [
    {
     "name": "stdout",
     "output_type": "stream",
     "text": [
      "0.5366\n"
     ]
    }
   ],
   "source": [
    "print(format(poisson.cdf(k=3, mu=3.5),'.4g'))"
   ],
   "metadata": {
    "collapsed": false,
    "pycharm": {
     "name": "#%%\n"
    }
   }
  },
  {
   "cell_type": "markdown",
   "source": [
    "4.  Wat is de kans dat er 2 of meer transacties zijn gedurende een seconde?"
   ],
   "metadata": {
    "collapsed": false
   }
  },
  {
   "cell_type": "code",
   "execution_count": 24,
   "outputs": [
    {
     "name": "stdout",
     "output_type": "stream",
     "text": [
      "0.8641\n"
     ]
    }
   ],
   "source": [
    "print(format(1-poisson.cdf(k=1, mu=3.5),'.4g'))"
   ],
   "metadata": {
    "collapsed": false,
    "pycharm": {
     "name": "#%%\n"
    }
   }
  },
  {
   "cell_type": "markdown",
   "source": [
    "5.  Hoeveel transacties verwacht je op een dag?"
   ],
   "metadata": {
    "collapsed": false
   }
  },
  {
   "cell_type": "code",
   "execution_count": 25,
   "outputs": [
    {
     "name": "stdout",
     "output_type": "stream",
     "text": [
      "302400.0\n"
     ]
    }
   ],
   "source": [
    "print(3.5*3600*24)"
   ],
   "metadata": {
    "collapsed": false,
    "pycharm": {
     "name": "#%%\n"
    }
   }
  },
  {
   "cell_type": "markdown",
   "source": [
    "---\n",
    "### Vraag 7\n",
    "\n",
    "Een toets bestaat uit 40 vragen en de gemiddelde moeilijkheidsgraad van de vragen is 0,85 (de kans op een juist antwoord is 0,85). Per vraag krijgen de studenten 1 punt. Wat zijn de verwachte waarde en de standaardafwijkingvan de score op deze toets?\n",
    "\n",
    "1.  $\\mu=34$ en $\\sigma=2,26$\n",
    "\n",
    "2.  $\\mu=29$ en $\\sigma=2,26$\n",
    "\n",
    "3.  $\\mu=34$ en $\\sigma=5,10$\n",
    "\n",
    "4.  $\\mu=29$ en $\\sigma=5,10$"
   ],
   "metadata": {
    "collapsed": false
   }
  },
  {
   "cell_type": "code",
   "execution_count": 26,
   "outputs": [
    {
     "name": "stdout",
     "output_type": "stream",
     "text": [
      "µ=34.00 en σ=2.26\n"
     ]
    }
   ],
   "source": [
    "n = 40\n",
    "p = 0.85\n",
    "µ = n*p\n",
    "σ = math.sqrt(n*p*(1-p))\n",
    "\n",
    "print('µ={:.2f} en σ={:.2f}'.format(µ,σ))"
   ],
   "metadata": {
    "collapsed": false,
    "pycharm": {
     "name": "#%%\n"
    }
   }
  },
  {
   "cell_type": "markdown",
   "source": [
    "---\n",
    "### Vraag 8\n",
    "\n",
    "Voor de standaardnormale verdeling, wat zijn de volgende kansen?\n",
    "\n",
    "1.  $P(Z \\ge +1,64)$"
   ],
   "metadata": {
    "collapsed": false
   }
  },
  {
   "cell_type": "code",
   "execution_count": 27,
   "outputs": [
    {
     "name": "stdout",
     "output_type": "stream",
     "text": [
      "0.0505\n"
     ]
    }
   ],
   "source": [
    "print(format(1-norm.cdf(x=1.64),'.4g'))"
   ],
   "metadata": {
    "collapsed": false,
    "pycharm": {
     "name": "#%%\n"
    }
   }
  },
  {
   "cell_type": "markdown",
   "source": [
    "2.  $P(Z \\ge -1,32)$"
   ],
   "metadata": {
    "collapsed": false
   }
  },
  {
   "cell_type": "code",
   "execution_count": 28,
   "outputs": [
    {
     "name": "stdout",
     "output_type": "stream",
     "text": [
      "0.9066\n"
     ]
    }
   ],
   "source": [
    "print(format(1 - norm.cdf(x=-1.32),'.4g'))"
   ],
   "metadata": {
    "collapsed": false,
    "pycharm": {
     "name": "#%%\n"
    }
   }
  },
  {
   "cell_type": "markdown",
   "source": [
    "3.  $P(Z \\le -0,18)$"
   ],
   "metadata": {
    "collapsed": false
   }
  },
  {
   "cell_type": "code",
   "execution_count": 29,
   "outputs": [
    {
     "name": "stdout",
     "output_type": "stream",
     "text": [
      "0.4286\n"
     ]
    }
   ],
   "source": [
    "print(format(norm.cdf(x=-0.18),'.4g'))"
   ],
   "metadata": {
    "collapsed": false,
    "pycharm": {
     "name": "#%%\n"
    }
   }
  },
  {
   "cell_type": "markdown",
   "source": [
    "4.  $P(Z \\le +1,28)$"
   ],
   "metadata": {
    "collapsed": false
   }
  },
  {
   "cell_type": "code",
   "execution_count": 30,
   "outputs": [
    {
     "name": "stdout",
     "output_type": "stream",
     "text": [
      "0.8997\n"
     ]
    }
   ],
   "source": [
    "print(format(norm.cdf(x=1.28),'.4g'))"
   ],
   "metadata": {
    "collapsed": false,
    "pycharm": {
     "name": "#%%\n"
    }
   }
  },
  {
   "cell_type": "markdown",
   "source": [
    "5.  $P(0,45 \\le Z \\le 0,92)$"
   ],
   "metadata": {
    "collapsed": false
   }
  },
  {
   "cell_type": "code",
   "execution_count": 31,
   "outputs": [
    {
     "name": "stdout",
     "output_type": "stream",
     "text": [
      "0.1476\n"
     ]
    }
   ],
   "source": [
    "print(format(norm.cdf(x=0.92) - norm.cdf(x=0.45),'.4g'))"
   ],
   "metadata": {
    "collapsed": false,
    "pycharm": {
     "name": "#%%\n"
    }
   }
  },
  {
   "cell_type": "markdown",
   "source": [
    "6.  $P(-0,72 \\le Z \\le -0,38)$"
   ],
   "metadata": {
    "collapsed": false
   }
  },
  {
   "cell_type": "code",
   "execution_count": 32,
   "outputs": [
    {
     "name": "stdout",
     "output_type": "stream",
     "text": [
      "0.1162\n"
     ]
    }
   ],
   "source": [
    "print(format(norm.cdf(x=-0.38) - norm.cdf(x=-0.72),'.4g'))"
   ],
   "metadata": {
    "collapsed": false,
    "pycharm": {
     "name": "#%%\n"
    }
   }
  },
  {
   "cell_type": "markdown",
   "source": [
    "---\n",
    "### Vraag 9\n",
    "\n",
    "In een klas is de gemiddelde haarlengte normaalverdeeld µ=20 cm en ơ=4.\n",
    "Wat zijn de volgende kansen?\n",
    "\n",
    "1.  De kans dat iemands haar langer is dan 28cm"
   ],
   "metadata": {
    "collapsed": false
   }
  },
  {
   "cell_type": "code",
   "execution_count": 33,
   "outputs": [
    {
     "name": "stdout",
     "output_type": "stream",
     "text": [
      "0.02275\n"
     ]
    }
   ],
   "source": [
    "print(format(1-norm.cdf(x=28, loc=20, scale=4), '.4g'))"
   ],
   "metadata": {
    "collapsed": false,
    "pycharm": {
     "name": "#%%\n"
    }
   }
  },
  {
   "cell_type": "markdown",
   "source": [
    "2.  De kans dat iemands haar korter is dan 16cm"
   ],
   "metadata": {
    "collapsed": false
   }
  },
  {
   "cell_type": "code",
   "execution_count": 34,
   "outputs": [
    {
     "name": "stdout",
     "output_type": "stream",
     "text": [
      "0.1587\n"
     ]
    }
   ],
   "source": [
    "print(format(norm.cdf(x=16, loc=20, scale=4), '.4g'))"
   ],
   "metadata": {
    "collapsed": false,
    "pycharm": {
     "name": "#%%\n"
    }
   }
  },
  {
   "cell_type": "markdown",
   "source": [
    "3.  De kans dat iemand haar een lengte heeft tussen 18cm en 22cm"
   ],
   "metadata": {
    "collapsed": false
   }
  },
  {
   "cell_type": "code",
   "execution_count": 35,
   "outputs": [
    {
     "name": "stdout",
     "output_type": "stream",
     "text": [
      "0.3829\n"
     ]
    }
   ],
   "source": [
    "print(format(norm.cdf(x=22, loc=20, scale=4)-norm.cdf(x=18, loc=20, scale=4), '.4g'))"
   ],
   "metadata": {
    "collapsed": false,
    "pycharm": {
     "name": "#%%\n"
    }
   }
  },
  {
   "cell_type": "markdown",
   "source": [
    "---\n",
    "### Vraag 10\n",
    "We bouwen een website met een wedstrijd met verschillende vragen. De scores op de wedstrijd zijn normaal verdeeld met $\\mu=50$ en $\\sigma=5$.\n",
    "\n",
    "1.  Wat is de kans dat een aselect gekozen score op deze wedstrijd lager is dan 40?"
   ],
   "metadata": {
    "collapsed": false
   }
  },
  {
   "cell_type": "code",
   "execution_count": 36,
   "outputs": [
    {
     "name": "stdout",
     "output_type": "stream",
     "text": [
      "0.02275\n"
     ]
    }
   ],
   "source": [
    "print(format(norm.cdf(x=40, loc=50, scale=5), '.4g'))"
   ],
   "metadata": {
    "collapsed": false,
    "pycharm": {
     "name": "#%%\n"
    }
   }
  },
  {
   "cell_type": "markdown",
   "source": [
    "gekozen score op deze wedstrijd tussen de 42 en 52 valt?"
   ],
   "metadata": {
    "collapsed": false
   }
  },
  {
   "cell_type": "code",
   "execution_count": 37,
   "outputs": [
    {
     "name": "stdout",
     "output_type": "stream",
     "text": [
      "0.6006\n"
     ]
    }
   ],
   "source": [
    "print(format(norm.cdf(x=52, loc=50, scale=5)-norm.cdf(x=42, loc=50, scale=5),'.4g'))"
   ],
   "metadata": {
    "collapsed": false,
    "pycharm": {
     "name": "#%%\n"
    }
   }
  },
  {
   "cell_type": "markdown",
   "source": [
    "3.  Iedereen die een score behaalt hoger dan 58,75 krijgt een bijzondere prijs met vermelding in de krant. Als 75 mensen deelnemen, hoeveel winnen er dan een bijzondere prijs?"
   ],
   "metadata": {
    "collapsed": false
   }
  },
  {
   "cell_type": "code",
   "execution_count": 38,
   "outputs": [
    {
     "name": "stdout",
     "output_type": "stream",
     "text": [
      "3.004\n"
     ]
    }
   ],
   "source": [
    "print(format((1-norm.cdf(x=58.75, loc=50, scale=5))*75, '.4g'))"
   ],
   "metadata": {
    "collapsed": false,
    "pycharm": {
     "name": "#%%\n"
    }
   }
  },
  {
   "cell_type": "markdown",
   "source": [
    "---\n",
    "### Vraag 11\n",
    "\n",
    "Bij een IQ-test is de verwachte waarde 100 (normaal verdeeld). In Antwerpen is de standaardafwijking 15, in Gent is deze 18.\n",
    "\n",
    "a\\) Wat is de kans dat iemand in Antwerpen een IQ heeft dat groter is dan 120?"
   ],
   "metadata": {
    "collapsed": false
   }
  },
  {
   "cell_type": "code",
   "execution_count": 39,
   "outputs": [
    {
     "name": "stdout",
     "output_type": "stream",
     "text": [
      "0.09121\n"
     ]
    }
   ],
   "source": [
    "print(format(1-norm.cdf(x=120, loc=100, scale=15),'.4g'))"
   ],
   "metadata": {
    "collapsed": false,
    "pycharm": {
     "name": "#%%\n"
    }
   }
  },
  {
   "cell_type": "markdown",
   "source": [
    "b\\) Met welk IQ behoor je in Antwerpen tot de mensen die de 16% laagste scores hebben? hint: experimenteer tot je het vindt of gebruik de norm.ppf()-functie"
   ],
   "metadata": {
    "collapsed": false
   }
  },
  {
   "cell_type": "code",
   "execution_count": 40,
   "outputs": [
    {
     "name": "stdout",
     "output_type": "stream",
     "text": [
      "85.08\n",
      "0.1587\n"
     ]
    }
   ],
   "source": [
    "print(format(norm.ppf(q=0.16, loc=100, scale=15),'.4g'))\n",
    "print(format(norm.cdf(x=85, loc=100, scale=15),'.4g'))"
   ],
   "metadata": {
    "collapsed": false,
    "pycharm": {
     "name": "#%%\n"
    }
   }
  },
  {
   "cell_type": "markdown",
   "source": [
    "c\\) Welk IQ (of meer) hebben de 5% slimste mensen in Gent? (zelfde hint)"
   ],
   "metadata": {
    "collapsed": false
   }
  },
  {
   "cell_type": "code",
   "execution_count": 41,
   "outputs": [
    {
     "name": "stdout",
     "output_type": "stream",
     "text": [
      "129.6\n",
      "0.05062\n"
     ]
    }
   ],
   "source": [
    "print(format(norm.ppf(q=0.95, loc=100, scale=18),'.4g'))\n",
    "print(format(1-norm.cdf(129.5, loc=100, scale=18),'.4g'))"
   ],
   "metadata": {
    "collapsed": false,
    "pycharm": {
     "name": "#%%\n"
    }
   }
  },
  {
   "cell_type": "markdown",
   "source": [
    "d\\) Wat is de verhouding van Antwerpenaren en Gentenaren voor scores boven de 130?\n",
    "\n",
    "1.  1:1\n",
    "\n",
    "2.  1:2\n",
    "\n",
    "3.  1:3\n",
    "\n",
    "4.  5:6"
   ],
   "metadata": {
    "collapsed": false
   }
  },
  {
   "cell_type": "code",
   "execution_count": 42,
   "outputs": [
    {
     "name": "stdout",
     "output_type": "stream",
     "text": [
      "Verhouding Antwerpen/Gent=0.5\n"
     ]
    }
   ],
   "source": [
    "antwerpen = 1 - norm.cdf(130, loc=100, scale=15)\n",
    "gent = 1 - norm.cdf(130, loc=100, scale=18)\n",
    "\n",
    "print('Verhouding Antwerpen/Gent={:.1f}'.format(antwerpen/gent))"
   ],
   "metadata": {
    "collapsed": false,
    "pycharm": {
     "name": "#%%\n"
    }
   }
  },
  {
   "cell_type": "markdown",
   "source": [
    "---\n",
    "### Vraag 12\n",
    "\n",
    "Uit onderzoek is gebleken dat de levensduur van lampen normaal verdeeld is. Een bepaald type lampen heeft een levensduur van 500 uur, met een standaardafwijking van 100 uur. Een grootwinkelbedrijf koopt 50 000 lampen van dit type in.\n",
    "\n",
    "1.  Hoeveel van deze lampen branden langer dan 400 uur?"
   ],
   "metadata": {
    "collapsed": false
   }
  },
  {
   "cell_type": "code",
   "execution_count": 43,
   "outputs": [
    {
     "data": {
      "text/plain": "42067.237303427144"
     },
     "execution_count": 43,
     "metadata": {},
     "output_type": "execute_result"
    }
   ],
   "source": [
    "(1 - norm.cdf(x=400, loc=500, scale=100))*50000"
   ],
   "metadata": {
    "collapsed": false,
    "pycharm": {
     "name": "#%%\n"
    }
   }
  },
  {
   "cell_type": "markdown",
   "source": [
    "2.  Hoeveel van deze lampen hebben een levenduur die ligt tussen 400 en 700 uur?"
   ],
   "metadata": {
    "collapsed": false
   }
  },
  {
   "cell_type": "code",
   "execution_count": 44,
   "outputs": [
    {
     "data": {
      "text/plain": "40929.730706018185"
     },
     "execution_count": 44,
     "metadata": {},
     "output_type": "execute_result"
    }
   ],
   "source": [
    "(norm.cdf(x=700, loc=500, scale=100) - norm.cdf(x=400, loc=500, scale=100))*50000"
   ],
   "metadata": {
    "collapsed": false,
    "pycharm": {
     "name": "#%%\n"
    }
   }
  },
  {
   "cell_type": "markdown",
   "source": [
    "3.  Hoeveel van deze lampen hebben een levenduur die onder de 600 uur ligt? Vergelijk dit resultaat met dat van vraag 1. Wat zie je? Hoe komt dit?"
   ],
   "metadata": {
    "collapsed": false
   }
  },
  {
   "cell_type": "code",
   "execution_count": 45,
   "outputs": [
    {
     "data": {
      "text/plain": "42067.237303427144"
     },
     "execution_count": 45,
     "metadata": {},
     "output_type": "execute_result"
    }
   ],
   "source": [
    "norm.cdf(x=600, loc=500, scale=100)*50000"
   ],
   "metadata": {
    "collapsed": false,
    "pycharm": {
     "name": "#%%\n"
    }
   }
  },
  {
   "cell_type": "markdown",
   "source": [
    "---\n",
    "### Vraag 13\n",
    "Bij een eenvoudige prijsvraag op de website geven 8 van de 10 mensen het juiste antwoord. Hoe groot is de kans dat ten minste 55 deelnemers uit een aselecte steekproef van 60 personen correct geantwoord hebben (2 beduidende cijfers)?"
   ],
   "metadata": {
    "collapsed": false
   }
  },
  {
   "cell_type": "code",
   "execution_count": 46,
   "outputs": [
    {
     "name": "stdout",
     "output_type": "stream",
     "text": [
      "0.012\n",
      "0.012\n"
     ]
    }
   ],
   "source": [
    "print(format(1 - binom.cdf(k=54, n=60, p=0.8), '.2g'))\n",
    "print(format(1 - norm.cdf(x=55, loc=60*0.8, scale=math.sqrt(60*0.8*0.2)), '.2g'))"
   ],
   "metadata": {
    "collapsed": false,
    "pycharm": {
     "name": "#%%\n"
    }
   }
  },
  {
   "cell_type": "markdown",
   "source": [
    "---\n",
    "### Vraag 14\n",
    "\n",
    "Een nieuwe machine maakt volledig autonoom processoren. Slechts 2 op de 5 processoren voldoen aan de kwaliteitsnorm.\n",
    "\n",
    "1.  We nemen 10 processoren gemaakt door deze machine. Wat is de kans dat er minder dan 2 goed zijn?"
   ],
   "metadata": {
    "collapsed": false
   }
  },
  {
   "cell_type": "code",
   "execution_count": 47,
   "outputs": [
    {
     "name": "stdout",
     "output_type": "stream",
     "text": [
      "0.04636\n"
     ]
    }
   ],
   "source": [
    "print(format(binom.cdf(k=1, n=10, p=2/5),'.4g'))"
   ],
   "metadata": {
    "collapsed": false,
    "pycharm": {
     "name": "#%%\n"
    }
   }
  },
  {
   "cell_type": "markdown",
   "source": [
    "2.  We nemen 100 processoren gemaakt door deze machine. Wat is de kans dat er minder dan 20 goed zijn?"
   ],
   "metadata": {
    "collapsed": false
   }
  },
  {
   "cell_type": "code",
   "execution_count": 48,
   "outputs": [
    {
     "name": "stdout",
     "output_type": "stream",
     "text": [
      "5.881e-06\n"
     ]
    }
   ],
   "source": [
    "print(format(binom.cdf(k=19, n=100, p=2/5),'.4g'))"
   ],
   "metadata": {
    "collapsed": false,
    "pycharm": {
     "name": "#%%\n"
    }
   }
  },
  {
   "cell_type": "markdown",
   "source": [
    "3.  In beide bovenstaande vragen wordt gevraagd naar minder dan 20% van het totaal aantal processoren. Welk verschil merk je? Wat kan de oorzaak zijn?"
   ],
   "metadata": {
    "collapsed": false
   }
  },
  {
   "cell_type": "code",
   "execution_count": 49,
   "outputs": [
    {
     "name": "stdout",
     "output_type": "stream",
     "text": [
      "2.228e-05\n"
     ]
    }
   ],
   "source": [
    "print(format(norm.cdf(x=20, loc=100*2/5, scale=math.sqrt(100*2/5*3/5)),'.4g'))"
   ],
   "metadata": {
    "collapsed": false,
    "pycharm": {
     "name": "#%%\n"
    }
   }
  },
  {
   "cell_type": "markdown",
   "source": [
    "### Vraag 15\n",
    "Tijdens een laptopexamen kan er van alles mis gaan. We weten dat een computer met Windows 2% kans heeft om te crashen\n",
    "tijdens het examen. Bij Mac OSX is dat 0,2% en bij Linux is dat 0,1%. Stel dat een klas van 40 studenten examen komt afleggen.\n",
    "\n",
    "**Situatie A:** iedereen draait Windows\n",
    "\n",
    "1. Wat is het verwachte aantal crashes (ombudsdossiers ;-)) tijdens het examen?\n",
    "2. Hoeveel kans is er dat er 1 computer crasht tijdens het examen?\n",
    "3. Hoeveel kans is er dat er 2 computers crashen tijdens het examen?\n",
    "\n",
    "**Situatie B:** 10 studenten draaien Windows, 10 studenten draaien Mac OSX, en 20 draaien Linux\n",
    "1. Wat is het verwachte aantal crashes tijdens het examen?\n",
    "2. Hoeveel kans is er dat er 1 computer crasht tijdens het examen?\n",
    "3. Hoeveel kans is er dat er 2 computers crashen tijdens het examen?"
   ],
   "metadata": {
    "collapsed": false
   }
  },
  {
   "cell_type": "markdown",
   "source": [
    "### Oplossing Vraag 15\n",
    "<u>Toevalsveranderlijken</u>\n",
    "\n",
    "$L = \\{W,M,X\\}$, een laptop (L) heeft ofwel Windows (W), Mac OS (M) of Linux (X) als OS.\n",
    "\n",
    "$C = \\{0,1\\}$, een laptop kan al dan niet crashen (C).\n",
    "\n",
    "$\\#C = \\{0,1,2,3,\\dots\\}$, het **aantal** crashes (#C)\n",
    "\n",
    "<u>Voorwaardelijke kansen</u>\n",
    "\n",
    "$P(C=1 \\mid L = W) = 0.02$\n",
    "\n",
    "$P(C=1 \\mid L = M) = 0.002$\n",
    "\n",
    "$P(C=1 \\mid L = X) = 0.001$\n",
    "\n",
    "**Situatie A:**\n",
    "\n",
    "<u>Priorkansen</u>\n",
    "\n",
    "* $P(L = W) = \\frac{40}{40} = 1$\n",
    "* $P(L = M) = \\frac{0}{40} = 0$\n",
    "* $P(L = X) = \\frac{0}{40} = 0$\n",
    "\n",
    "**Berekeningen**\n",
    "\n",
    "1. Wat is het verwachte aantal crashes tijdens het examen?\n",
    "\n",
    "$\\mu = n \\cdot p$\n",
    "$\\phantom{\\mu} = 40 \\cdot 0.02$\n",
    "$\\phantom{\\mu} = 0.8$\n",
    "\n",
    "2. Hoeveel kans is er dat er 1 computer crasht tijdens het examen?\n",
    "\n",
    "$P(\\#C=1)$\n",
    "\n",
    "```\n",
    "= binom.cdf(1,40,0.02)\n",
    "```\n",
    "\n",
    "3. Hoeveel kans is er dat er 2 computers crashen tijdens het examen?\n",
    "$P(\\#C=2)$\n",
    "\n",
    "```\n",
    "= binom.cdf(2,40,0.02)\n",
    "```\n",
    "\n",
    "\n",
    "**Situatie B:**\n",
    "\n",
    "<u>Priorkansen</u>\n",
    "\n",
    "* $P(L = W) = \\frac{10}{40} = 0.25$\n",
    "\n",
    "* $P(L = M) = \\frac{10}{40} = 0.25$\n",
    "\n",
    "* $P(L = X) = \\frac{20}{40} = 0.5$\n",
    "\n",
    "\n",
    "1. Wat is het verwachte aantal crashes tijdens het examen?\n",
    "$P(C=1) = P(C=1 \\mid L = W) \\cdot P(L = W) + P(C=1 \\mid L = M) \\cdot P(L = M) + P(C=1 \\mid L = X) \\cdot P(L = X)$\n",
    "\n",
    "$\\phantom{P(C)} = 0.02 \\cdot 0.25 + 0.002 \\cdot 0.25 + 0.001 \\cdot 0.5$\n",
    "\n",
    "$\\phantom{P(C)} = 0.006$\n",
    "\n",
    "$\\mu = n \\cdot p = 40 \\cdot 0.006 = 0.24$\n",
    "\n",
    "> Alternatieve denk- en rekenwijze\n",
    ">\n",
    "> * $\\mu_W = n_W \\cdot p_W = 10 \\cdot 0.02 = 0.2$\n",
    ">\n",
    "> * $\\mu_M = n_M \\cdot p_M = 10 \\cdot 0.002 = 0.02$\n",
    ">\n",
    "> * $\\mu_X = n_X \\cdot p_X = 20 \\cdot 0.001 = 0.02$\n",
    ">\n",
    "> $\\mu =\\mu_W + \\mu_M + \\mu_X = 0.2 + 0.02 + 0.02 = 0.24$\n",
    "\n",
    "<br>\n",
    "\n",
    "2. Hoeveel kans is er dat er 1 computer crasht tijdens het examen? (**productregel**)\n",
    "\n",
    "*  $P(\\#W=1) = P(\\# C = 1 \\mid L = W) \\cdot P(\\# C = 0 \\mid L = M) \\cdot P(\\# C = 0 \\mid L = X)$\n",
    "```\n",
    "= binom.cdf(1,10,0.02) * binom.cdf(0,10,0.002) * binom.cdf(0,20,0.001)\n",
    "```\n",
    "\n",
    "* $P(\\#M=1) = P(\\# C = 0 \\mid L = W) \\cdot P(\\# C = 1 \\mid L = M) \\cdot P(\\# C = 0 \\mid L = X)$\n",
    "```\n",
    "= binom.cdf(0,10,0.02) * binom.cdf(1,10,0.002) * binom.cdf(0,20,0.001)\n",
    "```\n",
    "\n",
    "* $P(\\#X=1) = P(\\# C = 0 \\mid L = W) \\cdot P(\\# C = 0 \\mid L = M) \\cdot P(\\# C = 1 \\mid L = X)$\n",
    "```\n",
    "= binom.cdf(0,10,0.02) * binom.cdf(0,10,0.002) * binom.cdf(1,20,0.001)\n",
    "```\n",
    "\n",
    "Om de kans te berekenen dat één laptop crasht, passen we dus de **somregel** toe:\n",
    "\n",
    "$P(\\# C = 1) = P(\\#W=1) + P(\\#M=1) + P(\\#X=1)$\n",
    "\n",
    "<br>\n",
    "3. Hoeveel kans is er dat er 2 computers crashen tijdens het examen?\n",
    "\n",
    "Dit zijn de kansen dat twee laptops van een al dan niet verschillende types tegelijkertijd crashen:\n",
    "\n",
    "  |W         |M         |X         |                                         |\n",
    "  |:--------:|:--------:|:--------:|:---------------------------------------:|\n",
    "  |$P(\\#W=2)$|$P(\\#M=0)$|$P(\\#X=0)$| $P(\\#W=2) \\cdot P(\\#M=0) \\cdot P(\\#X=0)$|\n",
    "  |$P(\\#W=0)$|$P(\\#M=2)$|$P(\\#X=0)$| analoog                                 |\n",
    "  |$P(\\#W=0)$|$P(\\#M=0)$|$P(\\#X=2)$| ...                                     |\n",
    "  |$P(\\#W=0)$|$P(\\#M=1)$|$P(\\#X=1)$| ...                                     |\n",
    "  |$P(\\#W=1)$|$P(\\#M=0)$|$P(\\#X=1)$| ...                                     |\n",
    "  |$P(\\#W=1)$|$P(\\#M=1)$|$P(\\#X=0)$| ...                                     |\n",
    "  |\\&nbsp    |\\&nbsp    |\\&nbsp    | $P = \\sum {bovenstaande~gevallen}$      |\n",
    "\n",
    "```\n",
    "print(format(\n",
    "  binom.cdf(2,10,0.02) * binom.cdf(0,10,0.002) * binom.cdf(0,20,0.001) +\n",
    "  binom.cdf(0,10,0.02) * binom.cdf(2,10,0.002) * binom.cdf(0,20,0.001) +\n",
    "  binom.cdf(0,10,0.02) * binom.cdf(0,10,0.002) * binom.cdf(2,20,0.001) +\n",
    "  binom.cdf(1,10,0.02) * binom.cdf(1,10,0.002) * binom.cdf(0,20,0.001) +\n",
    "  binom.cdf(1,10,0.02) * binom.cdf(0,10,0.002) * binom.cdf(1,20,0.001) +\n",
    "  binom.cdf(0,10,0.02) * binom.cdf(1,10,0.002) * binom.cdf(1,20,0.001), '.4g'))\n",
    "```\n",
    "\n",
    "**Voor de diehards**\n",
    "\n",
    "Nog enkele posteriorkansen:\n",
    "\n",
    "* $P(L = W \\mid C=1) = \\frac{P(C \\mid L = W) \\cdot P(L = W)}{P(C=1)} = \\frac{0.02 \\cdot 0.25}{0.006} = \\frac{5}{6} = \\frac{10}{12}$\n",
    "\n",
    "* $P(L = M \\mid C=1) = \\frac{P(C \\mid L = M) \\cdot P(L = M)}{P(C=1)} = \\frac{0.002 \\cdot 0.25}{0.006} = \\frac{1}{12}$\n",
    "\n",
    "* $P(L = X \\mid C=1) = \\frac{P(C \\mid L = X) \\cdot P(L = X)}{P(C=1)} = \\frac{0.001 \\cdot 0.5}{0.006} = \\frac{1}{12}$"
   ],
   "metadata": {
    "collapsed": false
   }
  }
 ],
 "metadata": {
  "kernelspec": {
   "display_name": "Python 3",
   "language": "python",
   "name": "python3"
  },
  "language_info": {
   "codemirror_mode": {
    "name": "ipython",
    "version": 2
   },
   "file_extension": ".py",
   "mimetype": "text/x-python",
   "name": "python",
   "nbconvert_exporter": "python",
   "pygments_lexer": "ipython2",
   "version": "2.7.6"
  }
 },
 "nbformat": 4,
 "nbformat_minor": 0
}