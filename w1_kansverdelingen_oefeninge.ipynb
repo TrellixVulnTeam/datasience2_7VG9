{
 "cells": [
  {
   "cell_type": "markdown",
   "metadata": {
    "collapsed": true,
    "pycharm": {
     "name": "#%% md\n"
    }
   },
   "source": [
    "# Kansverdelingen\n",
    "\n",
    "Een belangrijke competentie die je moet leren is de juiste kansverdeling te bepalen voor een bepaalde opgave. Stel jezelf op een examen ook steeds de vraag of de opgave niet opgelost kan worden m.b.v. een kansverdeling.\n",
    "\n",
    "\n"
   ]
  },
  {
   "cell_type": "code",
   "execution_count": 5,
   "metadata": {
    "pycharm": {
     "name": "#%%\n"
    }
   },
   "outputs": [],
   "source": [
    "import math\n",
    "\n",
    "from scipy.stats import binom, poisson, norm"
   ]
  },
  {
   "cell_type": "markdown",
   "metadata": {
    "pycharm": {
     "name": "#%% md\n"
    }
   },
   "source": [
    "---\n",
    "### Vraag 1\n",
    "kansverdelingen_opgaven\n",
    "Luna gooit 4 keer met een dobbelsteen (antwoord met 4 beduidende cijfers):"
   ]
  },
  {
   "cell_type": "markdown",
   "metadata": {
    "pycharm": {
     "name": "#%% md\n"
    }
   },
   "source": [
    "\n",
    "1.  Hoe groot is de kans op precies één 6?"
   ]
  },
  {
   "cell_type": "code",
   "execution_count": 8,
   "metadata": {
    "pycharm": {
     "name": "#%%\n"
    }
   },
   "outputs": [
    {
     "name": "stdout",
     "output_type": "stream",
     "text": [
      "Kans op 1 keer 6\n",
      "0.3858024691358026\n"
     ]
    }
   ],
   "source": [
    "n = 4  # het aantal keer dat je het experiment doet\n",
    "p = 1 / 6  # de kans op 1 keer een 6 is 1/6\n",
    "k = 1  # aantal keer dat je wil een succes wil\n",
    "\n",
    "kans_op_een_zes = binom.pmf(k, n, p)\n",
    "print(\"Kans op 1 een keer een 6\")\n",
    "print(kans_op_een_zes)"
   ]
  },
  {
   "cell_type": "markdown",
   "metadata": {
    "pycharm": {
     "name": "#%% md\n"
    }
   },
   "source": [
    "2.  Hoe groot is de kans op vier zessen?"
   ]
  },
  {
   "cell_type": "code",
   "execution_count": 9,
   "metadata": {
    "pycharm": {
     "name": "#%%\n"
    }
   },
   "outputs": [
    {
     "name": "stdout",
     "output_type": "stream",
     "text": [
      "Kans op 4 een keer 6\n",
      "0.0007716049382716051\n"
     ]
    }
   ],
   "source": [
    "n = 4  # het aantal keer dat je het experiment doet\n",
    "p = 1 / 6  # de kans op 1 keer een 6 is 1/6\n",
    "k = 4  # aantal keer dat je wil een succes wil\n",
    "\n",
    "kans_op_vier_keer_zes = binom.pmf(k, n, p)\n",
    "print(\"Kans op 4 een keer 6\")\n",
    "print(kans_op_vier_keer_zes)"
   ]
  },
  {
   "cell_type": "markdown",
   "metadata": {},
   "source": [
    "3.  Hoe groot is de kans op 2 worpen onder de 3 en 2 worpen 3 of hoger?\n",
    "\n",
    "We hebben hier twee toevalsveranderlijken:\n",
    "\n",
    "* X=\"onder de 3\" = {1,2}\n",
    "* Y=\"3 of hoger\" = {3,4,5,6}\n",
    "\n",
    "Deze gebeurtenissen sluiten elkaar uit. We moeten dus slechts één van de twee berekenen, want als die zich voordoet, doet de andere gebeurtenis zich automatisch ook voor.\n"
   ]
  },
  {
   "cell_type": "code",
   "execution_count": 14,
   "metadata": {
    "pycharm": {
     "name": "#%%\n"
    }
   },
   "outputs": [
    {
     "data": {
      "text/plain": [
       "'0.2963'"
      ]
     },
     "execution_count": 14,
     "metadata": {},
     "output_type": "execute_result"
    }
   ],
   "source": [
    "format(binom.pmf(k=2, n=4, p=2/6), '.4g')"
   ]
  },
  {
   "cell_type": "markdown",
   "metadata": {
    "collapsed": true,
    "pycharm": {
     "name": "#%% md\n"
    }
   },
   "source": [
    "---\n",
    "### Vraag 2\n",
    "Zes studenten Toegepaste Informatica moeten een test Engels afleggen. De kans om voor het examen te slagen 0,75.\n",
    "\n",
    "1.  Hoe groot is de kans dat exact 4 van hen slagen?"
   ]
  },
  {
   "cell_type": "code",
   "execution_count": 17,
   "metadata": {
    "pycharm": {
     "name": "#%%\n"
    }
   },
   "outputs": [
    {
     "data": {
      "text/plain": [
       "'0.2966'"
      ]
     },
     "execution_count": 17,
     "metadata": {},
     "output_type": "execute_result"
    }
   ],
   "source": [
    "format(binom.pmf(k=4, n=6,p=3/4), '.4g')"
   ]
  },
  {
   "cell_type": "markdown",
   "metadata": {
    "pycharm": {
     "name": "#%% md\n"
    }
   },
   "source": [
    "2.  Hoe groot is de kans dat exact 5 van hen slagen?"
   ]
  },
  {
   "cell_type": "code",
   "execution_count": 18,
   "metadata": {
    "pycharm": {
     "name": "#%%\n"
    }
   },
   "outputs": [
    {
     "data": {
      "text/plain": [
       "'0.356'"
      ]
     },
     "execution_count": 18,
     "metadata": {},
     "output_type": "execute_result"
    }
   ],
   "source": [
    "format(binom.pmf(k=5, n=6,p=3/4), '.4g')"
   ]
  },
  {
   "cell_type": "markdown",
   "metadata": {
    "pycharm": {
     "name": "#%% md\n"
    }
   },
   "source": [
    "3.  Hoe groot is de kans dat exact 6 van hen slagen?"
   ]
  },
  {
   "cell_type": "code",
   "execution_count": 19,
   "metadata": {
    "pycharm": {
     "name": "#%%\n"
    }
   },
   "outputs": [
    {
     "data": {
      "text/plain": [
       "'0.178'"
      ]
     },
     "execution_count": 19,
     "metadata": {},
     "output_type": "execute_result"
    }
   ],
   "source": [
    "format(binom.pmf(k=6, n=6,p=3/4), '.4g')\n"
   ]
  },
  {
   "cell_type": "markdown",
   "metadata": {
    "pycharm": {
     "name": "#%% md\n"
    }
   },
   "source": [
    "4.  Hoe groot is de kans dat minder dan 4 van hen slagen?"
   ]
  },
  {
   "cell_type": "code",
   "execution_count": 21,
   "metadata": {
    "pycharm": {
     "name": "#%%\n"
    }
   },
   "outputs": [
    {
     "data": {
      "text/plain": [
       "'0.1694'"
      ]
     },
     "execution_count": 21,
     "metadata": {},
     "output_type": "execute_result"
    }
   ],
   "source": [
    "format(binom.cdf(k=3, n=6,p=3/4), '.4g')"
   ]
  },
  {
   "cell_type": "markdown",
   "metadata": {
    "collapsed": true,
    "pycharm": {
     "name": "#%% md\n"
    }
   },
   "source": [
    "---\n",
    "### Vraag 3\n",
    "\n",
    "Op weg naar de school, passeer je 6 verkeerslichten. Deze zijn jammer genoeg helemaal niet gesynchroniseerd. Ze werken totaal onafhankelijk van elkaar. De verkeerslichten staan ongeveer 40% van de tijd op rood.\n",
    "\n",
    "1.  Wat is de kans dat je geen enkel rood licht hebt, onderweg?"
   ]
  },
  {
   "cell_type": "markdown",
   "metadata": {
    "pycharm": {
     "name": "#%% md\n"
    }
   },
   "source": [
    "2.  Wat is de kans dat alle verkeerslichten op rood staan?"
   ]
  },
  {
   "cell_type": "markdown",
   "metadata": {
    "pycharm": {
     "name": "#%% md\n"
    }
   },
   "source": [
    "3.  Wat is de kans om meer dan 2 lichten op rood tegen te komen?"
   ]
  },
  {
   "cell_type": "markdown",
   "metadata": {
    "pycharm": {
     "name": "#%% md\n"
    }
   },
   "source": [
    "4.  Als je weet dat je gemiddeld 2 minuten verliest per rood licht. Hoeveel tijd verwacht je dan gemiddeld te verliezen op een traject?"
   ]
  },
  {
   "cell_type": "markdown",
   "metadata": {
    "collapsed": true,
    "pycharm": {
     "name": "#%% md\n"
    }
   },
   "source": [
    "---\n",
    "### Vraag 4\n",
    "Als je met de fiets naar school fietst, heb je gemiddeld 2 maal per jaar een lekke band.\n",
    "\n",
    "1.  Wat is de kans dat je geen lekke band hebt in een gegeven jaar?"
   ]
  },
  {
   "cell_type": "markdown",
   "metadata": {
    "pycharm": {
     "name": "#%% md\n"
    }
   },
   "source": [
    "2.  Wat is de kans dat je meer dan 3 lekke banden hebt in een jaar?"
   ]
  },
  {
   "cell_type": "markdown",
   "metadata": {
    "pycharm": {
     "name": "#%% md\n"
    }
   },
   "source": [
    "3.  Wat is de kans dat je 2 lekke banden hebt in 1 maand tijd?"
   ]
  },
  {
   "cell_type": "markdown",
   "metadata": {
    "collapsed": true,
    "pycharm": {
     "name": "#%% md\n"
    }
   },
   "source": [
    "---\n",
    "### Vraag 5\n",
    "\n",
    "Een gebruiker krijgt gemiddeld 20 emails per dag. Op een dag krijgt hij er 100 en vraagt zich af of dit nog wel normaal is.\n",
    "\n",
    "1.  Wat is de kans dat hij meer dan 100 emails op een dag krijgt?"
   ]
  },
  {
   "cell_type": "markdown",
   "metadata": {
    "pycharm": {
     "name": "#%% md\n"
    }
   },
   "source": [
    "2.  Wat is de kans dat hij er meer dan 30 op een dag krijgt?"
   ]
  },
  {
   "cell_type": "markdown",
   "metadata": {
    "pycharm": {
     "name": "#%% md\n"
    }
   },
   "source": [
    "3.  Wat is de kans dat hij er exact 20 op een dag krijgt?"
   ]
  },
  {
   "cell_type": "markdown",
   "metadata": {
    "pycharm": {
     "name": "#%% md\n"
    }
   },
   "source": [
    "4.  Wat is de kans dat hij er 10 of minder op een dag krijgt?"
   ]
  },
  {
   "cell_type": "markdown",
   "metadata": {
    "pycharm": {
     "name": "#%% md\n"
    }
   },
   "source": [
    "5.  Wat is de kans dat hij er 650 of minder op een maand (30 dagen) krijgt?"
   ]
  },
  {
   "cell_type": "markdown",
   "metadata": {
    "collapsed": true,
    "pycharm": {
     "name": "#%% md\n"
    }
   },
   "source": [
    "---\n",
    "### Vraag 6\n",
    "\n",
    "Er worden gemiddeld 3,5 bitcoin transacties per seconde uitgevoerd. Het maximum aantal transacties dat het netwerk kan verwerken is echter 7 per seconde.\n",
    "\n",
    "1.  Wat is de kans dat er gedurende een seconde meer dan 7 transacties uitgevoerd moeten worden?"
   ]
  },
  {
   "cell_type": "markdown",
   "metadata": {
    "pycharm": {
     "name": "#%% md\n"
    }
   },
   "source": [
    "2.  Wat is de kans dat er geen enkele transactie is gedurende een seconde?"
   ]
  },
  {
   "cell_type": "markdown",
   "metadata": {
    "pycharm": {
     "name": "#%% md\n"
    }
   },
   "source": [
    "3.  Wat is de kans dat er 3 of minder transacties zijn gedurende een seconde?"
   ]
  },
  {
   "cell_type": "markdown",
   "metadata": {
    "pycharm": {
     "name": "#%% md\n"
    }
   },
   "source": [
    "4.  Wat is de kans dat er 2 of meer transacties zijn gedurende een seconde?"
   ]
  },
  {
   "cell_type": "markdown",
   "metadata": {
    "pycharm": {
     "name": "#%% md\n"
    }
   },
   "source": [
    "5.  Hoeveel transacties verwacht je op een dag?"
   ]
  },
  {
   "cell_type": "markdown",
   "metadata": {
    "pycharm": {
     "name": "#%% md\n"
    }
   },
   "source": [
    "---\n",
    "### Vraag 7\n",
    "\n",
    "Een toets bestaat uit 40 vragen en de gemiddelde moeilijkheidsgraad van de vragen is 0,85 (de kans op een juist antwoord is 0,85). Per vraag krijgen de studenten 1 punt. Wat zijn de verwachte waarde en de standaardafwijkingvan de score op deze toets?\n",
    "\n",
    "1.  $\\mu=34$ en $\\sigma=2,26$\n",
    "\n",
    "2.  $\\mu=29$ en $\\sigma=2,26$\n",
    "\n",
    "3.  $\\mu=34$ en $\\sigma=5,10$\n",
    "\n",
    "4.  $\\mu=29$ en $\\sigma=5,10$"
   ]
  },
  {
   "cell_type": "markdown",
   "metadata": {
    "collapsed": true,
    "pycharm": {
     "name": "#%% md\n"
    }
   },
   "source": [
    "---\n",
    "### Vraag 8\n",
    "\n",
    "Voor de standaardnormale verdeling, wat zijn de volgende kansen?\n",
    "\n",
    "1.  $P(Z \\ge +1,64)$"
   ]
  },
  {
   "cell_type": "markdown",
   "metadata": {
    "pycharm": {
     "name": "#%% md\n"
    }
   },
   "source": [
    "2.  $P(Z \\ge -1,32)$"
   ]
  },
  {
   "cell_type": "markdown",
   "metadata": {
    "pycharm": {
     "name": "#%% md\n"
    }
   },
   "source": [
    "3.  $P(Z \\le -0,18)$"
   ]
  },
  {
   "cell_type": "markdown",
   "metadata": {
    "pycharm": {
     "name": "#%% md\n"
    }
   },
   "source": [
    "4.  $P(Z \\le +1,28)$"
   ]
  },
  {
   "cell_type": "markdown",
   "metadata": {
    "pycharm": {
     "name": "#%% md\n"
    }
   },
   "source": [
    "5.  $P(0,45 \\le Z \\le 0,92)$"
   ]
  },
  {
   "cell_type": "markdown",
   "metadata": {
    "pycharm": {
     "name": "#%% md\n"
    }
   },
   "source": [
    "6.  $P(-0,72 \\le Z \\le -0,38)$"
   ]
  },
  {
   "cell_type": "markdown",
   "metadata": {
    "pycharm": {
     "name": "#%% md\n"
    }
   },
   "source": [
    "---\n",
    "### Vraag 9\n",
    "\n",
    "In een klas is de gemiddelde haarlengte normaalverdeeld µ=20 cm en ơ=4.\n",
    "Wat zijn de volgende kansen?\n",
    "\n",
    "1.  De kans dat iemands haar langer is dan 28cm"
   ]
  },
  {
   "cell_type": "markdown",
   "metadata": {
    "pycharm": {
     "name": "#%% md\n"
    }
   },
   "source": [
    "2.  De kans dat iemands haar korter is dan 16cm"
   ]
  },
  {
   "cell_type": "markdown",
   "metadata": {
    "pycharm": {
     "name": "#%% md\n"
    }
   },
   "source": [
    "3.  De kans dat iemand haar een lengte heeft tussen 18cm en 22cm"
   ]
  },
  {
   "cell_type": "markdown",
   "metadata": {
    "pycharm": {
     "name": "#%% md\n"
    }
   },
   "source": [
    "---\n",
    "### Vraag 10\n",
    "We bouwen een website met een wedstrijd met verschillende vragen. De scores op de wedstrijd zijn normaal verdeeld met $\\mu=50$ en $\\sigma=5$.\n",
    "\n",
    "1.  Wat is de kans dat een aselect gekozen score op deze wedstrijd lager is dan 40?"
   ]
  },
  {
   "cell_type": "markdown",
   "metadata": {
    "pycharm": {
     "name": "#%% md\n"
    }
   },
   "source": [
    "gekozen score op deze wedstrijd tussen de 42 en 52 valt?"
   ]
  },
  {
   "cell_type": "markdown",
   "metadata": {
    "pycharm": {
     "name": "#%% md\n"
    }
   },
   "source": [
    "3.  Iedereen die een score behaalt hoger dan 58,75 krijgt een bijzondere prijs met vermelding in de krant. Als 75 mensen deelnemen, hoeveel winnen er dan een bijzondere prijs?"
   ]
  },
  {
   "cell_type": "markdown",
   "metadata": {
    "pycharm": {
     "name": "#%% md\n"
    }
   },
   "source": [
    "---\n",
    "### Vraag 11\n",
    "\n",
    "Bij een IQ-test is de verwachte waarde 100 (normaal verdeeld). In Antwerpen is de standaardafwijking 15, in Gent is deze 18.\n",
    "\n",
    "a\\) Wat is de kans dat iemand in Antwerpen een IQ heeft dat groter is dan 120?"
   ]
  },
  {
   "cell_type": "markdown",
   "metadata": {
    "pycharm": {
     "name": "#%% md\n"
    }
   },
   "source": [
    "b\\) Met welk IQ behoor je in Antwerpen tot de mensen die de 16% laagste scores hebben? hint: experimenteer tot je het vindt of gebruik de norm.ppf()-functie"
   ]
  },
  {
   "cell_type": "markdown",
   "metadata": {
    "pycharm": {
     "name": "#%% md\n"
    }
   },
   "source": [
    "c\\) Welk IQ (of meer) hebben de 5% slimste mensen in Gent? (zelfde hint)"
   ]
  },
  {
   "cell_type": "markdown",
   "metadata": {
    "pycharm": {
     "name": "#%% md\n"
    }
   },
   "source": [
    "d\\) Wat is de verhouding van Antwerpenaren en Gentenaren voor scores boven de 130?\n",
    "\n",
    "1.  1:1\n",
    "\n",
    "2.  1:2\n",
    "\n",
    "3.  1:3\n",
    "\n",
    "4.  5:6"
   ]
  },
  {
   "cell_type": "markdown",
   "metadata": {
    "collapsed": true,
    "pycharm": {
     "name": "#%% md\n"
    }
   },
   "source": [
    "---\n",
    "### Vraag 12\n",
    "\n",
    "Uit onderzoek is gebleken dat de levensduur van lampen normaal verdeeld is. Een bepaald type lampen heeft een levensduur van 500 uur, met een standaardafwijking van 100 uur. Een grootwinkelbedrijf koopt 50 000 lampen van dit type in.\n",
    "\n",
    "1.  Hoeveel van deze lampen branden langer dan 400 uur?"
   ]
  },
  {
   "cell_type": "markdown",
   "metadata": {
    "pycharm": {
     "name": "#%% md\n"
    }
   },
   "source": [
    "2.  Hoeveel van deze lampen hebben een levenduur die ligt tussen 400 en 700 uur?"
   ]
  },
  {
   "cell_type": "markdown",
   "metadata": {
    "pycharm": {
     "name": "#%% md\n"
    }
   },
   "source": [
    "3.  Hoeveel van deze lampen hebben een levenduur die onder de 600 uur ligt? Vergelijk dit resultaat met dat van vraag 1. Wat zie je? Hoe komt dit?"
   ]
  },
  {
   "cell_type": "markdown",
   "metadata": {
    "pycharm": {
     "name": "#%% md\n"
    }
   },
   "source": [
    "---\n",
    "### Vraag 13\n",
    "Bij een eenvoudige prijsvraag op de website geven 8 van de 10 mensen het juiste antwoord. Hoe groot is de kans dat ten minste 55 deelnemers uit een aselecte steekproef van 60 personen correct geantwoord hebben (2 beduidende cijfers)?"
   ]
  },
  {
   "cell_type": "markdown",
   "metadata": {
    "pycharm": {
     "name": "#%% md\n"
    }
   },
   "source": [
    "---\n",
    "### Vraag 14\n",
    "\n",
    "Een nieuwe machine maakt volledig autonoom processoren. Slechts 2 op de 5 processoren voldoen aan de kwaliteitsnorm.\n",
    "\n",
    "1.  We nemen 10 processoren gemaakt door deze machine. Wat is de kans dat er minder dan 2 goed zijn?"
   ]
  },
  {
   "cell_type": "markdown",
   "metadata": {
    "pycharm": {
     "name": "#%% md\n"
    }
   },
   "source": [
    "2.  We nemen 100 processoren gemaakt door deze machine. Wat is de kans dat er minder dan 20 goed zijn?"
   ]
  },
  {
   "cell_type": "markdown",
   "metadata": {
    "pycharm": {
     "name": "#%% md\n"
    }
   },
   "source": [
    "3.  In beide bovenstaande vragen wordt gevraagd naar minder dan 20% van het totaal aantal processoren. Welk verschil merk je? Wat kan de oorzaak zijn?"
   ]
  },
  {
   "cell_type": "markdown",
   "metadata": {
    "pycharm": {
     "name": "#%% md\n"
    }
   },
   "source": [
    "### Vraag 15\n",
    "Tijdens een laptopexamen kan er van alles mis gaan. We weten dat een computer met Windows 2% kans heeft om te crashen\n",
    "tijdens het examen. Bij Mac OSX is dat 0,2% en bij Linux is dat 0,1%. Stel dat een klas van 40 studenten examen komt afleggen.\n",
    "\n",
    "**Situatie A:** iedereen draait Windows\n",
    "\n",
    "1. Wat is het verwachte aantal crashes (ombudsdossiers ;-)) tijdens het examen?\n",
    "2. Hoeveel kans is er dat er 1 computer crasht tijdens het examen?\n",
    "3. Hoeveel kans is er dat er 2 computers crashen tijdens het examen?\n",
    "\n",
    "**Situatie B:** 10 studenten draaien Windows, 10 studenten draaien Mac OSX, en 20 draaien Linux\n",
    "1. Wat is het verwachte aantal crashes tijdens het examen?\n",
    "2. Hoeveel kans is er dat er 1 computer crasht tijdens het examen?\n",
    "3. Hoeveel kans is er dat er 2 computers crashen tijdens het examen?"
   ]
  }
 ],
 "metadata": {
  "kernelspec": {
   "display_name": "Python 3",
   "language": "python",
   "name": "python3"
  },
  "language_info": {
   "codemirror_mode": {
    "name": "ipython",
    "version": 3
   },
   "file_extension": ".py",
   "mimetype": "text/x-python",
   "name": "python",
   "nbconvert_exporter": "python",
   "pygments_lexer": "ipython3",
   "version": "3.7.3"
  }
 },
 "nbformat": 4,
 "nbformat_minor": 1
}