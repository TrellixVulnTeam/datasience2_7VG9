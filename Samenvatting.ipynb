{
 "cells": [
  {
   "cell_type": "code",
   "execution_count": 81,
   "metadata": {
    "collapsed": true
   },
   "outputs": [],
   "source": [
    "\n",
    "import numpy as np\n",
    "import math\n",
    "from scipy.stats import binom, poisson, norm\n",
    "\n",
    "getallen = [2, 12, 15, 16, 18, 22, 24, 25, 28, 29, 30, 25, 40, 42, 46]"
   ]
  },
  {
   "cell_type": "markdown",
   "source": [
    "## Basis functies\n",
    "Afronden op 2 getallen na de komma"
   ],
   "metadata": {
    "collapsed": false
   }
  },
  {
   "cell_type": "code",
   "execution_count": 82,
   "outputs": [
    {
     "name": "stdout",
     "output_type": "stream",
     "text": [
      "10.25\n"
     ]
    }
   ],
   "source": [
    "print(format(10.254874, '.4g'))\n",
    "\n"
   ],
   "metadata": {
    "collapsed": false,
    "pycharm": {
     "name": "#%%\n"
    }
   }
  },
  {
   "cell_type": "markdown",
   "source": [
    "## Centrummaten en speidingsmaten\n",
    "Gemiddele is de verwachte waarde"
   ],
   "metadata": {
    "collapsed": false
   }
  },
  {
   "cell_type": "code",
   "execution_count": 83,
   "outputs": [
    {
     "name": "stdout",
     "output_type": "stream",
     "text": [
      "24.933333333333334\n"
     ]
    }
   ],
   "source": [
    "print(np.mean(getallen))"
   ],
   "metadata": {
    "collapsed": false,
    "pycharm": {
     "name": "#%%\n"
    }
   }
  },
  {
   "cell_type": "markdown",
   "source": [
    "Standaard afwijking is hoeveel afwijking er is op de verwachte waarden"
   ],
   "metadata": {
    "collapsed": false
   }
  },
  {
   "cell_type": "code",
   "execution_count": 84,
   "outputs": [
    {
     "name": "stdout",
     "output_type": "stream",
     "text": [
      "11.38107591086576\n"
     ]
    }
   ],
   "source": [
    "print(np.std(getallen))\n",
    "\n",
    "\n",
    "\n"
   ],
   "metadata": {
    "collapsed": false,
    "pycharm": {
     "name": "#%%\n"
    }
   }
  },
  {
   "cell_type": "markdown",
   "source": [
    "## Kansverdelingen\n",
    "\n",
    "Wat is een kansverdeling?\n",
    "* doe een theoretische oneindige steekproef\n",
    "* bepaal de relatieve frequenties van iedere waarde\n",
    "* deze tabel noemen we \"kansverdeling\"\n",
    "\n",
    "\n",
    "\n",
    "Voorbeeld: gooi met 2 dobbelstenen"
   ],
   "metadata": {
    "collapsed": false
   }
  },
  {
   "cell_type": "code",
   "execution_count": 85,
   "outputs": [
    {
     "name": "stdout",
     "output_type": "stream",
     "text": [
      "      worp  som\n",
      "1   (1, 1)    2\n",
      "2   (1, 2)    3\n",
      "3   (1, 3)    4\n",
      "4   (1, 4)    5\n",
      "5   (1, 5)    6\n",
      "6   (1, 6)    7\n",
      "7   (2, 1)    3\n",
      "8   (2, 2)    4\n",
      "9   (2, 3)    5\n",
      "10  (2, 4)    6\n",
      "11  (2, 5)    7\n",
      "12  (2, 6)    8\n",
      "13  (3, 1)    4\n",
      "14  (3, 2)    5\n",
      "15  (3, 3)    6\n",
      "16  (3, 4)    7\n",
      "17  (3, 5)    8\n",
      "18  (3, 6)    9\n",
      "19  (4, 1)    5\n",
      "20  (4, 2)    6\n",
      "21  (4, 3)    7\n",
      "22  (4, 4)    8\n",
      "23  (4, 5)    9\n",
      "24  (4, 6)   10\n",
      "25  (5, 1)    6\n",
      "26  (5, 2)    7\n",
      "27  (5, 3)    8\n",
      "28  (5, 4)    9\n",
      "29  (5, 5)   10\n",
      "30  (5, 6)   11\n",
      "31  (6, 1)    7\n",
      "32  (6, 2)    8\n",
      "33  (6, 3)    9\n",
      "34  (6, 4)   10\n",
      "35  (6, 5)   11\n",
      "36  (6, 6)   12\n",
      "\n",
      "Kans op minder dan 4 ogen: 8.3%\n",
      "Kans op meer dan 4 ogen: 91.7% \n",
      "\n",
      "Waarden van de mogelijke uitkomsten\n",
      "2, 3, 4, 5, 6, 7, 8, 9, 10, 11, 12, \n",
      "\n",
      "De kansen voor elke mogelijke worp\n",
      "0.027777777777777776\n",
      "0.05555555555555555\n",
      "0.08333333333333333\n",
      "0.1111111111111111\n",
      "0.1388888888888889\n",
      "0.16666666666666666\n",
      "0.1388888888888889\n",
      "0.1111111111111111\n",
      "0.08333333333333333\n",
      "0.05555555555555555\n",
      "0.027777777777777776\n",
      "\n",
      "Mu is de verwachte waarde\n",
      "6.999999999999998\n",
      "\n",
      "Sigma is afwijking van de verwachte waarde\n",
      "2.41522945769824\n"
     ]
    },
    {
     "data": {
      "text/plain": "<Figure size 432x288 with 1 Axes>",
      "image/png": "[encoded data removed]"
     },
     "metadata": {
      "needs_background": "light"
     },
     "output_type": "display_data"
    }
   ],
   "source": [
    "import numpy as np\n",
    "import pandas as pd\n",
    "import matplotlib.pyplot as plt\n",
    "\n",
    "dobbelstenen = pd.DataFrame([((d1, d2), d1 + d2) for d1 in range(1, 7) for d2 in range(1, 7)],\n",
    "                            columns=['worp', 'som'],\n",
    "                            index=[i for i in range(1, 37)])\n",
    "\n",
    "print(dobbelstenen)\n",
    "\n",
    "# Kans op minder dan = de kans op een 1 OF een 2 OF en 3\n",
    "minder_dan_vier_ogen = len(dobbelstenen.query('som < 4')) / len(dobbelstenen) * 100\n",
    "meer_dan_vier_ogen = (1 - len(dobbelstenen.query('som < 4')) / len(dobbelstenen)) * 100\n",
    "print()\n",
    "print(\"Kans op minder dan 4 ogen: %.1f\" % minder_dan_vier_ogen + \"%\")\n",
    "print(\"Kans op meer dan 4 ogen: %.1f\" % meer_dan_vier_ogen + \"% \\n\")\n",
    "\n",
    "waarde = range(2, 13)\n",
    "print(\"Waarden van de mogelijke uitkomsten\")\n",
    "for i in waarde:print(i, end=', ')\n",
    "print()\n",
    "\n",
    "kans = pd.Series([1, 2, 3, 4, 5, 6, 5, 4, 3, 2, 1]) / 36.0\n",
    "print()\n",
    "print(\"De kansen voor elke mogelijke worp\")\n",
    "for i in kans:print(i)\n",
    "print()\n",
    "\n",
    "plt.figure()\n",
    "plt.bar(waarde, kans)\n",
    "plt.xlabel(\"som van de  Dobbelstenen\")\n",
    "plt.ylabel(\"kans om som te  gooien\")\n",
    "plt.show()\n",
    "\n",
    "mu = (waarde * kans).sum()\n",
    "print(\"Mu is de verwachte waarde\")\n",
    "print(mu)\n",
    "print()\n",
    "\n",
    "sigma = np.sqrt(((waarde - mu) ** 2 * kans).sum())\n",
    "print(\"Sigma is afwijking van de verwachte waarde\")\n",
    "print(sigma)"
   ],
   "metadata": {
    "collapsed": false,
    "pycharm": {
     "name": "#%%\n"
    }
   }
  },
  {
   "cell_type": "markdown",
   "source": [
    "\n",
    "## Binomiaalverdeling\n",
    " Gebruiken als we willen weten wat de kans is op een success of geen success een aantal keer achter elkaar.\n",
    " $\\binom{n}{k}$\n",
    "\n",
    "### Voorwaarden\n",
    " * je doet een experiment een aantal keer achter elkaar.\n",
    " * de uitkomst van het experiment beïnvloedt het resultaat van het volgende experiment niet.\n",
    " * de uitkomst van het experiment kan slechts 2 mogelijke waarden opleveren.\n",
    " * je weet wat de kans is om de 2 waarden te verkrijgen als je het experiment 1 keer uitvoert.\n",
    " * je vraagt je af wat de kans is dat je een aantal keren een bepaalde waarde verkrijgt.\n",
    "\n",
    "### Eigenschappen\n",
    "N = aantal keer dat het experiment plaats vindt\n",
    "<pre>bv. 6 keer een rood licht, 10 stundenten, 5 vragen</pre>\n",
    "K = aantal keer dat je een succes of geen success wil.\n",
    "<pre>bv. hoeveel keer kop, hoeveel vragen juist</pre>\n",
    "P = de kans op de gebeurtenis.\n",
    "    <pre>bv. 1/2 0.50</pre>\n",
    "\n",
    "### Sigma & Mu\n",
    "σ = $\\sqrt{n.p()1-p)}$\n",
    "    <pre>De standaard afwijking</pre>\n",
    "µ = n.p\n",
    "    <pre>Het verwachte gemiddelde</pre>\n",
    "\n",
    "#### Functies\n",
    "```python\n",
    "stats.binom.pmf(k=2,n=4,p=2/6) Kans op een succes.\n",
    "```\n",
    "\n",
    "```python\n",
    "1 - stats.binom.pmf(k=2,n=4,p=2/6) Kans op geen sucess.\n",
    "```\n",
    "\n",
    "```python\n",
    "stats.binom.cmf(k=2,n=4,p=2/6) Kans op x aantal keer of minder.\n",
    "```\n",
    "\n",
    "```python\n",
    "1 - stats.binom.cmf(k=2,n=4,p=2/6) Kans op x aantal keer of meer.\n",
    "```\n",
    "\n",
    "## Possionverdeling\n",
    "De kans dat de gebeurtenis zich K keer voordoet in een bepaalde tijdspanne.\n",
    "\n",
    "### Voorwaarden\n",
    "* een bepaalde gebeurtenis doet zich gemiddeld een aantal keer voor per tijdseenheid, maar\n",
    "er zit variatie op\n",
    "* we vragen ons af wat de kans is dat deze gebeurtenis zich een aantal keer zal voordoen\n",
    "binnen een bepaalde tijd\n",
    "\n",
    "### Eigenschappen\n",
    "K = de kans dat de gebeurtenis zich een aantal keer zal voordoen binnen een bepaalde tijd\n",
    "<pre>bv. de kans dat er meer dan 10 oproepen per uur zouden binnen komen</pre>\n",
    "\n",
    "α(mu) = gemiddeld aantal keer dat een gebeurtenis zicht voordoet\n",
    "<pre>bv. op een help-desk komen er gemiddeld 3 oproepen per uur binnen</pre>\n",
    "\n",
    "\n",
    "### Sigma & Mu\n",
    "σ = $\\sqrt{α}$\n",
    "    <pre>De standaard afwijking</pre>\n",
    "µ = reed gekent\n",
    "    <pre>Het verwachte gemiddelde</pre>\n",
    "\n",
    "#### Functies\n",
    "```python\n",
    "stats.poisson.pmf(10, 3) Kans dat er 10 oproepen binnen komen als we er gemiddeld 3 krijgen\n",
    "```\n",
    "\n",
    "```python\n",
    "1 - stats.poisson.pmf(10, 3) Kans dat er geen 10 oproepen binnen komen als we er gemiddeld 3 krijgen\n",
    "```\n",
    "\n",
    "```python\n",
    "stats.poisson.cdf(10, 3) Kans op minder dan 10 oproepen als we er gemiddeld 3 krijgen\n",
    "```\n",
    "```python\n",
    "1 - stats.poisson.cdf(10, 3) Kans op meer dan 10 oproepen als we er gemiddeld 3 krijgen\n",
    "```\n",
    "#### inverse cumulatieve verdeling\n",
    "```python\n",
    "stats.poisson.ppf(0.95, 3) hoeveel mensen we in dienst  hebben om 95% van\n",
    "de tijd de klanten te kunnen helpen\n",
    "```\n",
    "\n",
    "## Normaal verdeling\n",
    "Is een continue kansverdeling met twee parameters, de verwachtingswaarde µ en de standaardafwijking\n",
    "σ waarvan een kansdichtheid wordt terug gegeven die zich tussen een bepaalde waarde bevindt.\n",
    "\n",
    "### Voorwaarden\n",
    "* je beschouwt een continue variabele\n",
    "* je kent de waarden van de verwachte waarde (gemiddelde) en de standaardafwijking\n",
    "* de waarden zijn symmetrisch verdeeld rond de verwachte waarde\n",
    "* je vraagt je af wat de kans is dat een gemeten waarde tussen twee grenzen ligt\n",
    "\n",
    "### Eigenschappen\n",
    "µ(mu) = de gemiddelde waarden die we verwachten\n",
    "<pre>bv. een lengte van 180cm</pre>\n",
    "\n",
    "σ(sigma) = de standaard afwijking\n",
    "<pre>bv. een lengte van 10cm</pre>\n",
    "\n",
    "We afvragen ons af wat de kans is dat een student\n",
    "tussen de 175cm en 180cm groot is.\n",
    "\n",
    "#### Functies\n",
    "```python\n",
    "stats.norm.pdf(x=150, loc=180, scale=10) Kans dat er iemand een lengte heeft van 150\n",
    "```\n",
    "```python\n",
    "stats.norm.cdf = kans op minder dan\n",
    "```\n",
    "```python\n",
    "1 - stats.norm.cdf = kans op meer dan\n",
    "```\n",
    "\n",
    "```python\n",
    "format(stats.norm.cdf(x=52,loc=50,scale=5)-norm.cdf(x=42,loc=-50,scale=5),'.4g')\n",
    "#tussen de 42 en 52 valt?\n",
    "```\n",
    "\n",
    "```python\n",
    "format(stats.norm.cdf(x=52,loc=50,scale=5)-norm.cdf(x=42,loc=-50,scale=5),'.4g')\n",
    "#tussen de 42 en 52 valt?\n",
    "```\n",
    "\n",
    "```python\n",
    "print(format(stats.norm.ppf(q=0.16, loc=100, scale=15),'.4g'))\n",
    "#q = omzetten in aantallen (inverse van cdf functie)\n",
    "```\n",
    "\n",
    "\n",
    "\n",
    "\n",
    "\n",
    "\n",
    "\n",
    "\n",
    "\n",
    "\n",
    "\n",
    "\n",
    "\n",
    "\n",
    "\n",
    "\n",
    "\n",
    "\n",
    "\n",
    "\n",
    "\n"
   ],
   "metadata": {
    "collapsed": false,
    "pycharm": {
     "name": "#%% md\n"
    }
   }
  }
 ],
 "metadata": {
  "kernelspec": {
   "display_name": "Python 3",
   "language": "python",
   "name": "python3"
  },
  "language_info": {
   "codemirror_mode": {
    "name": "ipython",
    "version": 2
   },
   "file_extension": ".py",
   "mimetype": "text/x-python",
   "name": "python",
   "nbconvert_exporter": "python",
   "pygments_lexer": "ipython2",
   "version": "2.7.6"
  }
 },
 "nbformat": 4,
 "nbformat_minor": 0
}