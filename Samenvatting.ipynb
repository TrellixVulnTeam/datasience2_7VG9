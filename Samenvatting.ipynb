{
 "cells": [
  {
   "cell_type": "code",
   "execution_count": null,
   "outputs": [],
   "source": [
    "\n",
    "import numpy as np\n",
    "import math\n",
    "from scipy.stats import binom, poisson, norm\n",
    "\n",
    "getallen = [2, 12, 15, 16, 18, 22, 24, 25, 28, 29, 30, 25, 40, 42, 46]"
   ],
   "metadata": {
    "collapsed": false,
    "pycharm": {
     "name": "#%%\n"
    }
   }
  },
  {
   "cell_type": "markdown",
   "source": [
    "## Basis functies\n",
    "Afronden op 2 getallen na de komma"
   ],
   "metadata": {
    "collapsed": false
   }
  },
  {
   "cell_type": "code",
   "execution_count": null,
   "outputs": [],
   "source": [
    "print(format(10.254874, '.4g'))"
   ],
   "metadata": {
    "collapsed": false,
    "pycharm": {
     "name": "#%%\n"
    }
   }
  },
  {
   "cell_type": "markdown",
   "source": [
    "## Centrummaten en speidingsmaten\n",
    "Gemiddele is de verwachte waarde"
   ],
   "metadata": {
    "collapsed": false
   }
  },
  {
   "cell_type": "code",
   "execution_count": null,
   "outputs": [],
   "source": [
    "print(np.mean(getallen))"
   ],
   "metadata": {
    "collapsed": false,
    "pycharm": {
     "name": "#%%\n"
    }
   }
  },
  {
   "cell_type": "markdown",
   "source": [
    "Standaard afwijking is hoeveel afwijking er is op de verwachte waarden"
   ],
   "metadata": {
    "collapsed": false
   }
  },
  {
   "cell_type": "code",
   "execution_count": null,
   "outputs": [],
   "source": [
    "print(np.std(getallen))"
   ],
   "metadata": {
    "collapsed": false,
    "pycharm": {
     "name": "#%%\n"
    }
   }
  },
  {
   "cell_type": "markdown",
   "source": [
    "# 1. Kansbegrippen"
   ],
   "metadata": {
    "collapsed": false
   }
  },
  {
   "cell_type": "markdown",
   "source": [
    "## Formule van Laplace\n",
    "Als de elementaire gebeurtenissen $E_i$ evenveel kans (ze zijn [uniform verdeeld](https://nl.wikipedia.org/wiki/Uniforme_verdeling_(discreet))) hebben om op te treden kan je deze formule gebruiken om de kans te berekenen op gebeurtenis $G=\\{E_1,E_2, \\dots, E_n\\}$\n",
    "\n",
    "$$P(G) = \\frac{\\#G}{\\#U}$$\n",
    "\n",
    "In het algemene geval moet je het aantal elementen tellen in de verzameling G."
   ],
   "metadata": {
    "collapsed": false
   }
  },
  {
   "cell_type": "markdown",
   "source": [
    "### Werpen van 2 dobbelstenen simuleren\n",
    "We maken een dataframe met twee kolommen: een tuple met de waarde van de ogen, en som van het totaal aantal ogen. Met dit dataframe kunnen we enkele kansen berekenen."
   ],
   "metadata": {
    "collapsed": false
   }
  },
  {
   "cell_type": "code",
   "execution_count": 1,
   "outputs": [
    {
     "data": {
      "text/plain": "     worp  som\n1  (1, 1)    2\n2  (1, 2)    3\n3  (1, 3)    4\n4  (1, 4)    5\n5  (1, 5)    6",
      "text/html": "<div>\n<style scoped>\n    .dataframe tbody tr th:only-of-type {\n        vertical-align: middle;\n    }\n\n    .dataframe tbody tr th {\n        vertical-align: top;\n    }\n\n    .dataframe thead th {\n        text-align: right;\n    }\n</style>\n<table border=\"1\" class=\"dataframe\">\n  <thead>\n    <tr style=\"text-align: right;\">\n      <th></th>\n      <th>worp</th>\n      <th>som</th>\n    </tr>\n  </thead>\n  <tbody>\n    <tr>\n      <th>1</th>\n      <td>(1, 1)</td>\n      <td>2</td>\n    </tr>\n    <tr>\n      <th>2</th>\n      <td>(1, 2)</td>\n      <td>3</td>\n    </tr>\n    <tr>\n      <th>3</th>\n      <td>(1, 3)</td>\n      <td>4</td>\n    </tr>\n    <tr>\n      <th>4</th>\n      <td>(1, 4)</td>\n      <td>5</td>\n    </tr>\n    <tr>\n      <th>5</th>\n      <td>(1, 5)</td>\n      <td>6</td>\n    </tr>\n  </tbody>\n</table>\n</div>"
     },
     "execution_count": 1,
     "metadata": {},
     "output_type": "execute_result"
    }
   ],
   "source": [
    "import numpy as np\n",
    "import pandas as pd\n",
    "\n",
    "dobbelstenen = pd.DataFrame([((d1, d2), d1+d2) for d1 in range(1,7) for d2 in range(1,7)],\n",
    "                            columns=['worp','som'],\n",
    "                            index = [i for i in range(1,37)])\n",
    "dobbelstenen.head()"
   ],
   "metadata": {
    "collapsed": false,
    "pycharm": {
     "name": "#%%\n"
    }
   }
  },
  {
   "cell_type": "markdown",
   "source": [
    "Bereken de kans op gebeurtenis $G$, de som van de ogen van twee dobbelstenen tenminste 4 is. We doen dit op twee manieren:\n",
    "* formule van Laplace\n",
    "* $1 - \\bar{G}$"
   ],
   "metadata": {
    "collapsed": false
   }
  },
  {
   "cell_type": "code",
   "execution_count": 2,
   "outputs": [
    {
     "name": "stdout",
     "output_type": "stream",
     "text": [
      "0.9166666666666666\n",
      "0.9166666666666666\n"
     ]
    }
   ],
   "source": [
    "print(len(dobbelstenen.query('som >= 4')) / len(dobbelstenen))\n",
    "print(1 - len(dobbelstenen.query('som < 4')) / len(dobbelstenen))"
   ],
   "metadata": {
    "collapsed": false,
    "pycharm": {
     "name": "#%%\n"
    }
   }
  },
  {
   "cell_type": "markdown",
   "source": [
    "### Kansmodel\n",
    "We kunnen ook alle combinaties berekenen die bij een bepaalde som horen."
   ],
   "metadata": {
    "collapsed": false
   }
  },
  {
   "cell_type": "code",
   "execution_count": 3,
   "outputs": [
    {
     "data": {
      "text/plain": "som\n2                                             [(1, 1)]\n3                                     [(1, 2), (2, 1)]\n4                             [(1, 3), (2, 2), (3, 1)]\n5                     [(1, 4), (2, 3), (3, 2), (4, 1)]\n6             [(1, 5), (2, 4), (3, 3), (4, 2), (5, 1)]\n7     [(1, 6), (2, 5), (3, 4), (4, 3), (5, 2), (6, 1)]\n8             [(2, 6), (3, 5), (4, 4), (5, 3), (6, 2)]\n9                     [(3, 6), (4, 5), (5, 4), (6, 3)]\n10                            [(4, 6), (5, 5), (6, 4)]\n11                                    [(5, 6), (6, 5)]\n12                                            [(6, 6)]\nName: worp, dtype: object"
     },
     "execution_count": 3,
     "metadata": {},
     "output_type": "execute_result"
    }
   ],
   "source": [
    "dobbelstenen.groupby(by=['som'])['worp'].apply(list)"
   ],
   "metadata": {
    "collapsed": false,
    "pycharm": {
     "name": "#%%\n"
    }
   }
  },
  {
   "cell_type": "markdown",
   "source": [
    "### Een boek kaarten maken"
   ],
   "metadata": {
    "collapsed": false
   }
  },
  {
   "cell_type": "code",
   "execution_count": null,
   "outputs": [],
   "source": [
    "# kleuren en waarden definiëren\n",
    "kleuren = np.array(['Harten','Ruiten','Schoppen','Klaveren'])\n",
    "nummers = np.arange(2,11).astype('str')\n",
    "waarden = np.concatenate((['Aas'], nummers, ['Boer','Dame','Heer']))\n",
    "combinaties = np.stack(np.meshgrid(kleuren, waarden), -1).reshape(-1, 2)\n",
    "boek = pd.DataFrame(combinaties, columns=['kleur','waarde'], index=range(1,combinaties.shape[0]+1))\n",
    "boek.head()"
   ],
   "metadata": {
    "collapsed": false,
    "pycharm": {
     "name": "#%%\n"
    }
   }
  },
  {
   "cell_type": "code",
   "execution_count": null,
   "outputs": [],
   "source": [
    "boek.query(\"kleur == 'Harten'\")['kleur'].size\n",
    "len(boek.query(\"kleur == 'Harten'\"))"
   ],
   "metadata": {
    "collapsed": false,
    "pycharm": {
     "name": "#%%\n"
    }
   }
  },
  {
   "cell_type": "markdown",
   "source": [
    "* $P(K=Aas)$\n",
    "* $P(K=4)$"
   ],
   "metadata": {
    "collapsed": false
   }
  },
  {
   "cell_type": "code",
   "execution_count": null,
   "outputs": [],
   "source": [
    "n = len(boek) # aantal elementen in de uitkomstenverzameling U\n",
    "display('Aantal elementen in uitkomstenverzameling is {}'.format(n))\n",
    "display('Kans op een Aas is {:.3f}'.format(len(boek.query(\"waarde in ['Aas']\")) / n))\n",
    "display('Kans op een 4 is {:.3f}'.format(len(boek.query(\"waarde in ['4']\")) / n))\n",
    "display('Kans op een Aas of een 4 is {:.3f}'.format(len(boek.query(\"waarde == '4' or waarde == 'Aas'\")) / n))"
   ],
   "metadata": {
    "collapsed": false,
    "pycharm": {
     "name": "#%%\n"
    }
   }
  },
  {
   "cell_type": "markdown",
   "source": [
    "## Relaties met frequenties\n",
    "Een kansmodel is een theoretisch model voor een bepaalde probleem. We kunnen dat probleem ook herhaaldelijk uitvoeren en dan tellen hoe vaak bepaalde elementaire gebeurtenissen optreden. Na een oneindig aantal experimenten komen we dezelfde kansen uit als die van het kansmodel.\n",
    "\n",
    "Hieronder simuleren we 1000 worpen met 2 dobbelstenen."
   ],
   "metadata": {
    "collapsed": false
   }
  },
  {
   "cell_type": "code",
   "execution_count": null,
   "outputs": [],
   "source": [
    "d1 = np.random.choice(range(1,7),1000)\n",
    "d2 = np.random.choice(range(1,7),1000)\n",
    "ax = pd.Series(d1 + d2).value_counts(normalize=True, sort=False).plot.bar()\n",
    "ax.grid(linestyle='--', axis='y')"
   ],
   "metadata": {
    "collapsed": false,
    "pycharm": {
     "name": "#%%\n"
    }
   }
  },
  {
   "cell_type": "code",
   "execution_count": null,
   "outputs": [],
   "source": [
    "dobbelstenen.som.to_numpy().reshape(6,-1)"
   ],
   "metadata": {
    "collapsed": false,
    "pycharm": {
     "name": "#%%\n"
    }
   }
  },
  {
   "cell_type": "markdown",
   "source": [
    "## Somregel\n",
    "$P(A \\cup B) = P(A) + P(B) - P(A \\cap B)$"
   ],
   "metadata": {
    "collapsed": false
   }
  },
  {
   "cell_type": "markdown",
   "source": [
    "#### Voorbeeld 1 - lege doorsnede\n",
    "$P(K=Aas~of~K=4) = P(K=Aas) + P(K=4) - P(K=Aas~en~K=4)$\n",
    "$\\phantom{P(K=Aas~of~K=4)} = \\frac{4}{52} + \\frac{4}{52} - \\frac{0}{52}$\n"
   ],
   "metadata": {
    "collapsed": false
   }
  },
  {
   "cell_type": "code",
   "execution_count": null,
   "outputs": [],
   "source": [
    "print('Aantal azen: {}'.format(len(boek.query(\"waarde == 'Aas'\"))))\n",
    "print('Aantal vieren: {}'.format(len(boek.query(\"waarde == '4'\"))))\n",
    "print('Aantal kaarten die Aas en een 4 is {}'.format(len(boek.query(\"waarde == '4' and waarde == 'Aas'\"))))"
   ],
   "metadata": {
    "collapsed": false,
    "pycharm": {
     "name": "#%%\n"
    }
   }
  },
  {
   "cell_type": "markdown",
   "source": [
    "#### Voorbeeld 2 - geen lege doorsnede\n",
    "$P(K=Harten~of~K=Aas) = P(K=Harten) + P(K=Aas) - P(K=Aas~en~K=4)$\n",
    "$\\phantom{P(K=Harten~of~K=Aas)} = \\frac{13}{52} + \\frac{4}{52} - \\frac{1}{52}$"
   ],
   "metadata": {
    "collapsed": false
   }
  },
  {
   "cell_type": "code",
   "execution_count": null,
   "outputs": [],
   "source": [
    "azen = boek.query(\"waarde == 'Aas'\")\n",
    "harten = boek.query(\"kleur == 'Harten'\")\n",
    "hartenaas = boek.query(\"kleur == 'Harten' and waarde == 'Aas'\")\n",
    "print(harten.append(azen).shape)\n",
    "print(harten.append(azen).drop_duplicates().shape)"
   ],
   "metadata": {
    "collapsed": false,
    "pycharm": {
     "name": "#%%\n"
    }
   }
  },
  {
   "cell_type": "markdown",
   "source": [
    "## Productregel\n",
    "Zie png voor voorbeelden\n"
   ],
   "metadata": {
    "collapsed": false
   }
  },
  {
   "cell_type": "markdown",
   "source": [
    "## Wet van totale kans\n",
    "Zie png voor voorbeelden"
   ],
   "metadata": {
    "collapsed": false
   }
  },
  {
   "cell_type": "markdown",
   "source": [
    "## Wet van Bayes"
   ],
   "metadata": {
    "collapsed": false
   }
  },
  {
   "cell_type": "markdown",
   "source": [
    "### Vraag 10\n",
    "Als het hard regent (R=1), is er 50% kans dat mijn kelder onderloopt (O=1).  Het regent gemiddeld 35 dagen/jaar hard en mijn kelder loopt 20 dagen per jaar onder water (dus ook soms als het niet hard regent).\n",
    "Als mijn kelder ondergelopen is (gegeven dat O=1), wat is dan de kans dat dit komt doordat het hard regent (R=1)?"
   ],
   "metadata": {
    "collapsed": false
   }
  },
  {
   "cell_type": "markdown",
   "source": [
    "<u>Toevalsveranderlijken</u>\n",
    "\n",
    "Ze zijn discreet omdat ze maar een beperkt aantal waarden kunnen aannemen.\n",
    "\n",
    "* $R=\\{0,1\\}$\n",
    "\n",
    "* $O=\\{0,1\\}$\n",
    "\n",
    "<u>Priorkansen</u>\n",
    "\n",
    "$P(R) = [\\frac{330}{365},\\frac{35}{365}]$\n",
    "\n",
    "$P(O) = [\\frac{345}{365},\\frac{20}{365}]$\n",
    "\n",
    "<u>Voorwaardelijke kansen</u>\n",
    "\n",
    "$P(O=1 \\mid R=1) = 0.5$"
   ],
   "metadata": {
    "collapsed": false
   }
  },
  {
   "cell_type": "markdown",
   "source": [
    "$P(R=1 \\mid O=1) = \\frac{P(O=1 \\mid R=1) \\cdot P(R=1)}{P(O=1)}$\n",
    "\n",
    "$\\phantom{P(R=1 \\mid O=1)}= 0.5 \\cdot \\frac{\\frac{35}{365}}{\\frac{20}{365}}$\n",
    "\n",
    "$\\phantom{P(R=1 \\mid O=1)}= 0.875$\n",
    "\n",
    "\n"
   ],
   "metadata": {
    "collapsed": false
   }
  },
  {
   "cell_type": "markdown",
   "source": [
    "# 2. Kansverdelingen\n",
    "## Toevalsveranderlijken"
   ],
   "metadata": {
    "collapsed": false
   }
  },
  {
   "cell_type": "code",
   "execution_count": 10,
   "outputs": [],
   "source": [
    "def X(teerling: str):\n",
    "  stippen = {\n",
    "        'een': 1,\n",
    "        'twee': 2,\n",
    "        'drie': 3,\n",
    "        'vier': 4,\n",
    "        'vijf': 5,\n",
    "        'zes': 6\n",
    "        }\n",
    "  return stippen[teerling]\n",
    "\n",
    "def Y(teerling1: str, teerling2: str):\n",
    "    stippen = {\n",
    "        'een': 1,\n",
    "        'twee': 2,\n",
    "        'drie': 3,\n",
    "        'vier': 4,\n",
    "        'vijf': 5,\n",
    "        'zes': 6\n",
    "        }\n",
    "    return stippen[teerling1] + stippen[teerling2]"
   ],
   "metadata": {
    "collapsed": false,
    "pycharm": {
     "name": "#%%\n"
    }
   }
  },
  {
   "cell_type": "code",
   "execution_count": 9,
   "outputs": [
    {
     "name": "stdout",
     "output_type": "stream",
     "text": [
      "2\n",
      "8\n"
     ]
    }
   ],
   "source": [
    "print(X('twee'))\n",
    "print(Y('drie','vijf'))"
   ],
   "metadata": {
    "collapsed": false,
    "pycharm": {
     "name": "#%%\n"
    }
   }
  },
  {
   "cell_type": "markdown",
   "source": [
    "## Eenvoudige kansverdeling"
   ],
   "metadata": {
    "collapsed": false
   }
  },
  {
   "cell_type": "markdown",
   "source": [
    "### Worp van een dobbelsteen\n",
    "*X = \"Aantal ogen op de bovenzijde van een dobbelsteen\"*\n"
   ],
   "metadata": {
    "collapsed": false
   }
  },
  {
   "cell_type": "code",
   "execution_count": 11,
   "outputs": [
    {
     "name": "stdout",
     "output_type": "stream",
     "text": [
      "0.16666666666666666\n"
     ]
    }
   ],
   "source": [
    "def P(waarde : int):\n",
    "  kansmodel = {\n",
    "        1: 1/6,\n",
    "        2: 1/6,\n",
    "        3: 1/6,\n",
    "        4: 1/6,\n",
    "        5: 1/6,\n",
    "        6: 1/6\n",
    "        }\n",
    "  return kansmodel.get(waarde, 0)\n",
    "\n",
    "print(P(X('twee')))"
   ],
   "metadata": {
    "collapsed": false,
    "pycharm": {
     "name": "#%%\n"
    }
   }
  },
  {
   "cell_type": "markdown",
   "source": [
    "### Som aantal ogen van twee dobbelstenen\n",
    "*X = \"Som van de ogen van 2 dobbelstenen\"*\n"
   ],
   "metadata": {
    "collapsed": false
   }
  },
  {
   "cell_type": "markdown",
   "source": [
    "Experimenteel gevonden verdeling"
   ],
   "metadata": {
    "collapsed": false
   }
  },
  {
   "cell_type": "code",
   "execution_count": 12,
   "outputs": [
    {
     "data": {
      "text/plain": "<Figure size 432x288 with 1 Axes>",
      "image/png": "[encoded data removed]"
     },
     "metadata": {
      "needs_background": "light"
     },
     "output_type": "display_data"
    }
   ],
   "source": [
    "d1 = np.random.choice(range(1,7),1000)\n",
    "d2 = np.random.choice(range(1,7),1000)\n",
    "ax = pd.Series(d1 + d2).value_counts(normalize=True, sort=False).plot.bar()"
   ],
   "metadata": {
    "collapsed": false,
    "pycharm": {
     "name": "#%%\n"
    }
   }
  },
  {
   "cell_type": "markdown",
   "source": [
    "Theoretische verdeling"
   ],
   "metadata": {
    "collapsed": false
   }
  },
  {
   "cell_type": "code",
   "execution_count": 21,
   "outputs": [
    {
     "data": {
      "text/plain": "<Figure size 432x432 with 1 Axes>",
      "image/png": "[encoded data removed]"
     },
     "metadata": {
      "needs_background": "light"
     },
     "output_type": "display_data"
    }
   ],
   "source": [
    "frequenties = dobbelstenen['som'].value_counts()\n",
    "\n",
    "import matplotlib.pyplot as plt\n",
    "fig, ax = plt.subplots(1,1, figsize=(6,6))\n",
    "ax.bar(frequenties.index, frequenties.values)\n",
    "ax.set_xlabel('som vd ogen')\n",
    "ax.set_ylabel('frequentie')\n",
    "ax.set_facecolor('lightgrey')\n",
    "_ = ax.set_xticks(range(2,13))"
   ],
   "metadata": {
    "collapsed": false,
    "pycharm": {
     "name": "#%%\n"
    }
   }
  },
  {
   "cell_type": "markdown",
   "source": [
    "### Kansspelletje\n",
    "*X = \"10€ voor gooien van een 6, -1€ voor andere waarde\"*\n"
   ],
   "metadata": {
    "collapsed": false
   }
  },
  {
   "cell_type": "code",
   "execution_count": 23,
   "outputs": [
    {
     "data": {
      "text/plain": "array([-1, -1, 10, -1, -1, -1, -1, -1, -1, -1, 10, -1, -1, -1, 10, -1, -1,\n       -1, -1, -1, -1, -1, -1, -1, 10, -1, -1, -1, -1, -1, -1, -1, -1, 10,\n       -1, -1, -1, -1, -1, -1, -1, -1, -1, -1, -1, -1, -1, -1, 10, -1, -1,\n       -1, -1, -1, -1, -1, -1, -1, -1, -1, -1, -1, -1, -1, -1, -1, -1, -1,\n       -1, -1, 10, -1, -1, 10, -1, -1, 10, -1, 10, -1, -1, 10, 10, 10, -1,\n       10, -1, -1, -1, 10, -1, -1, -1, -1, -1, -1, -1, -1, -1, -1])"
     },
     "metadata": {},
     "output_type": "display_data"
    },
    {
     "data": {
      "text/plain": "-1     0.85\n 10    0.15\ndtype: float64"
     },
     "execution_count": 23,
     "metadata": {},
     "output_type": "execute_result"
    }
   ],
   "source": [
    "import numpy as np\n",
    "x = [-1]*5 + [10]\n",
    "uniformkansmodel = [1/6] * 6\n",
    "experiment = pd.Series(np.random.choice(x, size=100, replace=True, p=uniformkansmodel))\n",
    "display(experiment.to_numpy())\n",
    "experiment.value_counts(normalize=True)"
   ],
   "metadata": {
    "collapsed": false,
    "pycharm": {
     "name": "#%%\n"
    }
   }
  },
  {
   "cell_type": "markdown",
   "source": [
    "## Binomiale kansverdeling\n",
    " Gebruiken als we willen weten wat de kans is op een success of geen success een aantal keer achter elkaar.\n",
    " $\\binom{n}{k}$\n",
    "\n",
    "### Voorwaarden\n",
    " * je doet een experiment een aantal keer achter elkaar.\n",
    " * de uitkomst van het experiment beïnvloedt het resultaat van het volgende experiment niet.\n",
    " * de uitkomst van het experiment kan slechts 2 mogelijke waarden opleveren.\n",
    " * je weet wat de kans is om de 2 waarden te verkrijgen als je het experiment 1 keer uitvoert.\n",
    " * je vraagt je af wat de kans is dat je een aantal keren een bepaalde waarde verkrijgt.\n",
    "\n",
    "### Eigenschappen\n",
    "N = aantal keer dat het experiment plaats vindt\n",
    "<br>\n",
    "bv. 6 keer een rood licht, 10 stundenten, 5 vragen\n",
    "\n",
    "<br>\n",
    "K = aantal keer dat je een succes of geen success wil.\n",
    "<br>bv. hoeveel keer kop, hoeveel vragen juist\n",
    "<br>\n",
    "\n",
    "<br>\n",
    "P = de kans op de gebeurtenis.\n",
    "<br>bv. 1/2 0.50\n",
    "\n",
    "### Sigma & Mu\n",
    "**De standaard afwijking**\n",
    "<br>\n",
    "σ = $\\sqrt{n.p()1-p)}$\n",
    "\n",
    "**Het verwachte gemiddelde**\n",
    "<br>\n",
    "µ = n.p\n",
    "\n",
    "### Functies\n",
    "**Kans op x aantal successen**\n",
    "```python\n",
    "stats.binom.pmf(k=2,n=4,p=2/6)\n",
    "```\n",
    "**Kans op GEEN x aantal successen**\n",
    "```python\n",
    "1 - stats.binom.pmf(k=2,n=4,p=2/6)\n",
    "```\n",
    "**Kans op x aantal keer of MINDER**\n",
    "```python\n",
    "stats.binom.cmf(k=2,n=4,p=2/6)\n",
    "```\n",
    "**Kans op x aantal keer of MEER**\n",
    "```python\n",
    "1 - stats.binom.cmf(k=2,n=4,p=2/6)\n",
    "```"
   ],
   "metadata": {
    "collapsed": false
   }
  },
  {
   "cell_type": "markdown",
   "source": [
    "### Voorbeeld\n",
    "Examen met 5 meerkeuzevragen. Iedere vraag heeft 4 mogelijke antwoorden, waarvan 1 juist\n",
    "* Wat is de kans dat we exact 2 vragen juist beantwoorden?\n",
    "* Wat is dus de kans om te slagen op dit examen?\n"
   ],
   "metadata": {
    "collapsed": false
   }
  },
  {
   "cell_type": "markdown",
   "source": [
    "*X=\"Wat is de kans op 2 successen\"*\n",
    "\n",
    "$X \\sim B(5,\\frac{1}{4})$\n"
   ],
   "metadata": {
    "collapsed": false
   }
  },
  {
   "cell_type": "code",
   "execution_count": 15,
   "outputs": [
    {
     "name": "stdout",
     "output_type": "stream",
     "text": [
      "Kans om exact 2 vragen juist te hebben: 0.264\n",
      "Kans om 2 vragen of MINDER juist te hebben: 0.896\n"
     ]
    }
   ],
   "source": [
    "from scipy.stats import binom\n",
    "n = 5\n",
    "p = 1/4\n",
    "x = 2\n",
    "print('Kans om exact 2 vragen juist te hebben: {:.3f}'.format(binom.pmf(k=x, n=5, p=p)))\n",
    "print('Kans om 2 vragen of MINDER juist te hebben: {:.3f}'.format(binom.cdf(k=x, n=5, p=p)))"
   ],
   "metadata": {
    "collapsed": false,
    "pycharm": {
     "name": "#%%\n"
    }
   }
  },
  {
   "cell_type": "markdown",
   "source": [
    "*X = \"Wat is de kans op 3 successen of meer\"* aka. \"Wat is de kans om te slagen?\"\n",
    "\n",
    "$X \\sim 1-B(5,\\frac{1}{4})$"
   ],
   "metadata": {
    "collapsed": false
   }
  },
  {
   "cell_type": "code",
   "execution_count": 16,
   "outputs": [
    {
     "data": {
      "text/plain": "0.103515625"
     },
     "execution_count": 16,
     "metadata": {},
     "output_type": "execute_result"
    }
   ],
   "source": [
    "1 - binom.cdf(k=2, n=n, p=p)"
   ],
   "metadata": {
    "collapsed": false,
    "pycharm": {
     "name": "#%%\n"
    }
   }
  },
  {
   "cell_type": "markdown",
   "source": [
    "We kunnen de kansen ook berekenen voor **alle** successen."
   ],
   "metadata": {
    "collapsed": false
   }
  },
  {
   "cell_type": "code",
   "execution_count": 17,
   "outputs": [
    {
     "name": "stdout",
     "output_type": "stream",
     "text": [
      "[0, 1, 2, 3, 4, 5]\n",
      "[0.23730469 0.39550781 0.26367187 0.08789062 0.01464844 0.00097656]\n"
     ]
    },
    {
     "data": {
      "text/plain": "<Figure size 432x288 with 1 Axes>",
      "image/png": "[encoded data removed]"
     },
     "metadata": {
      "needs_background": "light"
     },
     "output_type": "display_data"
    }
   ],
   "source": [
    "aantal_successen = range(6)\n",
    "p = 1/4 # kans op succes\n",
    "print(list(aantal_successen))\n",
    "kansverdeling = binom.pmf(k=aantal_successen, n=5, p=p)\n",
    "print(kansverdeling)\n",
    "_ = pd.Series(kansverdeling).plot.bar()"
   ],
   "metadata": {
    "collapsed": false,
    "pycharm": {
     "name": "#%%\n"
    }
   }
  },
  {
   "cell_type": "markdown",
   "source": [
    "De cumulatieve verdeling toont ook heel goed hoeveel de kans op slagen bedraagt.\n",
    "<br>\n",
    "*De rode staven visualiseren gewoon dat je niet geslaagd bent*\n"
   ],
   "metadata": {
    "collapsed": false
   }
  },
  {
   "cell_type": "code",
   "execution_count": 18,
   "outputs": [
    {
     "data": {
      "text/plain": "<Figure size 720x432 with 1 Axes>",
      "image/png": "[encoded data removed]"
     },
     "metadata": {
      "needs_background": "light"
     },
     "output_type": "display_data"
    }
   ],
   "source": [
    "cumulatieve_verdeling = binom.cdf(k=aantal_successen, n=5, p=p)\n",
    "ax = pd.Series(cumulatieve_verdeling).plot.bar(color = 3 *['red'] + 3* ['green'], label=\"cumulatieve verdeling\", figsize=(10,6))\n",
    "ax.axhline(cumulatieve_verdeling[2], linestyle ='--', color='black', label='Kans op buizen')\n",
    "_ = ax.legend()\n"
   ],
   "metadata": {
    "collapsed": false,
    "pycharm": {
     "name": "#%%\n"
    }
   }
  },
  {
   "cell_type": "markdown",
   "source": [
    "## Possionverdeling\n",
    "De kans dat de gebeurtenis zich K keer voordoet in een bepaalde tijdspanne.\n",
    "\n",
    "### Voorwaarden\n",
    "* een bepaalde gebeurtenis doet zich gemiddeld een aantal keer voor per tijdseenheid, maar\n",
    "er zit variatie op\n",
    "* we vragen ons af wat de kans is dat deze gebeurtenis zich een aantal keer zal voordoen\n",
    "binnen een bepaalde tijd\n",
    "\n",
    "### Eigenschappen\n",
    "K = de kans dat de gebeurtenis zich een aantal keer zal voordoen binnen een bepaalde tijd\n",
    "<br>\n",
    "bv. de kans dat er meer dan 10 oproepen per uur zouden binnen komen\n",
    "\n",
    "α(mu) = gemiddeld aantal keer dat een gebeurtenis zicht voordoet\n",
    "<br>\n",
    "bv. op een help-desk komen er gemiddeld 3 oproepen per uur binnen\n",
    "\n",
    "### Sigma & Mu\n",
    "**De standaard afwijking**\n",
    "<br>\n",
    "σ = $\\sqrt{α}$\n",
    "\n",
    "**Het verwachte gemiddelde**\n",
    "<br>\n",
    "µ = reeds gekent\n",
    "\n",
    "### Functies\n",
    "**Kans dat er 10 oproepen binnen komen als we er gemiddeld 3 krijgen**\n",
    "```python\n",
    "stats.poisson.pmf(10, 3)\n",
    "```\n",
    "**Kans dat er GEEN 10 oproepen binnen komen als we er gemiddeld 3 krijgen**\n",
    "```python\n",
    "1 - stats.poisson.pmf(10, 3)\n",
    "```\n",
    "**Kans op MINDER dan 10 oproepen als we er gemiddeld 3 krijgen**\n",
    "```python\n",
    "stats.poisson.cdf(10, 3)\n",
    "```\n",
    "**Kans op MEER dan 10 oproepen als we er gemiddeld 3 krijgen**\n",
    "```python\n",
    "1 - stats.poisson.cdf(10, 3)\n",
    "```\n",
    "### Inverse cumulatieve verdeling\n",
    "**Hoeveel mensen moeten we in dienst hebben om 95% van de tijd de klanten te kunnen helpen**\n",
    "\n",
    "```python\n",
    "stats.poisson.ppf(0.95, 3)\n",
    "```"
   ],
   "metadata": {
    "collapsed": false
   }
  },
  {
   "cell_type": "markdown",
   "source": [
    "## Normale kansverdeling\n",
    "Is een continue kansverdeling met twee parameters, de verwachtingswaarde µ en de standaardafwijking\n",
    "σ waarvan een kansdichtheid wordt terug gegeven die zich tussen een bepaalde waarde bevindt.\n",
    "\n",
    "### Voorwaarden\n",
    "* je beschouwt een continue variabele\n",
    "* je kent de waarden van de verwachte waarde (gemiddelde) en de standaardafwijking\n",
    "* de waarden zijn symmetrisch verdeeld rond de verwachte waarde\n",
    "* je vraagt je af wat de kans is dat een gemeten waarde tussen twee grenzen ligt\n",
    "\n",
    "### Eigenschappen\n",
    "µ(mu) = de gemiddelde waarden die we verwachten\n",
    "<br>bv. een lengte van 180cm\n",
    "\n",
    "σ(sigma) = de standaard afwijking\n",
    "<br>bv. een lengte van 10cm\n",
    "\n",
    "#### Functies\n",
    "*We afvragen ons af wat de kans is dat een student\n",
    "tussen de 175cm en 180cm groot is.*<br><br>\n",
    "**Kans dat er iemand een lengte heeft van 150**\n",
    "```python\n",
    "stats.norm.pdf(x=150, loc=180, scale=10)\n",
    "```\n",
    "**Kans op minder dan**\n",
    "```python\n",
    "stats.norm.cdf\n",
    "```\n",
    "**Kans op meer dan**\n",
    "```python\n",
    "1 - stats.norm.cdf\n",
    "```\n",
    "**Kans dat het tussen de 42 en 52 valt?**\n",
    "```python\n",
    "format(stats.norm.cdf(x=52,loc=50,scale=5)-norm.cdf(x=42,loc=-50,scale=5),'.4g')\n",
    "\n",
    "```\n",
    "**q = omzetten in aantallen (inverse van cdf functie)**\n",
    "```python\n",
    "print(format(stats.norm.ppf(q=0.16, loc=100, scale=15),'.4g'))\n",
    "```"
   ],
   "metadata": {
    "collapsed": false
   }
  },
  {
   "cell_type": "markdown",
   "source": [
    "De gemeten lengtes van jongens van 20 jaar is normaalverdeeld.\n",
    "\n",
    "X = \"De lengte van jongens van 20 jaar\"\n",
    "\n",
    "We verwachten een gemiddelde lengte van 180 cm met een standaardafwijking van 10 cm, dus:\n",
    "\n",
    "$$X \\sim N(\\mu, \\sigma)$$\n",
    "$$X \\sim N(180cm, 10cm)$$\n"
   ],
   "metadata": {
    "collapsed": false
   }
  },
  {
   "cell_type": "code",
   "execution_count": 24,
   "outputs": [
    {
     "data": {
      "text/plain": "<Figure size 576x432 with 1 Axes>",
      "image/png": "[encoded data removed]"
     },
     "metadata": {
      "needs_background": "light"
     },
     "output_type": "display_data"
    }
   ],
   "source": [
    "from scipy.stats import norm\n",
    "lengtes = np.linspace(150,210,100)\n",
    "kansverdeling = norm.pdf(lengtes, loc=180,scale=10)\n",
    "ax = pd.DataFrame(kansverdeling,index=lengtes, columns=['lengte\\njongens']).plot(figsize=(8,6))\n",
    "ax.axvline(180, color='red')\n",
    "ax.grid(linestyle = '--', axis='y')"
   ],
   "metadata": {
    "collapsed": false,
    "pycharm": {
     "name": "#%%\n"
    }
   }
  },
  {
   "cell_type": "code",
   "execution_count": null,
   "outputs": [],
   "source": [
    "1 - norm.cdf(x=190, loc=180, scale=10)"
   ],
   "metadata": {
    "collapsed": false,
    "pycharm": {
     "name": "#%%\n"
    }
   }
  },
  {
   "cell_type": "code",
   "execution_count": 25,
   "outputs": [
    {
     "data": {
      "text/plain": "<Figure size 504x360 with 1 Axes>",
      "image/png": "[encoded data removed]"
     },
     "metadata": {
      "needs_background": "light"
     },
     "output_type": "display_data"
    }
   ],
   "source": [
    "fig, ax = plt.subplots(figsize=(7,5))\n",
    "ax.plot(lengtes, kansverdeling)\n",
    "x = np.linspace(190,220,100)\n",
    "ax.axvline(180, color='red')\n",
    "ax.grid(linestyle='--', axis='y')\n",
    "_ = ax.fill_between(x, norm.pdf(x, loc=180, scale=10), alpha=0.3, edgecolor='black')"
   ],
   "metadata": {
    "collapsed": false,
    "pycharm": {
     "name": "#%%\n"
    }
   }
  },
  {
   "cell_type": "markdown",
   "source": [
    "## Centrummaten van de vorige kansverdelingen"
   ],
   "metadata": {
    "collapsed": false
   }
  },
  {
   "cell_type": "markdown",
   "source": [
    "X = \"Aantal ogen op de bovenzijde van een dobbelsteen\""
   ],
   "metadata": {
    "collapsed": false
   }
  },
  {
   "cell_type": "code",
   "execution_count": 26,
   "outputs": [
    {
     "name": "stdout",
     "output_type": "stream",
     "text": [
      "Gemiddeld gooi je met 1 dobbelsteen 3.5 ogen\n",
      "Met een standaardafwijking van 1.71\n"
     ]
    }
   ],
   "source": [
    "import math\n",
    "\n",
    "x  = np.arange(1,7)\n",
    "p = np.array([1/6] * 6)\n",
    "mu = (x * p).sum()\n",
    "sigma = math.sqrt(((x - mu)**2 * p).sum())\n",
    "print(\"Gemiddeld gooi je met 1 dobbelsteen {:.1f} ogen\".format(mu))\n",
    "print(\"Met een standaardafwijking van {:.2f}\".format(sigma))"
   ],
   "metadata": {
    "collapsed": false,
    "pycharm": {
     "name": "#%%\n"
    }
   }
  },
  {
   "cell_type": "markdown",
   "source": [
    "*X = \"Som van de ogen van 2 dobbelstenen\"*\n"
   ],
   "metadata": {
    "collapsed": false
   }
  },
  {
   "cell_type": "code",
   "execution_count": 27,
   "outputs": [
    {
     "name": "stdout",
     "output_type": "stream",
     "text": [
      "Gemiddeld gooi je met 2 dobbelstenen een som van 7.00\n",
      "Met een standaardafwijking van 2.42\n"
     ]
    }
   ],
   "source": [
    "x = dobbelstenen.som.value_counts().index.to_numpy()\n",
    "p = dobbelstenen.som.value_counts(normalize=True).to_numpy()\n",
    "mu = (x * p).sum()\n",
    "sigma = math.sqrt(((x - mu)**2 * p).sum())\n",
    "# x, counts = np.unique(dobbelstenen.som, return_counts=True)\n",
    "# p = counts / len(dobbelstenen)\n",
    "# mu = (x * p).sum()\n",
    "print(\"Gemiddeld gooi je met 2 dobbelstenen een som van {:.2f}\".format(mu))\n",
    "print(\"Met een standaardafwijking van {:.2f}\".format(sigma))"
   ],
   "metadata": {
    "collapsed": false,
    "pycharm": {
     "name": "#%%\n"
    }
   }
  },
  {
   "cell_type": "markdown",
   "source": [
    "X = \"10€ voor gooien van een 6, -1€ voor andere waarde\""
   ],
   "metadata": {
    "collapsed": false
   }
  },
  {
   "cell_type": "code",
   "execution_count": 28,
   "outputs": [
    {
     "name": "stdout",
     "output_type": "stream",
     "text": [
      "Op de lange termijn verdien je 0.83€ aan dit kansspel\n",
      "Maar het gaat wel zweten worden, want de standaardafwijking bedraagt 4.10\n"
     ]
    }
   ],
   "source": [
    "x = np.array([-1, 10])\n",
    "p = np.array([5/6, 1/6])\n",
    "mu = (x * p).sum()\n",
    "sigma = math.sqrt(((x - mu)**2 * p).sum())\n",
    "print(\"Op de lange termijn verdien je {:.2f}€ aan dit kansspel\".format(mu))\n",
    "print(\"Maar het gaat wel zweten worden, want de standaardafwijking bedraagt {:.2f}\".format(sigma))"
   ],
   "metadata": {
    "collapsed": false,
    "pycharm": {
     "name": "#%%\n"
    }
   }
  },
  {
   "cell_type": "markdown",
   "source": [
    "X = \"Aantal correct beantwoordde vragen op MC examen van 5 vragen met 4 opties\""
   ],
   "metadata": {
    "collapsed": false
   }
  },
  {
   "cell_type": "code",
   "execution_count": 30,
   "outputs": [
    {
     "name": "stdout",
     "output_type": "stream",
     "text": [
      "Gemiddelde correct beantwoorde vragen: 1.25\n",
      "Met een standaardafwijking van 0.97\n"
     ]
    }
   ],
   "source": [
    "n = 5\n",
    "p = 1/4\n",
    "\n",
    "mu = n * p\n",
    "sigma = math.sqrt(n * p * (1 - p))\n",
    "print(\"Gemiddelde correct beantwoorde vragen: {:.2f}\".format(mu))\n",
    "print(\"Met een standaardafwijking van {:.2f}\".format(sigma))"
   ],
   "metadata": {
    "collapsed": false,
    "pycharm": {
     "name": "#%%\n"
    }
   }
  },
  {
   "cell_type": "markdown",
   "source": [
    "# 3. Betrouwbaarheidsintervallen"
   ],
   "metadata": {
    "collapsed": false,
    "pycharm": {
     "name": "#%% md\n"
    }
   }
  },
  {
   "cell_type": "markdown",
   "source": [
    "## Normaalverdelingen"
   ],
   "metadata": {
    "collapsed": false
   }
  },
  {
   "cell_type": "markdown",
   "source": [
    "### Voor 1 laptop\n",
    "\n",
    "We testen het verbruik van 1 latop.\n",
    "\n",
    "<u>Toevalsveranderdelijke</u>:\n",
    "\n",
    "$X$ = \"Het verbruik van een laptop\"\n",
    "\n",
    "Stel dat we weten dat het verbruik van laptops normaal verdeeld is:\n",
    "* gemiddelde is $\\mu = 40$ Watt\n",
    "* standaardafwijking is $\\sigma = 20$ Watt\n",
    "\n",
    "Dus $X \\sim N(\\mu, \\sigma)$\n",
    "\n",
    "Wat is de kans dat het verbruik tussen x en y ligt?\n",
    "\n",
    "Wat is de kans dat het verbruik tussen $\\mu - 2\\cdot\\sigma$ en $\\mu + 2\\cdot\\sigma$ ligt?\n",
    "\n"
   ],
   "metadata": {
    "collapsed": false
   }
  },
  {
   "cell_type": "code",
   "execution_count": null,
   "outputs": [],
   "source": [
    "import matplotlib.pyplot as plt\n",
    "import numpy as np\n",
    "from scipy.stats import norm\n",
    "\n",
    "verbruik = norm(loc=40,scale=20)\n",
    "x = np.linspace(-20,100,100)\n",
    "a = np.linspace(20,30,100)\n",
    "b = np.linspace(40 - 2*20, 40 + 2*20)\n",
    "\n",
    "fig, ax = plt.subplots(1,1)\n",
    "ax.plot(x, verbruik.pdf(x))\n",
    "ax.axvline(x=40, color='red')\n",
    "ax.fill_between(b, verbruik.pdf(b), edgecolor='black', color='pink', alpha=0.3)\n",
    "ax.fill_between(a, verbruik.pdf(a), edgecolor='black', alpha=0.3)\n",
    "plt.show()\n",
    "print(\"Kans op verbruik tussen 20 en 30 is {:.3f}\".format(verbruik.cdf(30) - verbruik.cdf(20)))\n",
    "print(\"Kans op verbruik tussen 30 en 50 is {:.3f}\".format(verbruik.cdf(50) - verbruik.cdf(30)))\n",
    "\n",
    "print(\"Kans op verbruik tussen 0 en 80 is {:.3f}\".format(verbruik.cdf(80) - verbruik.cdf(0)))"
   ],
   "metadata": {
    "collapsed": false,
    "pycharm": {
     "name": "#%%\n"
    }
   }
  },
  {
   "cell_type": "markdown",
   "source": [
    "### Voor n laptops\n",
    "\n",
    "In dit geval testen we niet 1 laptop maar testen we er n. We nemen dus een steekproef van grootte n.\n",
    "\n",
    "<u>Toevalsveranderdelijke</u>:\n",
    "\n",
    "$\\bar{X}$ = \"Het gemiddeld verbruik van laptops in steekproef met grootte n\"\n",
    "\n",
    "We testen 30 laptops. Volgens de centrale limietstelling is $\\bar{X}$ normaal verdeeld met:\n",
    "\n",
    "* gemiddelde is $\\mu = 40$ Watt\n",
    "* standaardafwijking is $\\sigma = \\frac{20}{\\sqrt{30}}$ Watt\n",
    "\n",
    "Dus $\\bar{X} \\sim N(40, \\frac{20}{\\sqrt{30}})$"
   ],
   "metadata": {
    "collapsed": false
   }
  },
  {
   "cell_type": "code",
   "execution_count": null,
   "outputs": [],
   "source": [
    "import matplotlib.pyplot as plt\n",
    "import numpy as np\n",
    "from scipy.stats import norm\n",
    "import math\n",
    "\n",
    "n = 30\n",
    "\n",
    "steekproefverdeling = norm(loc=40,scale=20/math.sqrt(30))\n",
    "\n",
    "x = np.linspace(-20,100,100)\n",
    "a = np.linspace(20,30,100)\n",
    "b = np.linspace(40 - 2*20, 40 + 2*20)\n",
    "\n",
    "fig, ax = plt.subplots(1,1)\n",
    "ax.plot(x, steekproefverdeling.pdf(x))\n",
    "ax.axvline(x=40, color='red')\n",
    "ax.fill_between(b, steekproefverdeling.pdf(b), edgecolor='black', color='pink', alpha=0.3)\n",
    "ax.fill_between(a, steekproefverdeling.pdf(a), edgecolor='black', alpha=0.3)\n",
    "plt.show()\n",
    "print(\"Kans op gemiddeld verbruik tussen 20 en 30 is {:.3f}\".format(steekproefverdeling.cdf(30) - steekproefverdeling.cdf(20)))\n",
    "print(\"Kans op verbruik tussen 30 en 50 is {:.3f}\".format(verbruik.cdf(50) - verbruik.cdf(30)))\n",
    "print(\"Kans op gemiddeld verbruik tussen 0 en 80 is {:.3f}\".format(steekproefverdeling.cdf(80) - steekproefverdeling.cdf(0)))"
   ],
   "metadata": {
    "collapsed": false,
    "pycharm": {
     "name": "#%%\n"
    }
   }
  },
  {
   "cell_type": "markdown",
   "source": [
    "### Betrouwbaarheidsinterval **factor** berekenen bij normaalverdelingen"
   ],
   "metadata": {
    "collapsed": false
   }
  },
  {
   "cell_type": "markdown",
   "source": [
    "* p = 90%\n",
    "* p = 95%\n",
    "* p = 95.5%\n",
    "* ..\n",
    "\n",
    "Met de functie <code>norm.ppf</code>"
   ],
   "metadata": {
    "collapsed": false
   }
  },
  {
   "cell_type": "code",
   "execution_count": null,
   "outputs": [],
   "source": [
    "mijnverdeling = norm(loc=40, scale=20/np.sqrt(30))\n",
    "mijnverdeling.ppf([(1-0.955)/2, (1+0.955)/2])"
   ],
   "metadata": {
    "collapsed": false,
    "pycharm": {
     "name": "#%%\n"
    }
   }
  },
  {
   "cell_type": "code",
   "execution_count": null,
   "outputs": [],
   "source": [
    "standaardnormaal = norm()\n",
    "intervallen = [0.9, 0.95, 0.955, 0.99]\n",
    "\n",
    "\n",
    "for p in intervallen:\n",
    "  lg = (1 - p)/2\n",
    "  rg = (1 + p)/2\n",
    "\n",
    "  print(\"Factoren voor betrouwbaarheidsinterval van {:.1f}%\\n\".format(p*100))\n",
    "  print(\"In Z-scores: \", standaardnormaal.ppf(q=[lg, rg]))\n",
    "  print(\"In verbruik: \", verbruik.ppf(q=[lg,rg]))\n",
    "  print(\"In gemiddelde verbruik:\" , steekproefverdeling.ppf(q=[lg,rg]))\n",
    "  print()"
   ],
   "metadata": {
    "collapsed": false,
    "pycharm": {
     "name": "#%%\n"
    }
   }
  },
  {
   "cell_type": "markdown",
   "source": [
    "## Studentverdelingen\n",
    "\n",
    "Probleemstelling:\n",
    "\n",
    "* indien we $\\sigma$ door s benaderen, omdat we $\\sigma$ niet kennen OF\n",
    "* als n klein is (<30)\n",
    "\n",
    "$\\Rightarrow$ normaalverdeling is slechte benadering, gebruik Student t-verdeling"
   ],
   "metadata": {
    "collapsed": false
   }
  },
  {
   "cell_type": "code",
   "execution_count": null,
   "outputs": [],
   "source": [
    "import matplotlib.pyplot as plt\n",
    "import numpy as np\n",
    "from scipy.stats import t\n",
    "\n",
    "n = 30\n",
    "sd = 20\n",
    "\n",
    "studentverdeling = t(n-1)\n",
    "t = np.linspace(-4,4,100)\n",
    "a = np.linspace(-1,1, 100)\n",
    "b = np.linspace(0 - 2*1, 0 + 2*1, 100)\n",
    "\n",
    "fig, ax = plt.subplots(1,1)\n",
    "ax.plot(t, studentverdeling.pdf(t), label='t-verdeling')\n",
    "# ax.axvline(x=0, color='red')\n",
    "# ax.fill_between(b, studentverdeling.pdf(b), edgecolor='black', color='pink', alpha=0.3)\n",
    "# ax.fill_between(a, studentverdeling.pdf(a), edgecolor='black', alpha=0.3)\n",
    "ax.legend()\n",
    "plt.show()\n",
    "\n",
    "# we moeten nu t-scores gebruiken, want Student-verdeling is gecentreerd rond 0\n",
    "t1 = (20 - 40) / sd\n",
    "t2 = (30 - 40) / sd\n",
    "\n",
    "print(\"Kans op verbruik tussen 20 en 30 is {:.3f}\".format(studentverdeling.cdf(t2) - studentverdeling.cdf(t1)))\n",
    "t1 = (30 - 40) / sd\n",
    "t2 = (50 - 40) / sd\n",
    "print(\"Kans op verbruik tussen 30 en 50 is {:.3f}\".format(studentverdeling.cdf(t2) - studentverdeling.cdf(t1)))\n",
    "t1 = (0 - 40) / sd\n",
    "t2 = (80 - 40) / sd\n",
    "print(\"Kans op verbruik tussen 0 en 80 is {:.3f}\".format(studentverdeling.cdf(t2) - studentverdeling.cdf(t1)))"
   ],
   "metadata": {
    "collapsed": false,
    "pycharm": {
     "name": "#%%\n"
    }
   }
  },
  {
   "cell_type": "code",
   "execution_count": null,
   "outputs": [],
   "source": [
    "mu = 40\n",
    "s = 20\n",
    "x = 80\n",
    "\n",
    "t = (x - mu) / s\n",
    "t*s + mu"
   ],
   "metadata": {
    "collapsed": false,
    "pycharm": {
     "name": "#%%\n"
    }
   }
  },
  {
   "cell_type": "markdown",
   "source": [
    "### Voor n laptops\n",
    "\n",
    "We gaan er dus nu niet van uit dat we $\\sigma$ niet kennen, maar dat we enkel de standaardafwijking $s$ kennen.\n",
    "\n",
    "<u>Toevalsveranderdelijke</u>:\n",
    "\n",
    "$\\bar{X}$ = \"Het gemiddeld verbruik van laptops in steekproef met grootte n\"\n",
    "\n",
    "We testen 30 laptops.\n",
    "Ondanks dat de centrale limietstelling stelt dat $\\bar{X}$ normaalverdeeld is met parameters:\n",
    "\n",
    "* gemiddelde is $\\mu = 40$ Watt\n",
    "* standaardafwijking is $\\sigma = \\frac{20}{\\sqrt{30}}$ Watt\n",
    "\n",
    "gebruiken we **ditmaal** toch een studentverdeling: $\\bar{X} \\sim t(30-1)$"
   ],
   "metadata": {
    "collapsed": false
   }
  },
  {
   "cell_type": "code",
   "execution_count": null,
   "outputs": [],
   "source": [
    "import matplotlib.pyplot as plt\n",
    "import numpy as np\n",
    "from scipy.stats import t\n",
    "import math\n",
    "\n",
    "n = 30\n",
    "\n",
    "steekproefverdeling = t(n-1)\n",
    "\n",
    "t = np.linspace(-3,3,100)\n",
    "a = np.linspace(-1,1,100)\n",
    "b = np.linspace(0 - 2*1, 0 + 2*1)\n",
    "\n",
    "fig, ax = plt.subplots(1,1)\n",
    "ax.plot(t, steekproefverdeling.pdf(t), label='steekproefgemiddelde')\n",
    "ax.axvline(x=0, color='red')\n",
    "ax.fill_between(b, steekproefverdeling.pdf(b), edgecolor='black', color='pink', alpha=0.3)\n",
    "ax.fill_between(a, steekproefverdeling.pdf(a), edgecolor='black', alpha=0.3)\n",
    "ax.legend()\n",
    "plt.show()\n",
    "\n",
    "# print(\"Kans op gemiddeld verbruik tussen 20 en 30 is {:.3f}\".format(steekproefverdeling.cdf(30) - steekproefverdeling.cdf(20)))\n",
    "# print(\"Kans op verbruik tussen 30 en 50 is {:.3f}\".format(verbruik.cdf(50) - verbruik.cdf(30)))\n",
    "# print(\"Kans op gemiddeld verbruik tussen 0 en 80 is {:.3f}\".format(steekproefverdeling.cdf(80) - steekproefverdeling.cdf(0)))"
   ],
   "metadata": {
    "collapsed": false,
    "pycharm": {
     "name": "#%%\n"
    }
   }
  },
  {
   "cell_type": "markdown",
   "source": [
    "### Betrouwbaarheidsinterval **factor** berekenen bij normaalverdelingen"
   ],
   "metadata": {
    "collapsed": false
   }
  },
  {
   "cell_type": "markdown",
   "source": [
    "* p = 90%\n",
    "* p = 95%\n",
    "* p = 95.5%\n",
    "* ..\n",
    "\n",
    "Met de functie <code>norm.ppf</code>"
   ],
   "metadata": {
    "collapsed": false
   }
  },
  {
   "cell_type": "code",
   "execution_count": null,
   "outputs": [],
   "source": [
    "standaardnormaal = norm()\n",
    "intervallen = [0.9, 0.95, 0.955, 0.99]\n",
    "\n",
    "\n",
    "for p in intervallen:\n",
    "  lg = (1 - p)/2\n",
    "  rg = (1 + p)/2\n",
    "\n",
    "  print(\"Factoren voor betrouwbaarheidsinterval van {:.1f}%\\n\".format(p*100))\n",
    "  print(\"In Z-scores: \", standaardnormaal.ppf(q=[lg, rg]))\n",
    "  print(\"In verbruik: \", verbruik.ppf(q=[lg,rg]))\n",
    "  print(\"In gemiddelde verbruik:\" , steekproefverdeling.ppf(q=[lg,rg]))\n",
    "  print()\n",
    "\n"
   ],
   "metadata": {
    "collapsed": false,
    "pycharm": {
     "name": "#%%\n"
    }
   }
  },
  {
   "cell_type": "markdown",
   "source": [
    "# 4. Toetsen van een hypothese\n",
    "\n",
    "Bij toetsen gaan we uit van een veronderstelling en proberen na te gaan of we die kunnen bevestigen of verwerpen\n",
    "\n",
    "* Hypothese = Veronderstelling\n",
    "* We proberen de hypothese tegen te spreken\n",
    "* Als we een meting doen die in de lijn ligt met de veronderstelling, hebben we niks bewezen\n",
    "* Als we een meting doen die de hypothese tegen-spreekt, is er veel kans dat deze niet waar is\n"
   ],
   "metadata": {
    "collapsed": false
   }
  },
  {
   "cell_type": "markdown",
   "source": [
    "## Algemene stappenplan\n",
    "\n",
    "  1. formuleer de **hypotheses**\n",
    "  2. kies een **significantieniveau** $\\alpha$\n",
    "  3. doe een **steekproef** van grootte n\n",
    "  4. gaat het om een **eenzijdig** of **tweezijdig** toets?\n",
    "  5. stel een **aanvaardingsinterval** op: $p=1-\\alpha$ of $p=1-\\frac{\\alpha}{2}$ m.b.v. *een* verdeling of bepaal de **P-value**\n",
    "  6. trek een **besluit**"
   ],
   "metadata": {
    "collapsed": false
   }
  },
  {
   "cell_type": "markdown",
   "source": [
    "### Voorbeeld\n",
    "\n",
    "<u>Stap 1</u>\n",
    "\n",
    "* $H_0$: laptops verbruiken gemiddeld 31 Watt\n",
    "    * H0 : $\\mu = 31$\n",
    "* $H_1$: laptops verbruiken gemiddeld **meer of minder** dan 31 Watt\n",
    "    * H1 : $\\mu \\neq 31$\n",
    "\n",
    "<u>Stap 2</u>\n",
    "\n",
    "We kiezen $\\alpha=0.05$. We hebben dus nog altijd 5% kans dat ons besluit door (stom toeval) verkeerd zal zijn. Dit moet op **voorhand** gekozen worden, en daarom dat wetenschappers meestal ook meerdere studies doen alvorens ze besluiten trekken.\n",
    "\n",
    "<u>Stap 3</u>\n",
    "\n",
    "We doen een steekproef van met grootte $n=30$.  In principe zouden we kunnen opteren om een normaalverdeling te gebruiken, maar omdat computertools het nu veel makkelijker maken om de Student t-verdeling te gebruiken en $n$ tegen grens van 30 ligt, gebruiken we dus hier de Student t-verdeling.\n",
    "\n",
    "<u>Stap 4</u>\n",
    "Door de formulering van de alternatieve hypothese $H_1$ weten we dat het hier gaat om een tweezijdige toets.\n",
    "\n",
    "<u>Stap 5</u>\n",
    "\n",
    "* bepaal eerst de grenzen $t_1$ en $t_2$ van het aanvaardingsinterval op de t-verdeling. Bij tweezijdige toets zijn dit de waarden van t die horen bij $\\frac{\\alpha}{2}$ en $1 - \\frac{\\alpha}{2}$"
   ],
   "metadata": {
    "collapsed": false
   }
  },
  {
   "cell_type": "code",
   "execution_count": null,
   "outputs": [],
   "source": [
    "import numpy as np\n",
    "from scipy.stats import t\n",
    "a = 0.05\n",
    "n = 30\n",
    "s = 20\n",
    "x_bar = 40\n",
    "mu0 = 31\n",
    "\n",
    "steekproefverdeling = t(n-1)\n",
    "t1, t2 = steekproefverdeling.ppf(q=[a/2, 1-a/2])\n",
    "ts = np.array([t1,t2])\n",
    "print(ts)"
   ],
   "metadata": {
    "collapsed": false,
    "pycharm": {
     "name": "#%%\n"
    }
   }
  },
  {
   "cell_type": "markdown",
   "source": [
    "\n",
    "* Nu bepaal je wat de overeenkomstige x-waarden zijn van deze t-waarden. Hiervoor gebruik je de $\\mu$ uit de nulhypothese $H_0$, dus in ons geval is $\\mu_0 = 31$, want je gaat volgens $H_0$ uit van het feit dat de **steekproefgemiddeldes $\\bar{x}$** liggen tussen:\n",
    "\n",
    "$$\\mu_0 + t_1\\cdot\\frac{s}{\\sqrt{n}} < \\bar{x} < \\mu_0 + t_2\\cdot\\frac{s}{\\sqrt{n}}$$\n",
    "*Merk op: $t_1$ is negatief*"
   ],
   "metadata": {
    "collapsed": false
   }
  },
  {
   "cell_type": "code",
   "execution_count": null,
   "outputs": [],
   "source": [
    "grenzen = mu0 + ts*s/np.sqrt(n)\n",
    "grenzen"
   ],
   "metadata": {
    "collapsed": false,
    "pycharm": {
     "name": "#%%\n"
    }
   }
  },
  {
   "cell_type": "markdown",
   "source": [
    "<u>Conclusie</u>: we kunnen $H_0$ **wel** verwerpen, want ons steekproefgemiddelde $\\bar{x}=40$ valt **buiten** de grenzen van het aanvaardingsinterval"
   ],
   "metadata": {
    "collapsed": false
   }
  },
  {
   "cell_type": "markdown",
   "source": [
    "Stel dat $H_0$ echter stelde dat het gemiddelde verbruik 33 Watt is, $\\mu_0=33$\n"
   ],
   "metadata": {
    "collapsed": false
   }
  },
  {
   "cell_type": "code",
   "execution_count": null,
   "outputs": [],
   "source": [
    "mu0 = 33\n",
    "grenzen = mu0 + ts*s/np.sqrt(n)\n",
    "grenzen"
   ],
   "metadata": {
    "collapsed": false,
    "pycharm": {
     "name": "#%%\n"
    }
   }
  },
  {
   "cell_type": "markdown",
   "source": [
    "<u>Conclusie</u>: We kunnen $H_0$ **niet** verwerpen, want ons steekproefgemiddelde $\\bar{x}=40$ valt nu **binnen** de grenzen van het aanvaardingsinterval"
   ],
   "metadata": {
    "collapsed": false
   }
  },
  {
   "cell_type": "markdown",
   "source": [
    "<u>Stap 5b</u>\n",
    "\n",
    "Berekenen de P-value.\n",
    "\n",
    "De P-value is de **kans** dat we dit uitzonderlijke resultaat vinden in onze steekproef gegeven dat $H_0$ waar is.\n",
    "\n",
    "$$P-value = P(\\mu = \\bar{x} ~|~ H_0)$$"
   ],
   "metadata": {
    "collapsed": false
   }
  },
  {
   "cell_type": "code",
   "execution_count": null,
   "outputs": [],
   "source": [
    "#steekproefverdeling is een t-verdeling\n",
    "mu0 = 31\n",
    "x_bar = 40\n",
    "s = 20\n",
    "n = 30\n",
    "t = (x_bar - mu0)/(s/np.sqrt(n))\n",
    "print(t)\n",
    "p_value = 1 - steekproefverdeling.cdf(t)\n",
    "print(\"p-value={:.4f} is kleiner dan α/2={} --> verwerpen\".format(p_value,a))"
   ],
   "metadata": {
    "collapsed": false,
    "pycharm": {
     "name": "#%%\n"
    }
   }
  },
  {
   "cell_type": "code",
   "execution_count": null,
   "outputs": [],
   "source": [
    "#steekproefverdeling is een t-verdeling\n",
    "mu0 = 33\n",
    "x_bar = 40\n",
    "s = 20\n",
    "n = 30\n",
    "t = (x_bar - mu0)/(s/np.sqrt(n))\n",
    "print(t)\n",
    "p_value = 1 - steekproefverdeling.cdf(t)\n",
    "print(\"p-value={:.4f} is groter dan α/2={} --> niet verwerpen\".format(p_value,a/2))"
   ],
   "metadata": {
    "collapsed": false,
    "pycharm": {
     "name": "#%%\n"
    }
   }
  },
  {
   "cell_type": "markdown",
   "source": [
    "<u>Stap 6</u>\n",
    "\n",
    "Het besluit.\n",
    "\n",
    "We verwerpen de originele bewering dat laptops gemiddeld maar 31 Watt verbruiken ($H_0: \\mu=31$). De kans dat we dit foutief verwerpen (een Type I-fout) bedraagt 5% (het significantieniveau $\\alpha$)."
   ],
   "metadata": {
    "collapsed": false
   }
  },
  {
   "cell_type": "markdown",
   "source": [
    "## De kaasknoeiers\n",
    "\n",
    "In opdracht van een kaasfabriek onderzoeken we of sommige leveranciers knoeien met hun melk door er water toe te voegen. We nemen **5 opeenvolgende zendingen** melk en kijken op welke temperatuur deze bevriest. We weten dat het vriespunt van melk gelijk is aan -0,545°C met een standaardafwijking van 0,008°C. Het vriespunt van water is natuurlijk 0°C.\n",
    "\n",
    "In onze steekproef vinden we een gemiddeld vriespunt van -0,539 °C. Stel $\\alpha$ = 0,1"
   ],
   "metadata": {
    "collapsed": false
   }
  },
  {
   "cell_type": "markdown",
   "source": [],
   "metadata": {
    "collapsed": false
   }
  },
  {
   "cell_type": "markdown",
   "source": [
    "1. formuleer de hypotheses\n",
    "\n",
    "* $H_0 : \\mu = \\mu_0 = -0.545$\n",
    "* $H_1 : \\mu > \\mu_0$"
   ],
   "metadata": {
    "collapsed": false
   }
  },
  {
   "cell_type": "markdown",
   "source": [
    "2. kies een significantieniveau  α\n",
    "\n",
    "Opgave stelt dat $\\alpha=0.1$.\n",
    "Wat betekent dit?"
   ],
   "metadata": {
    "collapsed": false
   }
  },
  {
   "cell_type": "markdown",
   "source": [
    "3. doe een steekproef van grootte n\n",
    "\n",
    "Check, we hebben een steekproef gedaan met grootte $n=5$"
   ],
   "metadata": {
    "collapsed": false
   }
  },
  {
   "cell_type": "markdown",
   "source": [
    "4. gaat het om een eenzijdig of tweezijdig toets?\n",
    "\n",
    "De formulering van de hypothese maken dat het hier gaat om een **eenzijdige** toets, want als er geknoeid is dan moet de temperatuur van het mengsel stijgen door de toevoeging van water (met vriespunt 0°C)"
   ],
   "metadata": {
    "collapsed": false
   }
  },
  {
   "cell_type": "markdown",
   "source": [
    "5. stel een **aanvaardingsinterval** op: $p=1-\\alpha$ of $p=1-\\frac{\\alpha}{2}$ m.b.v. *een* verdeling of bepaal de **P-value**"
   ],
   "metadata": {
    "collapsed": false
   }
  },
  {
   "cell_type": "code",
   "execution_count": null,
   "outputs": [],
   "source": [
    "import matplotlib.pyplot as plt\n",
    "import numpy as np\n",
    "from scipy.stats import norm\n",
    "\n",
    "n = 5\n",
    "σ = 0.008\n",
    "μ = -0.545\n",
    "α = 0.1\n",
    "se = σ / np.sqrt(n)\n",
    "x_bar = -0.539\n",
    "\n",
    "steekproefverdeling = norm(loc=μ, scale=se)\n",
    "fa = norm.ppf(1-α)\n",
    "print(fa)\n",
    "\n",
    "grens = μ + fa * se\n",
    "print(steekproefverdeling.cdf(grens))\n",
    "print(grens)\n",
    "\n",
    "fig, ax = plt.subplots(1,1, figsize=(10,5))\n",
    "x = np.linspace(-0.56,-0.53,500)\n",
    "x1 = np.linspace(-0.56, grens, 500)\n",
    "x2 = np.linspace(grens, -0.53, 500)\n",
    "y = steekproefverdeling.pdf(x)\n",
    "ax.plot(x,y)\n",
    "ax.fill_between(x1, steekproefverdeling.pdf(x1), color='green', alpha=0.3, label='aanvaardingsinterval')\n",
    "ax.fill_between(x2, steekproefverdeling.pdf(x2), color='red', alpha=0.3, label='verwerpen')\n",
    "ax.axhline(y=0, color='black')\n",
    "ax.axvline(x=μ, color='red', label='μ')\n",
    "ax.axvline(x=grens, color='green', label='grens', linewidth=2, linestyle='--')\n",
    "ax.axvline(x=x_bar, color='purple', linewidth='2', linestyle='-.', label='steekproefgemiddelde')\n",
    "ax.grid(linestyle='--', axis='y')\n",
    "_ = ax.legend()"
   ],
   "metadata": {
    "collapsed": false,
    "pycharm": {
     "name": "#%%\n"
    }
   }
  },
  {
   "cell_type": "code",
   "execution_count": null,
   "outputs": [],
   "source": [
    "z = (x_bar -  μ)/se\n",
    "print(z)\n",
    "p_value = 1 - norm.cdf(x=z)\n",
    "p_value"
   ],
   "metadata": {
    "collapsed": false,
    "pycharm": {
     "name": "#%%\n"
    }
   }
  },
  {
   "cell_type": "markdown",
   "source": [
    "## Oplossing met Student-verdeling\n",
    "\n",
    "Zelf aanvullen, kan ook met Geogebra\n"
   ],
   "metadata": {
    "collapsed": false
   }
  }
 ],
 "metadata": {
  "kernelspec": {
   "display_name": "Python 3",
   "language": "python",
   "name": "python3"
  },
  "language_info": {
   "codemirror_mode": {
    "name": "ipython",
    "version": 2
   },
   "file_extension": ".py",
   "mimetype": "text/x-python",
   "name": "python",
   "nbconvert_exporter": "python",
   "pygments_lexer": "ipython2",
   "version": "2.7.6"
  }
 },
 "nbformat": 4,
 "nbformat_minor": 0
}