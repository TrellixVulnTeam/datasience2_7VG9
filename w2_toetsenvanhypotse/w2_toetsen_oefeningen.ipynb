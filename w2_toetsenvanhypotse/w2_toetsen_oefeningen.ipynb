{
 "cells": [
  {
   "cell_type": "markdown",
   "metadata": {
    "collapsed": true,
    "pycharm": {
     "name": "#%% md\n"
    }
   },
   "source": [
    "# Toetsen\n"
   ]
  },
  {
   "cell_type": "code",
   "execution_count": 3,
   "outputs": [],
   "source": [
    "import matplotlib.pyplot as plt\n",
    "import numpy as np\n",
    "from scipy.stats import norm"
   ],
   "metadata": {
    "collapsed": false,
    "pycharm": {
     "name": "#%%\n"
    }
   }
  },
  {
   "cell_type": "markdown",
   "source": [
    "### Vraag 1 Chi-kwadraad\n",
    "\n",
    "Open het bestand opgave ssp. Schaar steen papier is een spelletje waarbij je zelf een keuze\n",
    "maakt tussen deze drie. Is er echter een voorkeur bij onze scoutsleden van de selectietest?\n",
    "\n",
    "De verwachte verdeling is evenredig.\n",
    "Ga na of onze telling afwijkt van de verwachte verdeling\n"
   ],
   "metadata": {
    "collapsed": false,
    "pycharm": {
     "name": "#%% md\n"
    }
   }
  },
  {
   "cell_type": "code",
   "execution_count": 11,
   "outputs": [
    {
     "data": {
      "text/plain": "          hand\ncount       75\nunique       3\ntop     Schaar\nfreq        30",
      "text/html": "<div>\n<style scoped>\n    .dataframe tbody tr th:only-of-type {\n        vertical-align: middle;\n    }\n\n    .dataframe tbody tr th {\n        vertical-align: top;\n    }\n\n    .dataframe thead th {\n        text-align: right;\n    }\n</style>\n<table border=\"1\" class=\"dataframe\">\n  <thead>\n    <tr style=\"text-align: right;\">\n      <th></th>\n      <th>hand</th>\n    </tr>\n  </thead>\n  <tbody>\n    <tr>\n      <th>count</th>\n      <td>75</td>\n    </tr>\n    <tr>\n      <th>unique</th>\n      <td>3</td>\n    </tr>\n    <tr>\n      <th>top</th>\n      <td>Schaar</td>\n    </tr>\n    <tr>\n      <th>freq</th>\n      <td>30</td>\n    </tr>\n  </tbody>\n</table>\n</div>"
     },
     "execution_count": 11,
     "metadata": {},
     "output_type": "execute_result"
    }
   ],
   "source": [
    "import pandas as pd\n",
    "\n",
    "df = pd.read_csv (r'opgavessp.csv')\n",
    "df.head()\n",
    "\n",
    "df.describe()"
   ],
   "metadata": {
    "collapsed": false,
    "pycharm": {
     "name": "#%%\n"
    }
   }
  },
  {
   "cell_type": "markdown",
   "source": [
    "\n",
    "1.  Welke test ga je hiervoor gebruiken?\n",
    "<br>Chi kwadraad"
   ],
   "metadata": {
    "collapsed": false,
    "pycharm": {
     "name": "#%% md\n"
    }
   }
  },
  {
   "cell_type": "markdown",
   "metadata": {
    "collapsed": false,
    "pycharm": {
     "name": "#%% md\n"
    }
   },
   "source": [
    "2.  Hoe luidt $H_0$? De telling in onze steekproef is [wel/niet] evenredig verdeeld."
   ]
  },
  {
   "cell_type": "markdown",
   "metadata": {
    "collapsed": false,
    "pycharm": {
     "name": "#%% md\n"
    }
   },
   "source": [
    "3.  Wat is de waarde van $\\chi^2$? (3 beduidende cijfers)"
   ]
  },
  {
   "cell_type": "markdown",
   "metadata": {
    "collapsed": false,
    "pycharm": {
     "name": "#%% md\n"
    }
   },
   "source": [
    "4.  Wat is de kans dat een steekproef een hogere waarde dan $\\chi^2$ zou hebben (p-waarde)? (3 beduidende cijfers)"
   ]
  },
  {
   "cell_type": "markdown",
   "metadata": {
    "collapsed": false,
    "pycharm": {
     "name": "#%% md\n"
    }
   },
   "source": [
    "5.  Kan $H_0$ met een betrouwbaarheid van 95% verworpen worden?"
   ]
  },
  {
   "cell_type": "markdown",
   "metadata": {
    "collapsed": false,
    "pycharm": {
     "name": "#%% md\n"
    }
   },
   "source": [
    "6.  Kunnen we dus beweren dat de scoutsleden een voorkeur hebben?"
   ]
  },
  {
   "cell_type": "markdown",
   "metadata": {
    "collapsed": false,
    "pycharm": {
     "name": "#%% md\n"
    }
   },
   "source": [
    "### Vraag 2 Chi-kwadraad\n",
    "\n",
    "Open het bestand \"haarkleurBrussel.csv\". Het gaat om de gegevens over de kleur van het haar van een steekproef van mensen in Brussel.\n",
    "\n",
    "De verwachte verdeling van haarkleuren in Europa zijn: 30% blond, 12% rood, 30% bruin, 25% donker, en 3% zwart.\n",
    "\n",
    "Ga na of onze telling afwijkt van de verwachte verdeling\n",
    "\n",
    "1.  Welke test ga je hiervoor gebruiken?"
   ]
  },
  {
   "cell_type": "markdown",
   "metadata": {
    "collapsed": false,
    "pycharm": {
     "name": "#%% md\n"
    }
   },
   "source": [
    "2.  Hoe luidt $H_0$? De haarkleurentelling in onze steekproef wijkt [wel/niet] af van de verwachte verdeling."
   ]
  },
  {
   "cell_type": "markdown",
   "metadata": {
    "collapsed": false,
    "pycharm": {
     "name": "#%% md\n"
    }
   },
   "source": [
    "3.  Wat is de waarde van $\\chi^2$?"
   ]
  },
  {
   "cell_type": "markdown",
   "metadata": {
    "collapsed": false,
    "pycharm": {
     "name": "#%% md\n"
    }
   },
   "source": [
    "4.  Wat is p-value?"
   ]
  },
  {
   "cell_type": "markdown",
   "metadata": {
    "collapsed": false,
    "pycharm": {
     "name": "#%% md\n"
    }
   },
   "source": [
    "5.  Kan $H_0$ met een betrouwbaarheid van 95% wel of niet verworpen worden?"
   ]
  },
  {
   "cell_type": "markdown",
   "metadata": {
    "collapsed": false,
    "pycharm": {
     "name": "#%% md\n"
    }
   },
   "source": [
    "6.  Is er in Brussel een afwijking tov de verwachte verdeling?"
   ]
  },
  {
   "cell_type": "markdown",
   "metadata": {
    "collapsed": false,
    "pycharm": {
     "name": "#%% md\n"
    }
   },
   "source": [
    "### Vraag 3 Betrouwbaarheids interval\n",
    "\n",
    "We willen weten hoeveel requests een server gemiddeld per dag moet verwerken.\n",
    "Daarvoor doen we een meting. We meten gedurende 30 dagen en tellen iedere dag het aantal requests.\n",
    "\n",
    "We komen op een gemiddelde van 975 en een standaardafwijking gelijk aan 100.\n",
    "\n",
    "mu = 975 sd=100"
   ]
  },
  {
   "cell_type": "markdown",
   "metadata": {
    "collapsed": false,
    "pycharm": {
     "name": "#%% md\n"
    }
   },
   "source": [
    "1.  Tussen welke grenzen ligt dan het verwacht aantal requests per dag als we 95% zeker willen zijn?"
   ]
  },
  {
   "cell_type": "code",
   "execution_count": 4,
   "outputs": [
    {
     "data": {
      "text/plain": "array([ 938.40018438, 1011.59981562])"
     },
     "execution_count": 4,
     "metadata": {},
     "output_type": "execute_result"
    }
   ],
   "source": [
    "mijnverdeling = norm(loc=975, scale=100/np.sqrt(30))\n",
    "mijnverdeling.ppf([(1-0.955)/2, (1+0.955)/2])"
   ],
   "metadata": {
    "collapsed": false,
    "pycharm": {
     "name": "#%%\n"
    }
   }
  },
  {
   "cell_type": "markdown",
   "metadata": {
    "collapsed": false,
    "pycharm": {
     "name": "#%% md\n"
    }
   },
   "source": [
    "2.  Stel dat we hetzelfde gemiddelde en standaardafwijking vonden, maar met een steekproef van 100 dagen.\n",
    "Dan zijn we voor 95% zeker dat het verwachte aantal requests per dag tussen ... en ... ligt."
   ]
  },
  {
   "cell_type": "code",
   "execution_count": 6,
   "outputs": [
    {
     "data": {
      "text/plain": "array([954.95345538, 995.04654462])"
     },
     "execution_count": 6,
     "metadata": {},
     "output_type": "execute_result"
    }
   ],
   "source": [
    "# Hoe meer hoe zekerder we worden\n",
    "mijnverdeling = norm(loc=975, scale=100/np.sqrt(100))\n",
    "mijnverdeling.ppf([(1-0.955)/2, (1+0.955)/2])"
   ],
   "metadata": {
    "collapsed": false,
    "pycharm": {
     "name": "#%%\n"
    }
   }
  },
  {
   "cell_type": "markdown",
   "metadata": {
    "collapsed": false,
    "pycharm": {
     "name": "#%% md\n"
    }
   },
   "source": [
    "3.  Stel dat iemand beweert dat de server 1000 requests per dag moet verwerken.\n",
    "Kan je deze stelling dan ondersteunen of verwerpen in de twee gevallen? Je wil weer een zekerheid van 95%.\n",
    "\n",
    "Op een freqentie van 30 dagen kan je niet verwerpen de grenswaarde liggen namelijk tussen 938 en 1011.\n",
    "Op een frequentie van 100 dagen mag je wel verwerpen de grenswaarden liggen namelijk tussen 954 en 955."
   ]
  },
  {
   "cell_type": "markdown",
   "metadata": {
    "collapsed": false,
    "pycharm": {
     "name": "#%% md\n"
    }
   },
   "source": [
    "### Vraag 4\n",
    "\n",
    "Een fabriek maakt zakken cornflakes van 12 kg. Om dit te testen, worden regelmatig steekproeven gedaan.\n",
    "Daarbij worden 100 zakken gewogen.\n",
    "\n",
    "De eerste steekproef levert een gemiddelde van 11,9 kg en een standaardafwijking van 1 kg.\n",
    "We gebruiken een $\\alpha$=0,01."
   ]
  },
  {
   "cell_type": "markdown",
   "metadata": {
    "collapsed": false,
    "pycharm": {
     "name": "#%% md\n"
    }
   },
   "source": [
    "1.  Welke factor zal je gebruiken om het interval op te stellen?"
   ]
  },
  {
   "cell_type": "markdown",
   "metadata": {
    "collapsed": false,
    "pycharm": {
     "name": "#%% md\n"
    }
   },
   "source": [
    "2.  Moeten we de machine bijstellen?"
   ]
  },
  {
   "cell_type": "markdown",
   "metadata": {
    "collapsed": false,
    "pycharm": {
     "name": "#%% md\n"
    }
   },
   "source": [
    "Een tweede steekproef levert ook een gemiddelde van 11,9 kg, maar een standaardafwijking van 0,1 kg.\n",
    "\n",
    "3.  Welke factor gebruiken we deze keer?"
   ]
  },
  {
   "cell_type": "markdown",
   "metadata": {
    "collapsed": false,
    "pycharm": {
     "name": "#%% md\n"
    }
   },
   "source": [
    "4.  Moeten we de machine deze keer bijstellen?"
   ]
  },
  {
   "cell_type": "markdown",
   "metadata": {
    "collapsed": false,
    "pycharm": {
     "name": "#%% md\n"
    }
   },
   "source": [
    "### Vraag 5\n",
    "\n",
    "In opdracht van een kaasfabriek onderzoeken we of sommige leveranciers knoeien met hun melk door er water toe te voegen. We nemen 5 opeenvolgende zendingen melk en kijken op welke temperatuur deze bevriest. We weten dat het vriespunt van melk gelijk is aan -0,545°C met een standaardafwijking van 0,008°C. Het vriespunt van water is natuurlijk 0°C. In onze steekproef vinden we een gemiddeld vriespunt van -0,539 °C. Stel $\\alpha$ = 0,1"
   ]
  },
  {
   "cell_type": "markdown",
   "metadata": {
    "collapsed": false,
    "pycharm": {
     "name": "#%% md\n"
    }
   },
   "source": [
    "1.  Welke toets gaan we gebruiken?"
   ]
  },
  {
   "cell_type": "markdown",
   "metadata": {
    "collapsed": false,
    "pycharm": {
     "name": "#%% md\n"
    }
   },
   "source": [
    "2.  Moeten we deze toets eenzijdig of tweezijdig toepassen?"
   ]
  },
  {
   "cell_type": "markdown",
   "metadata": {
    "collapsed": false,
    "pycharm": {
     "name": "#%% md\n"
    }
   },
   "source": [
    "3.  Is er met de melk geknoeid?"
   ]
  },
  {
   "cell_type": "markdown",
   "metadata": {
    "collapsed": false,
    "pycharm": {
     "name": "#%% md\n"
    }
   },
   "source": [
    "4.  Wat is de kans dat het vorige antwoord verkeerd is?"
   ]
  },
  {
   "cell_type": "markdown",
   "metadata": {
    "collapsed": false,
    "pycharm": {
     "name": "#%% md\n"
    }
   },
   "source": [
    "### Vraag 6\n",
    "\n",
    "We wensen een programmeur aan te werven. We onderwerpen de kandidaten aan een test. We weten dat een goede programmeur een score van gemiddeld 100 haalt op deze test. Enkele (16) studenten van KdG bieden zich aan. We komen op een gemiddelde van 107,3 en een standaardafwijking van 8,0. Neem $\\alpha$=0,05. We vermoeden dat deze groep afwijkt van de gemiddelde populatie."
   ]
  },
  {
   "cell_type": "markdown",
   "metadata": {
    "collapsed": false,
    "pycharm": {
     "name": "#%% md\n"
    }
   },
   "source": [
    "1.  Welke toets gebruiken we?"
   ]
  },
  {
   "cell_type": "markdown",
   "metadata": {
    "collapsed": false,
    "pycharm": {
     "name": "#%% md\n"
    }
   },
   "source": [
    "2.  Welke factor gaan we gebruiken?"
   ]
  },
  {
   "cell_type": "markdown",
   "metadata": {
    "collapsed": false,
    "pycharm": {
     "name": "#%% md\n"
    }
   },
   "source": [
    "3.  We kunnen een interval opstellen waarbinnen we voor 95% zeker zijn dat KdG studenten gemiddeld scoren. Wat is de ondergrens van het interval?\n",
    "\n",
    "4.  Wat is de bovengrens van het interval?"
   ]
  },
  {
   "cell_type": "markdown",
   "metadata": {
    "collapsed": false,
    "pycharm": {
     "name": "#%% md\n"
    }
   },
   "source": [
    "5.  Kunnen we op basis van dit interval stellen dat KdG studenten beter scoren dan gemiddeld?"
   ]
  },
  {
   "cell_type": "markdown",
   "metadata": {
    "collapsed": false,
    "pycharm": {
     "name": "#%% md\n"
    }
   },
   "source": [
    "### Vraag 7\n",
    "\n",
    "Een onderzoek naar favoriete keuze browser van studenten.\n",
    "\n",
    "We verwachten de volgende verdeling:\n",
    "\n",
    "-   Internet explorer: 8\n",
    "-   Opera: 10\n",
    "-   Mozilla Firefox: 10\n",
    "-   Google chrome: 12\n",
    "\n",
    "Bij de navraag bij 1 klas blijkt de verdeling als volgt:\n",
    "\n",
    "-   Internet explorer: 17\n",
    "-   Opera: 10\n",
    "-   Mozilla Firefox: 8\n",
    "-   Google chrome: 5\n",
    "\n",
    "1.  Welke test ga je toepassen?"
   ]
  },
  {
   "cell_type": "markdown",
   "metadata": {
    "collapsed": false,
    "pycharm": {
     "name": "#%% md\n"
    }
   },
   "source": [
    "2.  Is deze afwijking binnen onze verwachtingen ($\\alpha$=0.01)?\n",
    "\n",
    "3.  Wat is de kritieke waarde bij deze gegevens?\n",
    "\n",
    "4.  Welke $\\chi^2$ waarde vind je?"
   ]
  },
  {
   "cell_type": "markdown",
   "metadata": {
    "collapsed": false,
    "pycharm": {
     "name": "#%% md\n"
    }
   },
   "source": [
    "5.  Welke p-waarde vind je?"
   ]
  },
  {
   "cell_type": "markdown",
   "metadata": {
    "collapsed": false,
    "pycharm": {
     "name": "#%% md\n"
    }
   },
   "source": [
    "### Vraag 8\n",
    "\n",
    "Een programmeur heeft een klasse geschreven om random gehele getallen tussen 0 en 10 te genereren. Deze code ziet er als volgt uit:\n",
    "\n",
    "```python\n",
    "import math\n",
    "\n",
    "class Random:\n",
    "    def __init__(self)-> None:\n",
    "        self.i = 0\n",
    "        self.j = 0\n",
    "\n",
    "    def random_tussen_0_en_10(self) -> int:\n",
    "        r = abs(math.sin(51 * self.i ** 2 + math.cos(80 * self.j)) + math.sin(300 * self.j + 3 * math.sin(111 * self.i - self.j)))\n",
    "        self.j += 1\n",
    "        if self.j > 100:\n",
    "            self.i +=1\n",
    "            if self.i > 100:\n",
    "                self.i = 0\n",
    "            self.j = 0\n",
    "\n",
    "        return math.floor(r * 5.5)\n",
    "```\n",
    "Schrijf een programma dat 1100 random getallen genereert en ga na of deze random getallen generator goed werkt (we verwachten dat ieder getal 0-10 evenveel voorkomt). Gebruik $\\alpha$=0.05."
   ]
  },
  {
   "cell_type": "markdown",
   "metadata": {
    "collapsed": false,
    "pycharm": {
     "name": "#%% md\n"
    }
   },
   "source": [
    "1.  Welke $\\chi^2$ waarde vind je?"
   ]
  },
  {
   "cell_type": "markdown",
   "metadata": {
    "collapsed": false
   },
   "source": [
    "2.  Welke p-waarde vind je?"
   ]
  },
  {
   "cell_type": "markdown",
   "metadata": {
    "collapsed": false,
    "pycharm": {
     "name": "#%% md\n"
    }
   },
   "source": [
    "3.  Wat is het betrouwbaarheidsinterval voor $\\alpha$=0.05?"
   ]
  },
  {
   "cell_type": "markdown",
   "metadata": {
    "collapsed": false,
    "pycharm": {
     "name": "#%% md\n"
    }
   },
   "source": [
    "4.  Welk besluit kan je trekken?"
   ]
  }
 ],
 "metadata": {
  "kernelspec": {
   "display_name": "Python 3",
   "language": "python",
   "name": "python3"
  },
  "language_info": {
   "codemirror_mode": {
    "name": "ipython",
    "version": 2
   },
   "file_extension": ".py",
   "mimetype": "text/x-python",
   "name": "python",
   "nbconvert_exporter": "python",
   "pygments_lexer": "ipython2",
   "version": "3.8.6-candidate"
  }
 },
 "nbformat": 4,
 "nbformat_minor": 0
}